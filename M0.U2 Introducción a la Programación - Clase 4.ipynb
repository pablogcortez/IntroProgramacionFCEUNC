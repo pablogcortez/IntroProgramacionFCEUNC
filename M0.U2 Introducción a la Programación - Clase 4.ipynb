{
 "cells": [
  {
   "cell_type": "markdown",
   "metadata": {
    "id": "7cUqukj4_P_A"
   },
   "source": [
    "![img](https://drive.google.com/uc?export=view&id=1kgX98Ziw9LzgBCT2BxChttfrTcBltLej)\n"
   ]
  },
  {
   "cell_type": "markdown",
   "metadata": {
    "id": "mgqhxY2yCx6i"
   },
   "source": [
    "# MÓDULO 0. Unidad 2 - Clase 4\n",
    "\n",
    "---\n",
    "\n",
    "> Librerías: Qué son y cómo se usan. Ejemplos.\n",
    "\n",
    "> Cálculos matriciales y entre arrays con Numpy.\n",
    "\n",
    "> Carga de datos en Python: manipulación de archivos de texto.\n",
    "\n",
    "> Importación y exportación de datos utilizando Pandas.\n"
   ]
  },
  {
   "cell_type": "markdown",
   "metadata": {
    "id": "Z9i5-cpq2Cxg"
   },
   "source": [
    "# Librerías"
   ]
  },
  {
   "cell_type": "markdown",
   "metadata": {
    "id": "GstwH_NNGHGv"
   },
   "source": [
    "Hasta ahora, hemos usado solamente funciones y estructuras disponibles en la instalación base de Python, pero una de las fortalezas del lenguaje es su comunidad y todo lo que ha creado para facilitar un montón de trabajo a lo largo del tiempo, gracias a las librerías creadas (y en proceso de creación).\n",
    "\n",
    "Una *librería* o *paquete* es código organizado en un conjunto de funciones implementadas por otras personas que nos facilitan realizar tareas, principalmente porque no debemos volver a programar este código. \n",
    "\n",
    "<img src=\"http://www.goalexandria.com/wp-content/uploads/2016/02/alt-lib.png\" width=200px>\n",
    "\n",
    "## ¿Cómo Usamos una Librería?\n",
    "\n",
    "Para utilizar cualquier librería primero debemos *importarla*. Para ello, se usa la *palabra clave* **`import`**, pero hay muchas formas de emplearla. Sabiendo esto, una posibilidad es utilizar la siguiente sintaxis:\n",
    "\n",
    "> **`import`** (nombre de la libreria) **`as`** (nombre abreviado)\n",
    "\n",
    "De esta forma, estamos habilitando el uso de todo lo que contiene el paquete importado. El comando **`as`** nos permite indicar el nombre que le damos a la librería dentro de nuestro código.\n"
   ]
  },
  {
   "cell_type": "code",
   "execution_count": null,
   "metadata": {
    "id": "wTRD4TD0zd4e"
   },
   "outputs": [],
   "source": [
    "import math as m\n",
    "\n",
    "print('El seno de 0 es ', m.sin(0), 'y el coseno', m.cos(0))"
   ]
  },
  {
   "cell_type": "markdown",
   "metadata": {
    "id": "gHbeMYxXzeHe"
   },
   "source": [
    "Por otro lado, las librerías muchas veces están separadas en distintos **módulos**. Podemos pensar entonces que una librería es como un estante de libros, donde en cada libro se encuentran las funciones de un tema en común. Incluso un \"libro\" podría estar subdividido en \"capítulos\". Es decir, los distintos módulos de una librería podrían llegar a estar subdivididos en submódulos, y cada submódulo podría estar nuevamente subdividido, etc.\n",
    "\n",
    "En el caso de que no querramos importar la librería completa, podemos importar sólo un módulo, de esta forma:\n",
    "\n",
    "> **`from`** (nombre de la libreria) **`import`** (nombre de un módulo) **`as`** (nombre abreviado)\n",
    "\n",
    "Análogamente a la importación anterior, se puede usar un punto para acceder a un módulo, como se muestra a continuación:\n",
    "\n",
    "> **`import`** (nombre de la libreria)**.**(nombre de un módulo) **`as`** (nombre abreviado)\n",
    "\n",
    "Una vez importada una librería, podremos utilizar las funciones definidas en ella. Para poder hacer uso y ejecutar una función que se encuentra en una librería, necesitamos especificarlo usando un punto entre el nombre de la librería (o su nombre abreviado) y la función. La sintaxis es la siguiente:\n",
    "\n",
    "> (nombre de la libreria)**.**función*(argumentos)*\n",
    "\n",
    "En el caso de importar una librería que se encuentre dividida en módulos, debemos especificar el módulo correspondiente a la función nuevamente con un punto:\n",
    "\n",
    "> (nombre de la libreria)**.**(nombre del módulo)**.**función*(argumentos)*\n"
   ]
  },
  {
   "cell_type": "code",
   "execution_count": null,
   "metadata": {
    "id": "NPtBY8VO24B4"
   },
   "outputs": [],
   "source": [
    "from math import sin,cos #Importamos directamente las funciones que usaremos (separadas por comas)\n",
    "\n",
    "print('El seno de 0 es ', sin(0), 'y el coseno', cos(0))"
   ]
  },
  {
   "cell_type": "code",
   "execution_count": null,
   "metadata": {
    "colab": {
     "base_uri": "https://localhost:8080/"
    },
    "collapsed": true,
    "executionInfo": {
     "elapsed": 1204,
     "status": "ok",
     "timestamp": 1620831439492,
     "user": {
      "displayName": "Julieta Bergamasco",
      "photoUrl": "https://lh3.googleusercontent.com/a-/AOh14Gj76Fya9qpsnNstBco6yIfIaZVXb7Fo7VQM4kn6bMs=s64",
      "userId": "15440307337842019852"
     },
     "user_tz": 180
    },
    "id": "pvT2S9nJ26rY",
    "jupyter": {
     "outputs_hidden": true
    },
    "outputId": "2aadfec5-f929-4183-ce34-15e3e7c96b7b"
   },
   "outputs": [
    {
     "name": "stdout",
     "output_type": "stream",
     "text": [
      "Carpeta/Archivo.rar\n"
     ]
    }
   ],
   "source": [
    "#En este caso usamos el módulo 'path' de la librería 'os' y lo apodamos 'pth'\n",
    "from os import path as pth\n",
    "\n",
    "print(pth.join('Carpeta', 'Archivo.rar'))"
   ]
  },
  {
   "cell_type": "markdown",
   "metadata": {
    "id": "yCmbBG-9z4ma"
   },
   "source": [
    "**Aclaraciones:**\n",
    "- **No es obligatorio especificar un nombre abreviado con `as`**, puede utilizarse una librería con su nombre original, omitiendo este comando. Sin embargo, utilizar abreviaturas puede simplificar la legibilidad del código.\n",
    "- Así como pueden importarse módulos de una librería, **también pueden importarse funciones sueltas**, según lo que necesiten. **Pero cuidado!** Los nombres de funciones deben ser únicos. Si importan una función directamente, entonces no podrán definir su propia función con el mismo nombre.\n",
    "- Es una **buena práctica** que todas las librerías se importen al principio del programa, o sea que las instrucciones de **`import`** se encuentren arriba de todo. Y es aún mejor práctica que los imports estén hechos en orden alfabético (aunque al principio sea mucho pedir)."
   ]
  },
  {
   "cell_type": "code",
   "execution_count": null,
   "metadata": {
    "id": "iOSDofLD22T4"
   },
   "outputs": [],
   "source": [
    "import math #Importamos la libreria math\n",
    "\n",
    "print('El seno de 0 es ', math.sin(0), 'y el coseno', math.cos(0))"
   ]
  },
  {
   "cell_type": "markdown",
   "metadata": {
    "id": "HzKJXAYX7VEL"
   },
   "source": [
    "A continuación veremos diversos ejemplos de librerías, no para que las aprendan de memoria, sino para que conozcan el potencial de estas herramientas y puedan aprender a utilizar otras librerías nuevas en el futuro, que se adapten a sus necesidades y problemáticas particulares.\n",
    "\n",
    "![Import all the things!](https://memegenerator.net/img/instances/60968180/python-programming-import-all-the-things.jpg)"
   ]
  },
  {
   "cell_type": "markdown",
   "metadata": {
    "id": "ye6V-CbH4Cu5"
   },
   "source": [
    "Algunas librerías muy conocidas y utilizadas, especialmente en ciencia de datos, son:\n",
    "\n",
    "*   [numpy](https://numpy.org/) (Cálculo matricial)\n",
    "*   [pandas](https://pandas.pydata.org/) (Lectura y manipulación de datos)\n",
    "*   [maplotlib](https://matplotlib.org/) (Gráficos)\n",
    "*   [seaborn](https://seaborn.pydata.org/) (Gráficos)\n",
    "*   [scipy](https://www.scipy.org/) (Ciencia de datos)\n",
    "*   [scikit-learn](https://scikit-learn.org) (Machine Learning)\n",
    "\n",
    "En clases siguientes indagaremos más acerca de estas librerías, utilizando **Pandas** para analizar archivos de información estructurada y **Matplotlib** o **Seaborn** para realizar gráficos y visualizaciones de esta información. Por el momento, vamos a inspeccionar otros paquetes \"menos complejos\", pero que también son de gran utilidad."
   ]
  },
  {
   "cell_type": "markdown",
   "metadata": {
    "id": "nxG7Oo-qGhXr"
   },
   "source": [
    "## Ejemplos de Librerías\n",
    "\n",
    "A continuación se presentan un conjunto de ejemplos con diversas librerías. Cada una de ellas ofrece muchas más opciones y capacidades, pero la idea es que les ayude a tener un panorama del tipo de herramientas que existen, y que se animen a buscar nuevas librerías que solucionen sus problemas específicos.\n",
    "\n",
    "Cabe destacar que algunas de estas librerías ya vienen incluídas con la instalación de Python, mientras que otras deben ser instaladas de forma independiente. En [este link](https://docs.python.org/3/library/) pueden investigar acerca de todas las librerías estándar que trae Python. Si cierta librería no se encuentra instalada en el sistema entonces el comando **`import`** para esa librería no funcionará con su instalación base de Python. \n",
    "\n",
    "La próxima clase ahondaremos más en la gestión y creación de entornos, donde aprenderán cómo instalar librerías nuevas no incluidas en la instalación de base, tanto en el entorno de Colab como en un entorno local.\n",
    "\n",
    "**Notas:**\n",
    "\n",
    "- Todas las librerías o paquetes cuentan con su **documentación**, la cual nos permite explorar los módulos que contiene y las funciones disponibles dentro de cada uno de ellos.\n",
    "- **Recurrir a la documentación** es muy útil e importante a la hora de entender cómo usar las herramientas disponibles en una librería."
   ]
  },
  {
   "cell_type": "markdown",
   "metadata": {
    "id": "xatrNCLt0P-o"
   },
   "source": [
    "### [math](https://docs.python.org/3/library/math.html#module-math)\n",
    "\n",
    "- *Compilado de funciones matemáticas básicas*"
   ]
  },
  {
   "cell_type": "code",
   "execution_count": null,
   "metadata": {
    "colab": {
     "base_uri": "https://localhost:8080/"
    },
    "collapsed": true,
    "executionInfo": {
     "elapsed": 962,
     "status": "ok",
     "timestamp": 1620866125063,
     "user": {
      "displayName": "Julieta Bergamasco",
      "photoUrl": "https://lh3.googleusercontent.com/a-/AOh14Gj76Fya9qpsnNstBco6yIfIaZVXb7Fo7VQM4kn6bMs=s64",
      "userId": "15440307337842019852"
     },
     "user_tz": 180
    },
    "id": "oI8cVCIDHS75",
    "jupyter": {
     "outputs_hidden": true
    },
    "outputId": "3438b17e-91b6-4bc0-890f-45549e6be6f8"
   },
   "outputs": [
    {
     "name": "stdout",
     "output_type": "stream",
     "text": [
      "Ceil de x 11\n",
      "Floor de x 10\n",
      "Trunc de x 10\n"
     ]
    }
   ],
   "source": [
    "import math\n",
    "\n",
    "x = 10.14\n",
    "print('Ceil de x', math.ceil(x))\n",
    "print('Floor de x', math.floor(x))\n",
    "print('Trunc de x', math.trunc(x))"
   ]
  },
  {
   "cell_type": "code",
   "execution_count": null,
   "metadata": {
    "colab": {
     "base_uri": "https://localhost:8080/"
    },
    "collapsed": true,
    "executionInfo": {
     "elapsed": 795,
     "status": "ok",
     "timestamp": 1620866133252,
     "user": {
      "displayName": "Julieta Bergamasco",
      "photoUrl": "https://lh3.googleusercontent.com/a-/AOh14Gj76Fya9qpsnNstBco6yIfIaZVXb7Fo7VQM4kn6bMs=s64",
      "userId": "15440307337842019852"
     },
     "user_tz": 180
    },
    "id": "rwgHXexOJl-E",
    "jupyter": {
     "outputs_hidden": true
    },
    "outputId": "300fc1de-659b-4932-f399-7f000bd31bc5"
   },
   "outputs": [
    {
     "name": "stdout",
     "output_type": "stream",
     "text": [
      "Ceil de x -10\n",
      "Floor de x -11\n",
      "Trunc de x -10\n"
     ]
    }
   ],
   "source": [
    "x = -10.14\n",
    "print('Ceil de x', math.ceil(x))\n",
    "print('Floor de x', math.floor(x))\n",
    "print('Trunc de x', math.trunc(x))"
   ]
  },
  {
   "cell_type": "code",
   "execution_count": null,
   "metadata": {
    "colab": {
     "base_uri": "https://localhost:8080/"
    },
    "collapsed": true,
    "executionInfo": {
     "elapsed": 758,
     "status": "ok",
     "timestamp": 1620866336827,
     "user": {
      "displayName": "Julieta Bergamasco",
      "photoUrl": "https://lh3.googleusercontent.com/a-/AOh14Gj76Fya9qpsnNstBco6yIfIaZVXb7Fo7VQM4kn6bMs=s64",
      "userId": "15440307337842019852"
     },
     "user_tz": 180
    },
    "id": "VT4HW_KsKU7Y",
    "jupyter": {
     "outputs_hidden": true
    },
    "outputId": "08419584-2fde-4db1-b2ec-6c6b0a4b4b21"
   },
   "outputs": [
    {
     "name": "stdout",
     "output_type": "stream",
     "text": [
      "24\n"
     ]
    }
   ],
   "source": [
    "print(math.factorial(4))"
   ]
  },
  {
   "cell_type": "markdown",
   "metadata": {
    "id": "2vUBryEyLeYj"
   },
   "source": [
    "### [copy](https://docs.python.org/3/library/copy.html)\n",
    "\n",
    "* *Copiado de estructuras de datos*"
   ]
  },
  {
   "cell_type": "code",
   "execution_count": null,
   "metadata": {
    "id": "G7nwn3RoLpsi"
   },
   "outputs": [],
   "source": [
    "# Por defecto Python NO copia estructuras de datos para ahorrar memoria:\n",
    "\n",
    "A = [1, 2, 3]\n",
    "B = A\n",
    "B += [4, 5, 6]\n",
    "\n",
    "# No modificamos directamente A, sin embargo su valor cambió\n",
    "# En este caso, 'B' es un nombre alternativo de 'A', no es una copia\n",
    "print(A)\n",
    "print(B)"
   ]
  },
  {
   "cell_type": "code",
   "execution_count": null,
   "metadata": {
    "id": "M5elhdB9MHRo"
   },
   "outputs": [],
   "source": [
    "# Con .copy() realizamos una copia real\n",
    "\n",
    "A = [1, 2, 3]\n",
    "B = A.copy()\n",
    "B += [4, 5, 6]\n",
    "\n",
    "print(A)\n",
    "print(B)"
   ]
  },
  {
   "cell_type": "code",
   "execution_count": null,
   "metadata": {
    "id": "KqkfQVUpMYHH"
   },
   "outputs": [],
   "source": [
    "# Usando sólo .copy() no alcanza para que se copien las estructuras internas\n",
    "# Esto se llama una copia 'superficial'\n",
    "# solamente la capa 'externa' es la que se copia\n",
    "\n",
    "A = [[1,2,3], [4,5,6], [7,8,9]]\n",
    "B = A.copy()\n",
    "B[0][0] = 999\n",
    "B += [10, 11, 12]\n",
    "\n",
    "print(A)\n",
    "print(B)"
   ]
  },
  {
   "cell_type": "code",
   "execution_count": null,
   "metadata": {
    "id": "8nYqyG2LM8PL"
   },
   "outputs": [],
   "source": [
    "# Con la librería copy y su funcióndeepcopy() realizamos una copia real\n",
    "# 'profunda' tal como queremos\n",
    "\n",
    "import copy\n",
    "\n",
    "A = [[1,2,3], [4,5,6], [7,8,9]]\n",
    "B = copy.deepcopy(A)\n",
    "B[0][0] = 999\n",
    "B += [10, 11, 12]\n",
    "\n",
    "# La lista A se mantiene intacta\n",
    "print(A)\n",
    "print(B)"
   ]
  },
  {
   "cell_type": "markdown",
   "metadata": {
    "id": "7ALMENyDOUuN"
   },
   "source": [
    "### [random](https://docs.python.org/3/library/random.html)\n",
    "\n",
    "* *Generación aleatoria de números*"
   ]
  },
  {
   "cell_type": "code",
   "execution_count": null,
   "metadata": {
    "id": "h3NXC4unOcBu"
   },
   "outputs": [],
   "source": [
    "import random\n",
    "\n",
    "opciones = ['Manzanas', 'Bananas', 'Naranjas']\n",
    "print(random.choice(opciones))"
   ]
  },
  {
   "cell_type": "code",
   "execution_count": null,
   "metadata": {
    "collapsed": true,
    "id": "7983CXceKsCB",
    "jupyter": {
     "outputs_hidden": true
    }
   },
   "outputs": [],
   "source": [
    "# La función shuffle modifica el elemento que recibe como argumento!\n",
    "random.shuffle(opciones)\n",
    "print(opciones)"
   ]
  },
  {
   "cell_type": "code",
   "execution_count": null,
   "metadata": {
    "collapsed": true,
    "id": "aOaQPLkSLwyV",
    "jupyter": {
     "outputs_hidden": true
    }
   },
   "outputs": [],
   "source": [
    "print(random.sample(opciones, k=2))"
   ]
  },
  {
   "cell_type": "code",
   "execution_count": null,
   "metadata": {
    "collapsed": true,
    "id": "g5vUqXLuMBlS",
    "jupyter": {
     "outputs_hidden": true
    }
   },
   "outputs": [],
   "source": [
    "print(random.sample(['red', 'red', 'red', 'red', 'blue', 'blue'], k=5))"
   ]
  },
  {
   "cell_type": "code",
   "execution_count": null,
   "metadata": {
    "collapsed": true,
    "id": "D2f3ZBgmLYGm",
    "jupyter": {
     "outputs_hidden": true
    }
   },
   "outputs": [],
   "source": [
    "# Entero aleatorio entre dos números (inclusive ambos)\n",
    "print(random.randint( 10, 20 ))\n",
    "\n",
    "# Decimal aleatorio entre [0.0, 1.0)\n",
    "print(random.random())\n",
    "\n",
    "# random.gauss(mu, sigma)\n",
    "print(random.gauss(0, 1))"
   ]
  },
  {
   "cell_type": "markdown",
   "metadata": {
    "id": "9TaGnqTJKhTJ"
   },
   "source": [
    "### [time](https://docs.python.org/3/library/time.html)\n",
    "\n",
    "* *Funciones relacionadas al manejo del tiempo*"
   ]
  },
  {
   "cell_type": "code",
   "execution_count": null,
   "metadata": {
    "colab": {
     "base_uri": "https://localhost:8080/"
    },
    "collapsed": true,
    "executionInfo": {
     "elapsed": 5671,
     "status": "ok",
     "timestamp": 1620859724226,
     "user": {
      "displayName": "Luis Biedma",
      "photoUrl": "https://lh3.googleusercontent.com/a-/AOh14GivnmLuRIxS9lUJIab_jBRyUUVXwgw6YDePJVsZRQ=s64",
      "userId": "05716356731980388913"
     },
     "user_tz": 180
    },
    "id": "BGEu_UzwKv2M",
    "jupyter": {
     "outputs_hidden": true
    },
    "outputId": "f6f1c400-5cf8-4b29-a095-08c30e19a55f"
   },
   "outputs": [
    {
     "name": "stdout",
     "output_type": "stream",
     "text": [
      "1\n",
      "2\n",
      "3\n",
      "4\n",
      "5\n",
      "Adiós!\n"
     ]
    }
   ],
   "source": [
    "import time\n",
    "\n",
    "print(1)\n",
    "time.sleep(1)\n",
    "print(2)\n",
    "time.sleep(1)\n",
    "print(3)\n",
    "time.sleep(1)\n",
    "print(4)\n",
    "time.sleep(1)\n",
    "print(5)\n",
    "time.sleep(1)\n",
    "print('Adiós!')"
   ]
  },
  {
   "cell_type": "code",
   "execution_count": null,
   "metadata": {
    "colab": {
     "base_uri": "https://localhost:8080/"
    },
    "collapsed": true,
    "executionInfo": {
     "elapsed": 1374,
     "status": "ok",
     "timestamp": 1620859817695,
     "user": {
      "displayName": "Luis Biedma",
      "photoUrl": "https://lh3.googleusercontent.com/a-/AOh14GivnmLuRIxS9lUJIab_jBRyUUVXwgw6YDePJVsZRQ=s64",
      "userId": "05716356731980388913"
     },
     "user_tz": 180
    },
    "id": "CkL7WlHQxINh",
    "jupyter": {
     "outputs_hidden": true
    },
    "outputId": "e44af7a8-0f32-42b6-de13-2dd653c7de94"
   },
   "outputs": [
    {
     "name": "stdout",
     "output_type": "stream",
     "text": [
      "Hola\n",
      "Imprimir esto nos tomó 0.00014925003051757812 segundos\n"
     ]
    }
   ],
   "source": [
    "start = time.time()\n",
    "print(\"Hola\")\n",
    "end = time.time()\n",
    "\n",
    "print(\"Imprimir esto nos tomó\", end - start, \"segundos\")"
   ]
  },
  {
   "cell_type": "code",
   "execution_count": null,
   "metadata": {
    "id": "B4qrlIrswi91"
   },
   "outputs": [],
   "source": [
    "%%time\n",
    "# Podemos imprimir el tiempo que toma correr una celda con %%time\n",
    "print(\"Hola\")"
   ]
  },
  {
   "cell_type": "markdown",
   "metadata": {
    "id": "sqEI3Do1Ip-D"
   },
   "source": [
    "### [datetime](https://docs.python.org/3/library/datetime.html)\n",
    "\n",
    "* *Manipulación de fechas y horarios*"
   ]
  },
  {
   "cell_type": "code",
   "execution_count": null,
   "metadata": {
    "id": "MaD4L7cANU5E"
   },
   "outputs": [],
   "source": [
    "from datetime import datetime, timedelta\n",
    "\n",
    "now = datetime.now()\n",
    "print(now)\n",
    "print(now.time())"
   ]
  },
  {
   "cell_type": "code",
   "execution_count": null,
   "metadata": {
    "id": "piv0wNnmNXFK"
   },
   "outputs": [],
   "source": [
    "print((now.year, now.month))"
   ]
  },
  {
   "cell_type": "code",
   "execution_count": null,
   "metadata": {
    "id": "Z4WGHq6iNyrz"
   },
   "outputs": [],
   "source": [
    "# Algo de f-strings\n",
    "print(f\"Hoy es {now:%B %d, %Y}\")"
   ]
  },
  {
   "cell_type": "code",
   "execution_count": null,
   "metadata": {
    "id": "3Tc-QRTdIfzt"
   },
   "outputs": [],
   "source": [
    "new_time = datetime(2010, 2, 6, 10, 8, 20, 0)\n",
    "                #(año, mes, dia, [hora, minuto, segundo, milisegundo])\n",
    "print(new_time)\n",
    "new_time = new_time + timedelta(days=31, hours=1)\n",
    "print(new_time)\n",
    "\n",
    "fin_de_año = datetime.strptime(\"31/12/2021\", \"%d/%m/%Y\")\n",
    "\n",
    "print(fin_de_año.strftime(\"%Y-%m-%d %H:%M\"))\n",
    "\n",
    "# Tener cuidado con Timezones"
   ]
  },
  {
   "cell_type": "markdown",
   "metadata": {
    "id": "_vOsYmofHtiY"
   },
   "source": [
    "### [NumPy](https://numpy.org/)\n",
    "* *Cálculo algebraico*\n",
    "\n",
    "NumPy permite crear vectores y matrices multidimensionales, junto con una gran colección de funciones matemáticas de alto nivel para operar con ellos de forma muy eficiente."
   ]
  },
  {
   "cell_type": "code",
   "execution_count": null,
   "metadata": {
    "id": "qYNa9QwtGm2d"
   },
   "outputs": [],
   "source": [
    "import numpy as np\n",
    "\n",
    "A = np.array([\n",
    "    [1,2,3],\n",
    "    [4,5,6],\n",
    "])\n",
    "B = np.array([[1,2], [4,5], [7,8]])\n",
    "C = np.dot(A, B)\n",
    "\n",
    "print('A =')\n",
    "print(A)\n",
    "print()\n",
    "print('B =')\n",
    "print(B)\n",
    "print()\n",
    "print('A*B =')\n",
    "print(C)"
   ]
  },
  {
   "cell_type": "code",
   "execution_count": null,
   "metadata": {
    "id": "NTRjCd5g3Sm3"
   },
   "outputs": [],
   "source": [
    "# Veamos la diferencia entre listas o arrays\n",
    "# Suma o producto de listas concatena\n",
    "a = [2, 4]\n",
    "print(a + a)\n",
    "print(a * 3)\n",
    "\n",
    "# Suma o producto de numpy arrays aplica la operación elemento a elemento\n",
    "a = np.array(a)\n",
    "print(a + a)\n",
    "print(a * 3)\n",
    "\n",
    "# Mostrar error de diferencias de dimensiones"
   ]
  },
  {
   "cell_type": "markdown",
   "metadata": {
    "id": "oAahKWT9fnbl"
   },
   "source": [
    "### [Matplotlib](https://matplotlib.org)\n",
    "* *Visualización de datos*"
   ]
  },
  {
   "cell_type": "code",
   "execution_count": null,
   "metadata": {
    "colab": {
     "base_uri": "https://localhost:8080/",
     "height": 283
    },
    "collapsed": true,
    "executionInfo": {
     "elapsed": 774,
     "status": "ok",
     "timestamp": 1620861643554,
     "user": {
      "displayName": "Luis Biedma",
      "photoUrl": "https://lh3.googleusercontent.com/a-/AOh14GivnmLuRIxS9lUJIab_jBRyUUVXwgw6YDePJVsZRQ=s64",
      "userId": "05716356731980388913"
     },
     "user_tz": 180
    },
    "id": "Sw-DP4kEgKMi",
    "jupyter": {
     "outputs_hidden": true
    },
    "outputId": "2aa5ea2a-3b94-4e4c-c40f-91dcbf3d0c78"
   },
   "outputs": [
    {
     "data": {
      "image/png": "[encoded data removed]",
      "text/plain": [
       "<Figure size 432x288 with 1 Axes>"
      ]
     },
     "metadata": {
      "needs_background": "light",
      "tags": []
     },
     "output_type": "display_data"
    }
   ],
   "source": [
    "# Ejemplo obtenido de la documentación de matplotlib para darse una idea del\n",
    "# uso de esta herramienta\n",
    "# No es necesario entender cómo funciona\n",
    "import numpy as np\n",
    "import matplotlib.pyplot as plt\n",
    "\n",
    "# example data\n",
    "mu = 100  # mean of distribution\n",
    "sigma = 15  # standard deviation of distribution\n",
    "x = mu + sigma * np.random.randn(437)\n",
    "\n",
    "num_bins = 50\n",
    "\n",
    "plt.plot(figsize=(14, 7))\n",
    "\n",
    "# the histogram of the data\n",
    "n, bins, patches = plt.hist(x, num_bins, density=True)\n",
    "\n",
    "# add a 'best fit' line\n",
    "y = ((1 / (np.sqrt(2 * np.pi) * sigma)) *\n",
    "     np.exp(-0.5 * (1 / sigma * (bins - mu))**2))\n",
    "plt.plot(bins, y, 'r--')\n",
    "plt.title(r'Histogram of IQ: $\\mu=100$, $\\sigma=15$')\n",
    "\n",
    "# Tweak spacing to prevent clipping of ylabel\n",
    "plt.show()"
   ]
  },
  {
   "cell_type": "markdown",
   "metadata": {
    "id": "wO_4LxNnqm_1"
   },
   "source": [
    "# Paréntesis: *f-strings*\n",
    "\n",
    "Como habrán notado, existen formas de \"*incrustar*\" variables en texto de una manera muy amigable gracias a las *formatted strings literals* (más conocidas por su nombre artístico *f-strings*).\n",
    "\n",
    "Esto nos salva de concatenar strings y hace mucho más legible el texto que querramos crear. Por ejemplo, nos hacen muy sencillo presentar un número como un porcentaje.\n",
    "\n"
   ]
  },
  {
   "cell_type": "code",
   "execution_count": null,
   "metadata": {
    "id": "afDPYJqqsN4O"
   },
   "outputs": [],
   "source": [
    "# format_spec ::= [[fill]align][sign][#][0][width][grouping_option][.precision][type]\n",
    "\n",
    "x = 0.253246\n",
    "\n",
    "print(f\"El porcentaje a dos decimales es {x:.2%}\")\n",
    "print(f\"En porcentaje a tres decimales es {x:.3%}\")"
   ]
  },
  {
   "cell_type": "markdown",
   "metadata": {
    "id": "DGSNK6SlsMtv"
   },
   "source": [
    "En [esta documentación](https://docs.python.org/3/library/string.html#formatstrings) encontrarán más información al respecto. Además, dentro del tutorial de python, pueden revisar [esta sección](https://docs.python.org/3/tutorial/inputoutput.html)."
   ]
  },
  {
   "cell_type": "markdown",
   "metadata": {
    "id": "ISbfwNZkHkVX"
   },
   "source": [
    "# Cálculos Matriciales y Entre *Arrays* con Numpy\n",
    "\n",
    "En la siguiente sección, profundizaremos sobre la utilización de la librería Numpy, que se usa principalmente para operar con matrices o *arrays*. Además, se resolverán ejercicios analizados durante la unidad previa de este módulo, en los que se aplicó álgebra lineal.\n",
    "\n",
    "El elemento básico sobre el que se opera en Numpy se lo denomina *array*. Un ***array*** en Numpy es lo que conocemos como vector o matriz y sus valores son listas con una restricción especial: que sus valores sean todos del mismo tipo.\n",
    "\n",
    "¿Se acuerdan que tenían una lista de actividades a resolver durante la nivelación en álgebra lineal? Si no lo recuerdan o no las hicieron, podemos resolver algunas con esta librería."
   ]
  },
  {
   "cell_type": "code",
   "execution_count": null,
   "metadata": {
    "id": "R4dlbxi8sM5j"
   },
   "outputs": [],
   "source": [
    "import numpy as np\n",
    "\n",
    "# Tenemos 3 matrices y varias operaciones para realizar entre ellas.\n",
    "\n",
    "A = np.array([\n",
    "    [3, 0.],\n",
    "    [-1, 2],\n",
    "    [1, 1],\n",
    "])\n",
    "\n",
    "B = np.array([\n",
    "    [4, -1.],\n",
    "    [0, 2],\n",
    "])\n",
    "\n",
    "C = np.array([\n",
    "    [1., 1, -1],\n",
    "    [2, -1, 1],\n",
    "])\n",
    "\n",
    "print(A @ B)\n",
    "print(B @ C)\n",
    "print(A @ A.T)\n",
    "print(A.T @ A)\n",
    "print(A + C.T)\n",
    "print(2 * A)"
   ]
  },
  {
   "cell_type": "code",
   "execution_count": null,
   "metadata": {
    "id": "jRQM-v3tsk9M"
   },
   "outputs": [],
   "source": [
    "# Sistemas lineales\n",
    "# x + y = 2\n",
    "# 5x + 6y = 9\n",
    "\n",
    "sistema = np.array([\n",
    "    [1., 1],\n",
    "    [5, 6],\n",
    "])\n",
    "vector = np.array([2, 9])\n",
    "print(np.linalg.solve(sistema, vector))\n",
    "\n",
    "# x + 3y + z = 0\n",
    "# 2x + 2y + z = -1\n",
    "# 2x + 3y + z = 2\n",
    "\n",
    "sistema = np.array([\n",
    "    [1., 3, 1],\n",
    "    [2, 2, 1],\n",
    "    [2, 3, 1],\n",
    "])\n",
    "vector = np.array([0, -1, 2])\n",
    "print(np.linalg.solve(sistema, vector))\n"
   ]
  },
  {
   "cell_type": "code",
   "execution_count": null,
   "metadata": {
    "id": "kCvIGo-SspJA"
   },
   "outputs": [],
   "source": [
    "# Determinar si dos vectores son ortogonales\n",
    "v = np.array([6., 2])\n",
    "w = np.array([-3, 1])\n",
    "print(np.dot(v, w) == 0.0)\n",
    "\n",
    "v = np.array([-1., 3, 2])\n",
    "w = np.array([4, 2, -1])\n",
    "print(np.dot(v, w) == 0.0)"
   ]
  },
  {
   "cell_type": "code",
   "execution_count": null,
   "metadata": {
    "id": "aM7rEsHUsqQ3"
   },
   "outputs": [],
   "source": [
    "# Determinante\n",
    "A = np.eye(4)\n",
    "print(A)\n",
    "print(np.linalg.det(A))\n",
    "\n",
    "B = 4 * A\n",
    "print(np.linalg.det(B))"
   ]
  },
  {
   "cell_type": "code",
   "execution_count": null,
   "metadata": {
    "id": "8crVF_Opzp2S"
   },
   "outputs": [],
   "source": [
    "# Autovalores y autovectores\n",
    "\n",
    "A = np.random.randn((3, 3))\n",
    "\n",
    "autovalores, autovectores = np.linalg.eig(A)\n",
    "print(autovalores)\n",
    "print(autovectores)"
   ]
  },
  {
   "cell_type": "markdown",
   "metadata": {
    "id": "RhnuEXhvHgK2"
   },
   "source": [
    "# Manipulación de Archivos de Texto (Datos No Estructurados)\n",
    "\n",
    "<img src=\"https://icons-for-free.com/iconfiles/png/512/document+file+page+paper+programming+icon-1320165844326114116.png\" height=150>\n",
    "\n",
    "Muchas veces es necesario realizar un programa que pueda procesar información que se encuentra en un formato particular, almacenados sin ninguna estructura en particular. A este tipo de datos los llamamos ***datos no estructurados***.\n",
    "\n",
    "El análisis de un texto es un ejemplo de un archivo para el cual necesitamos realizar una lectura en modo \"manual\". A manera introductoria, comenzaremos a aprender a manipular archivos de texto (*.txt*), dado que son simples y muy usados."
   ]
  },
  {
   "cell_type": "markdown",
   "metadata": {
    "id": "mj0twLv6Grdv"
   },
   "source": [
    "## Lectura\n",
    "\n",
    "Imaginemos que se necesita leer un archivo ***.txt*** con una noticia del diario y analizar su contenido. \n",
    "\n",
    "<img src=\"http://www.harfordcountyhealth.com/wp-content/uploads/2015/01/Newspaper.jpg\" width=300>\n",
    "\n",
    "A continuación, mostraremos un ejemplo donde se accede a la información de un archivo llamado \"**Noticia Inflación EEUU.txt**\". Normalmente, desde nuestra computadora podremos acceder a los archivos locales conociendo su ubicación en el disco (es decir que, en tanto se conozca la carpeta donde se ubique el archivo, éste se podrá abrir), pero Colab requiere cargar los archivos al entorno online antes de poder usarlos. Esto se puede realizar mediante el siguiente comando, que descarga un archivo de internet y lo carga al entorno de Colab:"
   ]
  },
  {
   "cell_type": "code",
   "execution_count": null,
   "metadata": {
    "colab": {
     "base_uri": "https://localhost:8080/"
    },
    "collapsed": true,
    "executionInfo": {
     "elapsed": 1111,
     "status": "ok",
     "timestamp": 1620995956639,
     "user": {
      "displayName": "Julieta Bergamasco",
      "photoUrl": "https://lh3.googleusercontent.com/a-/AOh14Gj76Fya9qpsnNstBco6yIfIaZVXb7Fo7VQM4kn6bMs=s64",
      "userId": "15440307337842019852"
     },
     "user_tz": 180
    },
    "id": "pJqU8NbcdnFh",
    "jupyter": {
     "outputs_hidden": true
    },
    "outputId": "3d5a0f33-21c1-4299-b401-bc4e8f5eef5c"
   },
   "outputs": [
    {
     "name": "stdout",
     "output_type": "stream",
     "text": [
      "--2021-05-14 12:39:16--  https://docs.google.com/uc?export=download&id=1YDkt6Ckvk-r-aoHcfvDQyJnXlgobPLCr\n",
      "Resolving docs.google.com (docs.google.com)... 172.217.12.238, 2607:f8b0:4004:807::200e\n",
      "Connecting to docs.google.com (docs.google.com)|172.217.12.238|:443... connected.\n",
      "HTTP request sent, awaiting response... 302 Moved Temporarily\n",
      "Location: https://doc-14-20-docs.googleusercontent.com/docs/securesc/ha0ro937gcuc7l7deffksulhg5h7mbp1/rq8h4fm6i90jlfnanuikg1rq76ga5hu9/1620995925000/15440307337842019852/*/1YDkt6Ckvk-r-aoHcfvDQyJnXlgobPLCr?e=download [following]\n",
      "Warning: wildcards not supported in HTTP.\n",
      "--2021-05-14 12:39:17--  https://doc-14-20-docs.googleusercontent.com/docs/securesc/ha0ro937gcuc7l7deffksulhg5h7mbp1/rq8h4fm6i90jlfnanuikg1rq76ga5hu9/1620995925000/15440307337842019852/*/1YDkt6Ckvk-r-aoHcfvDQyJnXlgobPLCr?e=download\n",
      "Resolving doc-14-20-docs.googleusercontent.com (doc-14-20-docs.googleusercontent.com)... 172.217.15.65, 2607:f8b0:4004:810::2001\n",
      "Connecting to doc-14-20-docs.googleusercontent.com (doc-14-20-docs.googleusercontent.com)|172.217.15.65|:443... connected.\n",
      "HTTP request sent, awaiting response... 200 OK\n",
      "Length: 3777 (3.7K) [text/plain]\n",
      "Saving to: ‘Noticia Inflación EEUU.txt’\n",
      "\n",
      "Noticia Inflación E 100%[===================>]   3.69K  --.-KB/s    in 0s      \n",
      "\n",
      "2021-05-14 12:39:17 (53.9 MB/s) - ‘Noticia Inflación EEUU.txt’ saved [3777/3777]\n",
      "\n"
     ]
    }
   ],
   "source": [
    "# Comando wget. Solo para maquinas Linux. Colab usa linux!\n",
    "! wget --no-check-certificate 'https://docs.google.com/uc?export=download&id=1YDkt6Ckvk-r-aoHcfvDQyJnXlgobPLCr' -O 'Noticia Inflación EEUU.txt'"
   ]
  },
  {
   "cell_type": "markdown",
   "metadata": {
    "id": "NM3Fc5ImWOWz"
   },
   "source": [
    "En este caso, abriremos el archivo con el comando **`open()`** de Python y guardaremos el contenido \"*crudo*\" en una lista de strings, separando por renglones. Si el archivo se encuentra en la misma carpeta que el programa en Python alcanza con indicar el nombre del archivo. En caso contrario, es necesario indicar la ubicación del mismo entre los paréntesis de **`open()`**.\n",
    "\n",
    "Por otro lado, para obtener una lista de renglones en el archivo utilizamos un *método* llamado **`readlines()`**."
   ]
  },
  {
   "cell_type": "code",
   "execution_count": null,
   "metadata": {
    "colab": {
     "base_uri": "https://localhost:8080/"
    },
    "collapsed": true,
    "executionInfo": {
     "elapsed": 801,
     "status": "ok",
     "timestamp": 1620995957732,
     "user": {
      "displayName": "Julieta Bergamasco",
      "photoUrl": "https://lh3.googleusercontent.com/a-/AOh14Gj76Fya9qpsnNstBco6yIfIaZVXb7Fo7VQM4kn6bMs=s64",
      "userId": "15440307337842019852"
     },
     "user_tz": 180
    },
    "id": "CmYQnfoCIqKF",
    "jupyter": {
     "outputs_hidden": true
    },
    "outputId": "69cd20e5-c6bb-463a-a2a7-80ac91996b90"
   },
   "outputs": [
    {
     "name": "stdout",
     "output_type": "stream",
     "text": [
      "['Inflación en Estados Unidos: subió muy fuerte en abril y la estimación anual trepó al mayor valor en 14 años\\n', '\\n', 'FINANZAS 12 Mayo 2021 - 10:50\\n', '\\n', 'El Índice de Precios al Consumidor (IPC) de Estados Unidos trepó 0,8% en abril y la inflación anual escaló de 3,6% a 4,2%. El IPC núcleo tuvo el alza mensual más alta desde 1982.\\n', '\\n', 'La Inflación en Estados Unidos creció 0,8% en abril y la estimación anualizada trepó de 3,6% a 4,2%, el mayor aumento en los últimos casi 14 años, y la segunda más alta desde la época del fin de la Guerra Fría. El dato arrastró a terreno negativo a los mercados internacionales y generó expectativa de otra suba de tasas del Tesoro estadounidense.\\n', '\\n', 'Según los datos del Departamento de Trabajo estadounidense, este incremento de precios en medio de la pandemia representa el mayor aumento interanual desde 2008, con el estallido económico de las hipotecas hipotecas subprime, que también puso en vilo a la economía mundial.\\n', '\\n', 'En comparación con marzo pasado, el índice de precios al consumidor subió un 0,8% en abril, muy por encima de las expectativas e impulsado por aumentos generalizados de precios, incluidos de los vehículos usados y los alimentos, según el informe oficial.\\n', '\\n', 'Además, el Índice de Precios al Consumidor (IPC) núcleo tuvo el alza mensual más alta desde 1982.\\n', '\\n', 'Con este dato los principales índices de Wall Street abrieron en baja, ya que se reavivó la preocupación por un aumento de tasas de interés de la Reserva Federal antes de lo esperado para combatir un eventual periodo de fuertes alzas de precios. Las tasas respondieron de inmediato con una suba del 5% en los bonos del Tesoro a 5 años.\\n', '\\n', 'En los primeros minutos de la jornada, el promedio industrial Dow Jones pierde 0,18% a 34.206,40 unidades; mientras que el índice S&P 500 cedía 0,52% a 4.130,55 unidades; y el índice compuesto Nasdaq retrocede 1,30% a 13.215,49 unidades.\\n', '\\n', 'La inflación anualizada de 4,2% es similar a la de 2008 y apenas unas décimas por debajo de los registros de la época del fin de la Guerra Fría con Rusia. Según los datos oficiales de EEUU, tras la caída del Muro de Berlín en 1989 la inflación anual de Estados Unidos fue de 5,1%, en 1990 fue 4,9% y en 1991 alcanzó nuevamente 5,1%.\\n', '\\n', 'La aceleración de la marca interanual de la inflación, que en marzo había alcanzado el 2,6%, se explica en parte por la comparación con los precios hace un año, especialmente el petróleo, afectados por la pandemia. La suba mensual se debió, a diferencia de meses anteriores, a los incrementos de bienes y servicios y no a los de los combustibles.\\n', '\\n', 'Entre las alzas, la de los autos usados, muy populares desde el inicio de la pandemia que ha alejado a muchos del centro de las ciudades, continuó subiendo, registrando con respecto a marzo el mayor incremento desde que se empezaron a registrar estos datos en 1953. Además, subieron las tarifas de hotel, boletos de avión, recreación, seguro de automóvil y mobiliario, detalló el Departamento de Trabajo de Estados Unidos.\\n', '\\n', 'Como resultado, excluyendo los precios volátiles de la energía y los alimentos, la denominada inflación subyacente fue de 0,9% en un mes, lo que representa el mayor aumento desde abril de 1982. Y del 3% en un año.\\n', '\\n', 'Otro índice, el PCE, que es utilizado por la Reserva Federal de Estados Unidos (Fed), había reportado un aumento del 2,3% en marzo en un año, por encima del objetivo del 2% de la Fed.\\n', '\\n', 'La pregunta que ahora enfrentan los mercados y los economistas es si esta subida de precios, que probablemente se acelerará en los próximos meses, durará o se estabilizará. Casi todas las empresas han informado, al publicar sus resultados trimestrales, aumentos de precios, reales o futuros.']\n"
     ]
    }
   ],
   "source": [
    "file = open(\"Noticia Inflación EEUU.txt\") # Guardamos el contenido del archivo en una variable\n",
    "\n",
    "contenido = file.readlines() # Obtenemos una lista de renglones\n",
    "print(contenido)"
   ]
  },
  {
   "cell_type": "code",
   "execution_count": null,
   "metadata": {
    "colab": {
     "base_uri": "https://localhost:8080/"
    },
    "collapsed": true,
    "executionInfo": {
     "elapsed": 652,
     "status": "ok",
     "timestamp": 1620995958198,
     "user": {
      "displayName": "Julieta Bergamasco",
      "photoUrl": "https://lh3.googleusercontent.com/a-/AOh14Gj76Fya9qpsnNstBco6yIfIaZVXb7Fo7VQM4kn6bMs=s64",
      "userId": "15440307337842019852"
     },
     "user_tz": 180
    },
    "id": "SZJ9SYxBWQCb",
    "jupyter": {
     "outputs_hidden": true
    },
    "outputId": "4d846ef1-b3f7-408d-f61b-d45cc4c89b3b"
   },
   "outputs": [
    {
     "name": "stdout",
     "output_type": "stream",
     "text": [
      "Fila 0: Inflación en Estados Unidos: subió muy fuerte en abril y la estimación anual trepó al mayor valor en 14 años\n",
      "\n",
      "Fila 1: \n",
      "\n",
      "Fila 2: FINANZAS 12 Mayo 2021 - 10:50\n",
      "\n",
      "Fila 3: \n",
      "\n",
      "Fila 4: El Índice de Precios al Consumidor (IPC) de Estados Unidos trepó 0,8% en abril y la inflación anual escaló de 3,6% a 4,2%. El IPC núcleo tuvo el alza mensual más alta desde 1982.\n",
      "\n",
      "Fila 5: \n",
      "\n",
      "Fila 6: La Inflación en Estados Unidos creció 0,8% en abril y la estimación anualizada trepó de 3,6% a 4,2%, el mayor aumento en los últimos casi 14 años, y la segunda más alta desde la época del fin de la Guerra Fría. El dato arrastró a terreno negativo a los mercados internacionales y generó expectativa de otra suba de tasas del Tesoro estadounidense.\n",
      "\n",
      "Fila 7: \n",
      "\n",
      "Fila 8: Según los datos del Departamento de Trabajo estadounidense, este incremento de precios en medio de la pandemia representa el mayor aumento interanual desde 2008, con el estallido económico de las hipotecas hipotecas subprime, que también puso en vilo a la economía mundial.\n",
      "\n",
      "Fila 9: \n",
      "\n"
     ]
    }
   ],
   "source": [
    "for i, line in enumerate(contenido):\n",
    "    if i<10:\n",
    "        print(f\"Fila {i}: {line}\") # Mostramos renglón a renglón las primeras 10 líneas"
   ]
  },
  {
   "cell_type": "markdown",
   "metadata": {
    "id": "ZKs68NfOX2JM"
   },
   "source": [
    "Luego de almacenar el contenido, podemos separarlo por palabras utilizando el método **`.split()`**"
   ]
  },
  {
   "cell_type": "code",
   "execution_count": null,
   "metadata": {
    "colab": {
     "base_uri": "https://localhost:8080/"
    },
    "collapsed": true,
    "executionInfo": {
     "elapsed": 713,
     "status": "ok",
     "timestamp": 1620995960642,
     "user": {
      "displayName": "Julieta Bergamasco",
      "photoUrl": "https://lh3.googleusercontent.com/a-/AOh14Gj76Fya9qpsnNstBco6yIfIaZVXb7Fo7VQM4kn6bMs=s64",
      "userId": "15440307337842019852"
     },
     "user_tz": 180
    },
    "id": "LCNVL9hVWb0i",
    "jupyter": {
     "outputs_hidden": true
    },
    "outputId": "47ba6bb8-cdf7-4823-c98e-95b8d02aa639"
   },
   "outputs": [
    {
     "name": "stdout",
     "output_type": "stream",
     "text": [
      "['Inflación', 'en', 'Estados', 'Unidos:', 'subió', 'muy', 'fuerte', 'en', 'abril', 'y', 'la', 'estimación', 'anual', 'trepó', 'al', 'mayor', 'valor', 'en', '14', 'años\\n', '\\n', 'FINANZAS', '12', 'Mayo', '2021', '-', '10:50\\n', '\\n', 'El', 'Índice', 'de', 'Precios', 'al', 'Consumidor', '(IPC)', 'de', 'Estados', 'Unidos', 'trepó', '0,8%', 'en', 'abril', 'y', 'la', 'inflación', 'anual', 'escaló', 'de', '3,6%', 'a', '4,2%.', 'El', 'IPC', 'núcleo', 'tuvo', 'el', 'alza', 'mensual', 'más', 'alta', 'desde', '1982.\\n', '\\n', 'La', 'Inflación', 'en', 'Estados', 'Unidos', 'creció', '0,8%', 'en', 'abril', 'y', 'la', 'estimación', 'anualizada', 'trepó', 'de', '3,6%', 'a', '4,2%,', 'el', 'mayor', 'aumento', 'en', 'los', 'últimos', 'casi', '14', 'años,', 'y', 'la', 'segunda', 'más', 'alta', 'desde', 'la', 'época', 'del', 'fin', 'de', 'la', 'Guerra', 'Fría.', 'El', 'dato', 'arrastró', 'a', 'terreno', 'negativo', 'a', 'los', 'mercados', 'internacionales', 'y', 'generó', 'expectativa', 'de', 'otra', 'suba', 'de', 'tasas', 'del', 'Tesoro', 'estadounidense.\\n', '\\n', 'Según', 'los', 'datos', 'del', 'Departamento', 'de', 'Trabajo', 'estadounidense,', 'este', 'incremento', 'de', 'precios', 'en', 'medio', 'de', 'la', 'pandemia', 'representa', 'el', 'mayor', 'aumento', 'interanual', 'desde', '2008,', 'con', 'el', 'estallido', 'económico', 'de', 'las', 'hipotecas', 'hipotecas', 'subprime,', 'que', 'también', 'puso', 'en', 'vilo', 'a', 'la', 'economía', 'mundial.\\n', '\\n', 'En', 'comparación', 'con', 'marzo', 'pasado,', 'el', 'índice', 'de', 'precios', 'al', 'consumidor', 'subió', 'un', '0,8%', 'en', 'abril,', 'muy', 'por', 'encima', 'de', 'las', 'expectativas', 'e', 'impulsado', 'por', 'aumentos', 'generalizados', 'de', 'precios,', 'incluidos', 'de', 'los', 'vehículos', 'usados', 'y', 'los', 'alimentos,', 'según', 'el', 'informe', 'oficial.\\n', '\\n', 'Además,', 'el', 'Índice', 'de', 'Precios', 'al', 'Consumidor', '(IPC)', 'núcleo', 'tuvo', 'el', 'alza', 'mensual', 'más', 'alta', 'desde', '1982.\\n', '\\n', 'Con', 'este', 'dato', 'los', 'principales', 'índices', 'de', 'Wall', 'Street', 'abrieron', 'en', 'baja,', 'ya', 'que', 'se', 'reavivó', 'la', 'preocupación', 'por', 'un', 'aumento', 'de', 'tasas', 'de', 'interés', 'de', 'la', 'Reserva', 'Federal', 'antes', 'de', 'lo', 'esperado', 'para', 'combatir', 'un', 'eventual', 'periodo', 'de', 'fuertes', 'alzas', 'de', 'precios.', 'Las', 'tasas', 'respondieron', 'de', 'inmediato', 'con', 'una', 'suba', 'del', '5%', 'en', 'los', 'bonos', 'del', 'Tesoro', 'a', '5', 'años.\\n', '\\n', 'En', 'los', 'primeros', 'minutos', 'de', 'la', 'jornada,', 'el', 'promedio', 'industrial', 'Dow', 'Jones', 'pierde', '0,18%', 'a', '34.206,40', 'unidades;', 'mientras', 'que', 'el', 'índice', 'S&P', '500', 'cedía', '0,52%', 'a', '4.130,55', 'unidades;', 'y', 'el', 'índice', 'compuesto', 'Nasdaq', 'retrocede', '1,30%', 'a', '13.215,49', 'unidades.\\n', '\\n', 'La', 'inflación', 'anualizada', 'de', '4,2%', 'es', 'similar', 'a', 'la', 'de', '2008', 'y', 'apenas', 'unas', 'décimas', 'por', 'debajo', 'de', 'los', 'registros', 'de', 'la', 'época', 'del', 'fin', 'de', 'la', 'Guerra', 'Fría', 'con', 'Rusia.', 'Según', 'los', 'datos', 'oficiales', 'de', 'EEUU,', 'tras', 'la', 'caída', 'del', 'Muro', 'de', 'Berlín', 'en', '1989', 'la', 'inflación', 'anual', 'de', 'Estados', 'Unidos', 'fue', 'de', '5,1%,', 'en', '1990', 'fue', '4,9%', 'y', 'en', '1991', 'alcanzó', 'nuevamente', '5,1%.\\n', '\\n', 'La', 'aceleración', 'de', 'la', 'marca', 'interanual', 'de', 'la', 'inflación,', 'que', 'en', 'marzo', 'había', 'alcanzado', 'el', '2,6%,', 'se', 'explica', 'en', 'parte', 'por', 'la', 'comparación', 'con', 'los', 'precios', 'hace', 'un', 'año,', 'especialmente', 'el', 'petróleo,', 'afectados', 'por', 'la', 'pandemia.', 'La', 'suba', 'mensual', 'se', 'debió,', 'a', 'diferencia', 'de', 'meses', 'anteriores,', 'a', 'los', 'incrementos', 'de', 'bienes', 'y', 'servicios', 'y', 'no', 'a', 'los', 'de', 'los', 'combustibles.\\n', '\\n', 'Entre', 'las', 'alzas,', 'la', 'de', 'los', 'autos', 'usados,', 'muy', 'populares', 'desde', 'el', 'inicio', 'de', 'la', 'pandemia', 'que', 'ha', 'alejado', 'a', 'muchos', 'del', 'centro', 'de', 'las', 'ciudades,', 'continuó', 'subiendo,', 'registrando', 'con', 'respecto', 'a', 'marzo', 'el', 'mayor', 'incremento', 'desde', 'que', 'se', 'empezaron', 'a', 'registrar', 'estos', 'datos', 'en', '1953.', 'Además,', 'subieron', 'las', 'tarifas', 'de', 'hotel,', 'boletos', 'de', 'avión,', 'recreación,', 'seguro', 'de', 'automóvil', 'y', 'mobiliario,', 'detalló', 'el', 'Departamento', 'de', 'Trabajo', 'de', 'Estados', 'Unidos.\\n', '\\n', 'Como', 'resultado,', 'excluyendo', 'los', 'precios', 'volátiles', 'de', 'la', 'energía', 'y', 'los', 'alimentos,', 'la', 'denominada', 'inflación', 'subyacente', 'fue', 'de', '0,9%', 'en', 'un', 'mes,', 'lo', 'que', 'representa', 'el', 'mayor', 'aumento', 'desde', 'abril', 'de', '1982.', 'Y', 'del', '3%', 'en', 'un', 'año.\\n', '\\n', 'Otro', 'índice,', 'el', 'PCE,', 'que', 'es', 'utilizado', 'por', 'la', 'Reserva', 'Federal', 'de', 'Estados', 'Unidos', '(Fed),', 'había', 'reportado', 'un', 'aumento', 'del', '2,3%', 'en', 'marzo', 'en', 'un', 'año,', 'por', 'encima', 'del', 'objetivo', 'del', '2%', 'de', 'la', 'Fed.\\n', '\\n', 'La', 'pregunta', 'que', 'ahora', 'enfrentan', 'los', 'mercados', 'y', 'los', 'economistas', 'es', 'si', 'esta', 'subida', 'de', 'precios,', 'que', 'probablemente', 'se', 'acelerará', 'en', 'los', 'próximos', 'meses,', 'durará', 'o', 'se', 'estabilizará.', 'Casi', 'todas', 'las', 'empresas', 'han', 'informado,', 'al', 'publicar', 'sus', 'resultados', 'trimestrales,', 'aumentos', 'de', 'precios,', 'reales', 'o', 'futuros.']\n"
     ]
    }
   ],
   "source": [
    "palabras = []\n",
    "\n",
    "for line in contenido:\n",
    "    palabras_linea = line.split(' ') # Separamos por espacios\n",
    "    for palabra in palabras_linea:   # por cada \"string\" separado por espacios\n",
    "        palabras.append(palabra)\n",
    "\n",
    "print(palabras)"
   ]
  },
  {
   "cell_type": "markdown",
   "metadata": {
    "id": "idd9lVBFYInK"
   },
   "source": [
    "Si prestamos atencion, vamos a notar que aparecen algunos ***carácteres no deseados*** entre las palabras (como `\\n` ó `:`). Cuando realizamos la lectura manual de un archivo de manera \"personalizada\", es común que ocurran esta clase de \"problemas\", los cuales debemos resolver con algunos ajustes a nuestro programa.\n",
    "\n",
    "En este caso los carácteres no deseados que podemos observar a simple vista son: `\\n` `:` `,` y `.`. Los caracteres que tienen la barra invertida *`\\`* son llamados '*secuencias de escape*' o '*escape characters*' y se utilizan para definir ciertos ***caracteres especiales*** dentro de strings. Por ejemplo **`\\n`** es el caracter que corresponde a una nueva línea, o lo que es lo mismo: lo que se almacena en memoria cuando se presiona la tecla **`Enter`**.\n",
    "\n",
    "Para filtrar estos caracteres especiales, usaremos de método de strings [**`replace()`**](https://www.geeksforgeeks.org/python-string-replace/) - ([*documentación de Python*](https://docs.python.org/3/library/stdtypes.html#str.replace)):\n",
    "\n"
   ]
  },
  {
   "cell_type": "code",
   "execution_count": null,
   "metadata": {
    "colab": {
     "base_uri": "https://localhost:8080/"
    },
    "collapsed": true,
    "executionInfo": {
     "elapsed": 870,
     "status": "ok",
     "timestamp": 1621003158620,
     "user": {
      "displayName": "Julieta Bergamasco",
      "photoUrl": "https://lh3.googleusercontent.com/a-/AOh14Gj76Fya9qpsnNstBco6yIfIaZVXb7Fo7VQM4kn6bMs=s64",
      "userId": "15440307337842019852"
     },
     "user_tz": 180
    },
    "id": "Q_mvfMWgYK3z",
    "jupyter": {
     "outputs_hidden": true
    },
    "outputId": "fec01ba2-b60a-440c-8d57-4143c88c47fd"
   },
   "outputs": [
    {
     "name": "stdout",
     "output_type": "stream",
     "text": [
      "['Inflación', 'en', 'Estados', 'Unidos', 'subió', 'muy', 'fuerte', 'en', 'abril', 'y', 'la', 'estimación', 'anual', 'trepó', 'al', 'mayor', 'valor', 'en', '14', 'años', 'FINANZAS', '12', 'Mayo', '2021', '-', '1050', 'El', 'Índice', 'de', 'Precios', 'al', 'Consumidor', '(IPC)', 'de', 'Estados', 'Unidos', 'trepó', '08%', 'en', 'abril', 'y', 'la', 'inflación', 'anual', 'escaló', 'de', '36%', 'a', '42%', 'El', 'IPC', 'núcleo', 'tuvo', 'el', 'alza', 'mensual', 'más', 'alta', 'desde', '1982', 'La', 'Inflación', 'en', 'Estados', 'Unidos', 'creció', '08%', 'en', 'abril', 'y', 'la', 'estimación', 'anualizada', 'trepó', 'de', '36%', 'a', '42%', 'el', 'mayor', 'aumento', 'en', 'los', 'últimos', 'casi', '14', 'años', 'y', 'la', 'segunda', 'más', 'alta', 'desde', 'la', 'época', 'del', 'fin', 'de', 'la', 'Guerra', 'Fría', 'El', 'dato', 'arrastró', 'a', 'terreno', 'negativo', 'a', 'los', 'mercados', 'internacionales', 'y', 'generó', 'expectativa', 'de', 'otra', 'suba', 'de', 'tasas', 'del', 'Tesoro', 'estadounidense', 'Según', 'los', 'datos', 'del', 'Departamento', 'de', 'Trabajo', 'estadounidense', 'este', 'incremento', 'de', 'precios', 'en', 'medio', 'de', 'la', 'pandemia', 'representa', 'el', 'mayor', 'aumento', 'interanual', 'desde', '2008', 'con', 'el', 'estallido', 'económico', 'de', 'las', 'hipotecas', 'hipotecas', 'subprime', 'que', 'también', 'puso', 'en', 'vilo', 'a', 'la', 'economía', 'mundial', 'En', 'comparación', 'con', 'marzo', 'pasado', 'el', 'índice', 'de', 'precios', 'al', 'consumidor', 'subió', 'un', '08%', 'en', 'abril', 'muy', 'por', 'encima', 'de', 'las', 'expectativas', 'e', 'impulsado', 'por', 'aumentos', 'generalizados', 'de', 'precios', 'incluidos', 'de', 'los', 'vehículos', 'usados', 'y', 'los', 'alimentos', 'según', 'el', 'informe', 'oficial', 'Además', 'el', 'Índice', 'de', 'Precios', 'al', 'Consumidor', '(IPC)', 'núcleo', 'tuvo', 'el', 'alza', 'mensual', 'más', 'alta', 'desde', '1982', 'Con', 'este', 'dato', 'los', 'principales', 'índices', 'de', 'Wall', 'Street', 'abrieron', 'en', 'baja', 'ya', 'que', 'se', 'reavivó', 'la', 'preocupación', 'por', 'un', 'aumento', 'de', 'tasas', 'de', 'interés', 'de', 'la', 'Reserva', 'Federal', 'antes', 'de', 'lo', 'esperado', 'para', 'combatir', 'un', 'eventual', 'periodo', 'de', 'fuertes', 'alzas', 'de', 'precios', 'Las', 'tasas', 'respondieron', 'de', 'inmediato', 'con', 'una', 'suba', 'del', '5%', 'en', 'los', 'bonos', 'del', 'Tesoro', 'a', '5', 'años', 'En', 'los', 'primeros', 'minutos', 'de', 'la', 'jornada', 'el', 'promedio', 'industrial', 'Dow', 'Jones', 'pierde', '018%', 'a', '3420640', 'unidades;', 'mientras', 'que', 'el', 'índice', 'S&P', '500', 'cedía', '052%', 'a', '413055', 'unidades;', 'y', 'el', 'índice', 'compuesto', 'Nasdaq', 'retrocede', '130%', 'a', '1321549', 'unidades', 'La', 'inflación', 'anualizada', 'de', '42%', 'es', 'similar', 'a', 'la', 'de', '2008', 'y', 'apenas', 'unas', 'décimas', 'por', 'debajo', 'de', 'los', 'registros', 'de', 'la', 'época', 'del', 'fin', 'de', 'la', 'Guerra', 'Fría', 'con', 'Rusia', 'Según', 'los', 'datos', 'oficiales', 'de', 'EEUU', 'tras', 'la', 'caída', 'del', 'Muro', 'de', 'Berlín', 'en', '1989', 'la', 'inflación', 'anual', 'de', 'Estados', 'Unidos', 'fue', 'de', '51%', 'en', '1990', 'fue', '49%', 'y', 'en', '1991', 'alcanzó', 'nuevamente', '51%', 'La', 'aceleración', 'de', 'la', 'marca', 'interanual', 'de', 'la', 'inflación', 'que', 'en', 'marzo', 'había', 'alcanzado', 'el', '26%', 'se', 'explica', 'en', 'parte', 'por', 'la', 'comparación', 'con', 'los', 'precios', 'hace', 'un', 'año', 'especialmente', 'el', 'petróleo', 'afectados', 'por', 'la', 'pandemia', 'La', 'suba', 'mensual', 'se', 'debió', 'a', 'diferencia', 'de', 'meses', 'anteriores', 'a', 'los', 'incrementos', 'de', 'bienes', 'y', 'servicios', 'y', 'no', 'a', 'los', 'de', 'los', 'combustibles', 'Entre', 'las', 'alzas', 'la', 'de', 'los', 'autos', 'usados', 'muy', 'populares', 'desde', 'el', 'inicio', 'de', 'la', 'pandemia', 'que', 'ha', 'alejado', 'a', 'muchos', 'del', 'centro', 'de', 'las', 'ciudades', 'continuó', 'subiendo', 'registrando', 'con', 'respecto', 'a', 'marzo', 'el', 'mayor', 'incremento', 'desde', 'que', 'se', 'empezaron', 'a', 'registrar', 'estos', 'datos', 'en', '1953', 'Además', 'subieron', 'las', 'tarifas', 'de', 'hotel', 'boletos', 'de', 'avión', 'recreación', 'seguro', 'de', 'automóvil', 'y', 'mobiliario', 'detalló', 'el', 'Departamento', 'de', 'Trabajo', 'de', 'Estados', 'Unidos', 'Como', 'resultado', 'excluyendo', 'los', 'precios', 'volátiles', 'de', 'la', 'energía', 'y', 'los', 'alimentos', 'la', 'denominada', 'inflación', 'subyacente', 'fue', 'de', '09%', 'en', 'un', 'mes', 'lo', 'que', 'representa', 'el', 'mayor', 'aumento', 'desde', 'abril', 'de', '1982', 'Y', 'del', '3%', 'en', 'un', 'año', 'Otro', 'índice', 'el', 'PCE', 'que', 'es', 'utilizado', 'por', 'la', 'Reserva', 'Federal', 'de', 'Estados', 'Unidos', '(Fed)', 'había', 'reportado', 'un', 'aumento', 'del', '23%', 'en', 'marzo', 'en', 'un', 'año', 'por', 'encima', 'del', 'objetivo', 'del', '2%', 'de', 'la', 'Fed', 'La', 'pregunta', 'que', 'ahora', 'enfrentan', 'los', 'mercados', 'y', 'los', 'economistas', 'es', 'si', 'esta', 'subida', 'de', 'precios', 'que', 'probablemente', 'se', 'acelerará', 'en', 'los', 'próximos', 'meses', 'durará', 'o', 'se', 'estabilizará', 'Casi', 'todas', 'las', 'empresas', 'han', 'informado', 'al', 'publicar', 'sus', 'resultados', 'trimestrales', 'aumentos', 'de', 'precios', 'reales', 'o', 'futuros']\n"
     ]
    }
   ],
   "source": [
    "palabras = []\n",
    "\n",
    "for line in contenido: # por cada línea en el contenido\n",
    "    \n",
    "    # eliminamos los distintos carácteres no deseados uno por uno, reemplazando\n",
    "    # por un caracter vacío ''.\n",
    "    line = line.replace('\\n','')\n",
    "    line = line.replace(':','')\n",
    "    line = line.replace(',','')\n",
    "    line = line.replace('.','')\n",
    "    \n",
    "    palabras_linea = line.split(' ') # separamos por espacios \n",
    "    \n",
    "    for palabra in palabras_linea: # por cada \"string\" separado por espacios\n",
    "        if palabra != '':\n",
    "            palabras.append(palabra) # solamente agregamos la palabra a la lista\n",
    "                                     # si esta palabra no es vacía.\n",
    "\n",
    "print(palabras)"
   ]
  },
  {
   "cell_type": "markdown",
   "metadata": {
    "id": "RIyBwATppoN3"
   },
   "source": [
    "Como podrán observar, entre las líneas 7 y 10 repetimos el mismo código. Podríamos simplificar esto utilizando una lista de caracteres indeseados y recorrer esa lista para ir remplazándolos.\n",
    "\n",
    "Además, una idea muy útil es pasar todo el texto a minúsculas para poder analizarlo de una manera más simple y homogénea. Por ejemplo, si quiero buscar una palabra, no voy a tener que considerar la posibilidad de que la primera letra sea mayúscula y el resto no.\n",
    "\n",
    "Veamos cómo hacemos que nuestro programa sea más sofisticado:"
   ]
  },
  {
   "cell_type": "code",
   "execution_count": null,
   "metadata": {
    "colab": {
     "base_uri": "https://localhost:8080/"
    },
    "collapsed": true,
    "executionInfo": {
     "elapsed": 772,
     "status": "ok",
     "timestamp": 1621003588343,
     "user": {
      "displayName": "Julieta Bergamasco",
      "photoUrl": "https://lh3.googleusercontent.com/a-/AOh14Gj76Fya9qpsnNstBco6yIfIaZVXb7Fo7VQM4kn6bMs=s64",
      "userId": "15440307337842019852"
     },
     "user_tz": 180
    },
    "id": "dIXbRM7Epnrs",
    "jupyter": {
     "outputs_hidden": true
    },
    "outputId": "f154b216-56f4-4ec2-f42a-16cc0378c204"
   },
   "outputs": [
    {
     "name": "stdout",
     "output_type": "stream",
     "text": [
      "['inflación', 'en', 'estados', 'unidos', 'subió', 'muy', 'fuerte', 'en', 'abril', 'y', 'la', 'estimación', 'anual', 'trepó', 'al', 'mayor', 'valor', 'en', '14', 'años', 'finanzas', '12', 'mayo', '2021', '-', '1050', 'el', 'índice', 'de', 'precios', 'al', 'consumidor', '(ipc)', 'de', 'estados', 'unidos', 'trepó', '08%', 'en', 'abril', 'y', 'la', 'inflación', 'anual', 'escaló', 'de', '36%', 'a', '42%', 'el', 'ipc', 'núcleo', 'tuvo', 'el', 'alza', 'mensual', 'más', 'alta', 'desde', '1982', 'la', 'inflación', 'en', 'estados', 'unidos', 'creció', '08%', 'en', 'abril', 'y', 'la', 'estimación', 'anualizada', 'trepó', 'de', '36%', 'a', '42%', 'el', 'mayor', 'aumento', 'en', 'los', 'últimos', 'casi', '14', 'años', 'y', 'la', 'segunda', 'más', 'alta', 'desde', 'la', 'época', 'del', 'fin', 'de', 'la', 'guerra', 'fría', 'el', 'dato', 'arrastró', 'a', 'terreno', 'negativo', 'a', 'los', 'mercados', 'internacionales', 'y', 'generó', 'expectativa', 'de', 'otra', 'suba', 'de', 'tasas', 'del', 'tesoro', 'estadounidense', 'según', 'los', 'datos', 'del', 'departamento', 'de', 'trabajo', 'estadounidense', 'este', 'incremento', 'de', 'precios', 'en', 'medio', 'de', 'la', 'pandemia', 'representa', 'el', 'mayor', 'aumento', 'interanual', 'desde', '2008', 'con', 'el', 'estallido', 'económico', 'de', 'las', 'hipotecas', 'hipotecas', 'subprime', 'que', 'también', 'puso', 'en', 'vilo', 'a', 'la', 'economía', 'mundial', 'en', 'comparación', 'con', 'marzo', 'pasado', 'el', 'índice', 'de', 'precios', 'al', 'consumidor', 'subió', 'un', '08%', 'en', 'abril', 'muy', 'por', 'encima', 'de', 'las', 'expectativas', 'e', 'impulsado', 'por', 'aumentos', 'generalizados', 'de', 'precios', 'incluidos', 'de', 'los', 'vehículos', 'usados', 'y', 'los', 'alimentos', 'según', 'el', 'informe', 'oficial', 'además', 'el', 'índice', 'de', 'precios', 'al', 'consumidor', '(ipc)', 'núcleo', 'tuvo', 'el', 'alza', 'mensual', 'más', 'alta', 'desde', '1982', 'con', 'este', 'dato', 'los', 'principales', 'índices', 'de', 'wall', 'street', 'abrieron', 'en', 'baja', 'ya', 'que', 'se', 'reavivó', 'la', 'preocupación', 'por', 'un', 'aumento', 'de', 'tasas', 'de', 'interés', 'de', 'la', 'reserva', 'federal', 'antes', 'de', 'lo', 'esperado', 'para', 'combatir', 'un', 'eventual', 'periodo', 'de', 'fuertes', 'alzas', 'de', 'precios', 'las', 'tasas', 'respondieron', 'de', 'inmediato', 'con', 'una', 'suba', 'del', '5%', 'en', 'los', 'bonos', 'del', 'tesoro', 'a', '5', 'años', 'en', 'los', 'primeros', 'minutos', 'de', 'la', 'jornada', 'el', 'promedio', 'industrial', 'dow', 'jones', 'pierde', '018%', 'a', '3420640', 'unidades;', 'mientras', 'que', 'el', 'índice', 's&p', '500', 'cedía', '052%', 'a', '413055', 'unidades;', 'y', 'el', 'índice', 'compuesto', 'nasdaq', 'retrocede', '130%', 'a', '1321549', 'unidades', 'la', 'inflación', 'anualizada', 'de', '42%', 'es', 'similar', 'a', 'la', 'de', '2008', 'y', 'apenas', 'unas', 'décimas', 'por', 'debajo', 'de', 'los', 'registros', 'de', 'la', 'época', 'del', 'fin', 'de', 'la', 'guerra', 'fría', 'con', 'rusia', 'según', 'los', 'datos', 'oficiales', 'de', 'eeuu', 'tras', 'la', 'caída', 'del', 'muro', 'de', 'berlín', 'en', '1989', 'la', 'inflación', 'anual', 'de', 'estados', 'unidos', 'fue', 'de', '51%', 'en', '1990', 'fue', '49%', 'y', 'en', '1991', 'alcanzó', 'nuevamente', '51%', 'la', 'aceleración', 'de', 'la', 'marca', 'interanual', 'de', 'la', 'inflación', 'que', 'en', 'marzo', 'había', 'alcanzado', 'el', '26%', 'se', 'explica', 'en', 'parte', 'por', 'la', 'comparación', 'con', 'los', 'precios', 'hace', 'un', 'año', 'especialmente', 'el', 'petróleo', 'afectados', 'por', 'la', 'pandemia', 'la', 'suba', 'mensual', 'se', 'debió', 'a', 'diferencia', 'de', 'meses', 'anteriores', 'a', 'los', 'incrementos', 'de', 'bienes', 'y', 'servicios', 'y', 'no', 'a', 'los', 'de', 'los', 'combustibles', 'entre', 'las', 'alzas', 'la', 'de', 'los', 'autos', 'usados', 'muy', 'populares', 'desde', 'el', 'inicio', 'de', 'la', 'pandemia', 'que', 'ha', 'alejado', 'a', 'muchos', 'del', 'centro', 'de', 'las', 'ciudades', 'continuó', 'subiendo', 'registrando', 'con', 'respecto', 'a', 'marzo', 'el', 'mayor', 'incremento', 'desde', 'que', 'se', 'empezaron', 'a', 'registrar', 'estos', 'datos', 'en', '1953', 'además', 'subieron', 'las', 'tarifas', 'de', 'hotel', 'boletos', 'de', 'avión', 'recreación', 'seguro', 'de', 'automóvil', 'y', 'mobiliario', 'detalló', 'el', 'departamento', 'de', 'trabajo', 'de', 'estados', 'unidos', 'como', 'resultado', 'excluyendo', 'los', 'precios', 'volátiles', 'de', 'la', 'energía', 'y', 'los', 'alimentos', 'la', 'denominada', 'inflación', 'subyacente', 'fue', 'de', '09%', 'en', 'un', 'mes', 'lo', 'que', 'representa', 'el', 'mayor', 'aumento', 'desde', 'abril', 'de', '1982', 'y', 'del', '3%', 'en', 'un', 'año', 'otro', 'índice', 'el', 'pce', 'que', 'es', 'utilizado', 'por', 'la', 'reserva', 'federal', 'de', 'estados', 'unidos', '(fed)', 'había', 'reportado', 'un', 'aumento', 'del', '23%', 'en', 'marzo', 'en', 'un', 'año', 'por', 'encima', 'del', 'objetivo', 'del', '2%', 'de', 'la', 'fed', 'la', 'pregunta', 'que', 'ahora', 'enfrentan', 'los', 'mercados', 'y', 'los', 'economistas', 'es', 'si', 'esta', 'subida', 'de', 'precios', 'que', 'probablemente', 'se', 'acelerará', 'en', 'los', 'próximos', 'meses', 'durará', 'o', 'se', 'estabilizará', 'casi', 'todas', 'las', 'empresas', 'han', 'informado', 'al', 'publicar', 'sus', 'resultados', 'trimestrales', 'aumentos', 'de', 'precios', 'reales', 'o', 'futuros']\n"
     ]
    }
   ],
   "source": [
    "palabras = []\n",
    "no_deseados = ['\\n', ':', ',', '.']\n",
    "\n",
    "for line in contenido: # por cada línea en el contenido\n",
    "    \n",
    "    # eliminamos los distintos carácteres no deseados recorriendo la lista\n",
    "    # definida previamente, reemplazandolos por un caracter vacío ''.\n",
    "    for caracter in no_deseados:\n",
    "        line = line.replace(caracter,'')\n",
    "    \n",
    "    palabras_linea = line.split(' ') # separamos por espacios \n",
    "    \n",
    "    for palabra in palabras_linea: # por cada \"string\" separado por espacios\n",
    "        if palabra != '':\n",
    "            palabras.append(palabra.lower()) # convertimos todo a mayuscula\n",
    "\n",
    "print(palabras)"
   ]
  },
  {
   "cell_type": "markdown",
   "metadata": {
    "id": "BsOiRz0V5RrZ"
   },
   "source": [
    "## **Ejercicio 1:** Archivos de texto\n",
    "\n",
    "1. ¿Qué cantidad de palabras tiene el artículo?\n",
    "2. Encontrar la cantidad de ocurrencias de las palabras \"**inflación**\" e \"**índice**\" en el texto de la noticia.\n",
    "3. ¿Cuántas veces se menciona \"**precio**\" o \"**precios**\"?\n",
    "4. ¿Cuántas veces se repite la palabra más frecuente? ¿Cuál es esa palabra?"
   ]
  },
  {
   "cell_type": "code",
   "execution_count": null,
   "metadata": {
    "id": "5PtKWm7R24VS"
   },
   "outputs": [],
   "source": [
    "# Ayudita\n",
    "\n",
    "frecuencia = {}\n",
    "\n",
    "for palabra in palabras:\n",
    "    frecuencia[palabra] = frecuencia.get(palabra, 0) + 1"
   ]
  },
  {
   "cell_type": "code",
   "execution_count": null,
   "metadata": {
    "id": "RXoQbvRFH5ug"
   },
   "outputs": [],
   "source": []
  },
  {
   "cell_type": "markdown",
   "metadata": {
    "id": "FKY4waIfk4wx"
   },
   "source": [
    "# Importación y Exportación de Datos Utilizando Pandas (Datos Estructurados)\n",
    "\n",
    "Lo cierto es que, en la mayoría de los casos de uso que verán, lo más común será encontrarse con archivos con formato ***.csv*** o ***.xlsx***, que contienen datos con cierta estructura.\n",
    "\n",
    "Para importar datos de este tipo, existe una librería que nos facilitará mucho la tarea, ya que está pensada y diseñada para el manejo de datos. [**Pandas**](https://pandas.pydata.org/docs/reference/index.html#api) es un paquete de manipulación de datos de alto nivel y que está construída sobre **Numpy** (podemos pensarla como una capa superior).\n",
    "\n",
    "En esta sección aprenderemos cómo importar datos a nuestro programa y también cómo podemos guardarlos nuevamente."
   ]
  },
  {
   "cell_type": "markdown",
   "metadata": {
    "id": "NfZfghr7fVUO"
   },
   "source": [
    "## Importación de Datos\n",
    "\n",
    "La función de Pandas que nos permite leer un csv es **`read_csv()`**, donde como argumento recibe la ubicación del archivo que queremos leer. Veamos un ejemplo, en el que guardamos los datos leidos en una variable `df`, utilizando los datos de muestra que tenemos en Colab:"
   ]
  },
  {
   "cell_type": "code",
   "execution_count": null,
   "metadata": {
    "colab": {
     "base_uri": "https://localhost:8080/"
    },
    "executionInfo": {
     "elapsed": 805,
     "status": "ok",
     "timestamp": 1621005311760,
     "user": {
      "displayName": "Julieta Bergamasco",
      "photoUrl": "https://lh3.googleusercontent.com/a-/AOh14Gj76Fya9qpsnNstBco6yIfIaZVXb7Fo7VQM4kn6bMs=s64",
      "userId": "15440307337842019852"
     },
     "user_tz": 180
    },
    "id": "uBJs66F84ysS",
    "outputId": "bf7904c6-795b-4f4a-aad9-da1d704b756c",
    "tags": []
   },
   "outputs": [
    {
     "name": "stdout",
     "output_type": "stream",
     "text": [
      "<class 'pandas.core.frame.DataFrame'>\n"
     ]
    }
   ],
   "source": [
    "import pandas as pd\n",
    "\n",
    "df = pd.read_csv('/content/sample_data/california_housing_test.csv')"
   ]
  },
  {
   "cell_type": "markdown",
   "metadata": {
    "id": "5vllAvQ-cMrM"
   },
   "source": [
    "¡Parece que algo ejecutó! Veamos qué se almacenó en la variable **`df`**, explorando primero su tipo y luego el contenido."
   ]
  },
  {
   "cell_type": "code",
   "execution_count": null,
   "metadata": {
    "colab": {
     "base_uri": "https://localhost:8080/"
    },
    "executionInfo": {
     "elapsed": 705,
     "status": "ok",
     "timestamp": 1621005514888,
     "user": {
      "displayName": "Julieta Bergamasco",
      "photoUrl": "https://lh3.googleusercontent.com/a-/AOh14Gj76Fya9qpsnNstBco6yIfIaZVXb7Fo7VQM4kn6bMs=s64",
      "userId": "15440307337842019852"
     },
     "user_tz": 180
    },
    "id": "RAHjE2QucvGF",
    "outputId": "ae8c414f-b82b-42d0-d8db-19369c56884c",
    "tags": []
   },
   "outputs": [
    {
     "name": "stdout",
     "output_type": "stream",
     "text": [
      "Tipo de df: <class 'pandas.core.frame.DataFrame'> \n",
      "\n",
      "Contenido de df:\n",
      "       longitude  latitude  ...  median_income  median_house_value\n",
      "0       -122.05     37.37  ...         6.6085            344700.0\n",
      "1       -118.30     34.26  ...         3.5990            176500.0\n",
      "2       -117.81     33.78  ...         5.7934            270500.0\n",
      "3       -118.36     33.82  ...         6.1359            330000.0\n",
      "4       -119.67     36.33  ...         2.9375             81700.0\n",
      "...         ...       ...  ...            ...                 ...\n",
      "2995    -119.86     34.42  ...         1.1790            225000.0\n",
      "2996    -118.14     34.06  ...         3.3906            237200.0\n",
      "2997    -119.70     36.30  ...         2.2895             62000.0\n",
      "2998    -117.12     34.10  ...         3.2708            162500.0\n",
      "2999    -119.63     34.42  ...         8.5608            500001.0\n",
      "\n",
      "[3000 rows x 9 columns]\n"
     ]
    }
   ],
   "source": [
    "print('Tipo de df:', type(df), '\\n')\n",
    "print('Contenido de df:\\n', df)"
   ]
  },
  {
   "cell_type": "markdown",
   "metadata": {
    "id": "9DdUuCkEdVeE"
   },
   "source": [
    "¡Logramos importar nuestro primer archivo csv! Exploremos un poco algunas propiedades como:\n",
    "- Cantidad de filas y columnas: para ello consultaremos el *atributo* **`shape`**.\n",
    "- Contenido de las primeras 10 filas: para ello utilizaremos el método **`head()`**."
   ]
  },
  {
   "cell_type": "code",
   "execution_count": null,
   "metadata": {
    "colab": {
     "base_uri": "https://localhost:8080/"
    },
    "executionInfo": {
     "elapsed": 831,
     "status": "ok",
     "timestamp": 1621006388821,
     "user": {
      "displayName": "Julieta Bergamasco",
      "photoUrl": "https://lh3.googleusercontent.com/a-/AOh14Gj76Fya9qpsnNstBco6yIfIaZVXb7Fo7VQM4kn6bMs=s64",
      "userId": "15440307337842019852"
     },
     "user_tz": 180
    },
    "id": "_869UNiSeN5h",
    "outputId": "a49a5673-bfad-498e-fc0a-0a55b3df3814",
    "tags": []
   },
   "outputs": [
    {
     "name": "stdout",
     "output_type": "stream",
     "text": [
      "Cantidad de (filas, columnas) de df: (3000, 9) \n",
      "\n",
      "Contenido de las primeras 10 filas de df:\n",
      "    longitude  latitude  ...  median_income  median_house_value\n",
      "0    -122.05     37.37  ...         6.6085            344700.0\n",
      "1    -118.30     34.26  ...         3.5990            176500.0\n",
      "2    -117.81     33.78  ...         5.7934            270500.0\n",
      "3    -118.36     33.82  ...         6.1359            330000.0\n",
      "4    -119.67     36.33  ...         2.9375             81700.0\n",
      "5    -119.56     36.51  ...         1.6635             67000.0\n",
      "6    -121.43     38.63  ...         1.6641             67000.0\n",
      "7    -120.65     35.48  ...         3.2250            166900.0\n",
      "8    -122.84     38.40  ...         3.6696            194400.0\n",
      "9    -118.02     34.08  ...         2.3333            164200.0\n",
      "\n",
      "[10 rows x 9 columns]\n"
     ]
    }
   ],
   "source": [
    "print('Cantidad de (filas, columnas) de df:', df.shape, '\\n')\n",
    "print('Contenido de las primeras 10 filas de df:\\n', df.head(10))"
   ]
  },
  {
   "cell_type": "markdown",
   "metadata": {
    "id": "LCioTzaFeOl2"
   },
   "source": [
    "Probemos ahora qué ocurre cuando a la última sentencia de una celda ejecutable no le aplicamos la función print."
   ]
  },
  {
   "cell_type": "code",
   "execution_count": null,
   "metadata": {
    "id": "Q6itQozdedjv"
   },
   "outputs": [],
   "source": [
    "df.head(10)"
   ]
  },
  {
   "cell_type": "markdown",
   "metadata": {
    "id": "SPU0dLgGeqbX"
   },
   "source": [
    "Mucho más amigable, verdad?"
   ]
  },
  {
   "cell_type": "markdown",
   "metadata": {
    "id": "xVKEj0W4fbdJ"
   },
   "source": [
    "## Exportación de Datos\n",
    "\n",
    "Supongamos ahora que necesitamos guardar en un nuevo archivo csv las 100 primeras líneas del archivo original. **Pandas** también tiene prevista esta tarea. Para esto, usaremos el método de Pandas **`to_csv()`**, que se aplica sobre un ***DataFrame*** y recibe como argumento el *path* donde se guardarán los datos.\n",
    "\n",
    "Veamos cómo aplicarlo:"
   ]
  },
  {
   "cell_type": "code",
   "execution_count": null,
   "metadata": {
    "id": "WXkP7kpNhDAc"
   },
   "outputs": [],
   "source": [
    "datos_para_guardar = df.head(100)\n",
    "print(type(datos_para_guardar))\n",
    "\n",
    "datos_para_guardar.to_csv('/content/muestra_housing_prices.csv')\n",
    "print(\"Ya terminé de guardar!\")"
   ]
  },
  {
   "cell_type": "markdown",
   "metadata": {
    "id": "kuGXjB0L-z9p"
   },
   "source": [
    "# Ejercicios Integradores"
   ]
  },
  {
   "cell_type": "markdown",
   "metadata": {
    "id": "zl_xTr9t_9Z6"
   },
   "source": [
    "## 1- Análisis Estadístico de Fallas en Lotes de Producción\n",
    "\n",
    "Una planta de producción de botellas plásticas fabrica 1000 lotes de botellas por día. Debido al proceso de fabricación algunas de las botellas salen falladas, estos fallos son detectados automáticamente durante el proceso de control de calidad y se cargan en una base de datos que registra la cantidad de productos fallados que fueron detectados por cada lote. El departamento de control de calidad sospecha que la cantidad de fallos por lote sigue una distribución de *Poisson*, pero todavía no conocen la media y la varianza.\n",
    "\n",
    "Se pide importar los datos de los últimos 30 días (en total son 30000 datos) y calcular la *media*, la *varianza*, la *moda* y la *mediana* de la distribución de datos medidos (sin utilizar librerías de estadística). Los datos se encuentran en el archivo *ControlCalidadBotellas.csv* bajo la columna *Fallas*.\n",
    "\n",
    "**Definiciones:**\n",
    "- **Media:** El valor promedio:\n",
    "\n",
    "  $\\mu=\\frac{X_1+X_2+X_3+\\cdots+X_n}{n}$\n",
    "\n",
    "- **Varianza:** El promedio de las distancias al cuadrado entre cada valor y la media:\n",
    "\n",
    "  $\\sigma^2=\\frac{(X_1-\\mu)^2+(X_2-\\mu)^2+\\cdots+(X_n-\\mu)^2}{n}$\n",
    "\n",
    "- **Moda:** El valor que ocurre con mayor frecuencia.\n",
    "\n",
    "- **Mediana:** El valor que cumple la propiedad que la mitad de las veces el valor medido es menor a la mediana y la otra mitad de las veces es mayor.\n",
    "\n",
    "Si las sospechas acerca de la distribución fueran correctas, entonces de acuerdo a las propiedades de la distribución de Poisson la media y la varianza deberían ser iguales, además la moda sería $\\lceil{\\mu}\\rceil-1$\n",
    "¿Esta sospecha les parece acertada?\n",
    "\n",
    "*Nota: Usando las librerías numpy y scipy se pueden realizar todo tipo de análisis de estadística.*"
   ]
  },
  {
   "cell_type": "code",
   "execution_count": null,
   "metadata": {
    "id": "yRs4g22X__5p"
   },
   "outputs": [],
   "source": []
  }
 ],
 "metadata": {
  "colab": {
   "collapsed_sections": [],
   "name": "M0.U2 Introducción a la Programación - Clase 4.ipynb",
   "provenance": [],
   "toc_visible": true
  },
  "kernelspec": {
   "display_name": "Python 3",
   "language": "python",
   "name": "python3"
  },
  "language_info": {
   "codemirror_mode": {
    "name": "ipython",
    "version": 3
   },
   "file_extension": ".py",
   "mimetype": "text/x-python",
   "name": "python",
   "nbconvert_exporter": "python",
   "pygments_lexer": "ipython3",
   "version": "3.9.4"
  }
 },
 "nbformat": 4,
 "nbformat_minor": 4
}
