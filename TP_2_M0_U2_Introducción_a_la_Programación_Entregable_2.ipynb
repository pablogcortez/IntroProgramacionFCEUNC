{
  "nbformat": 4,
  "nbformat_minor": 0,
  "metadata": {
    "colab": {
      "name": "Copia de M0.U2 Introducción a la Programación - Entregable 2.ipynb",
      "provenance": [],
      "collapsed_sections": [
        "mgqhxY2yCx6i"
      ],
      "toc_visible": true
    },
    "kernelspec": {
      "name": "python3",
      "display_name": "Python 3"
    }
  },
  "cells": [
    {
      "cell_type": "markdown",
      "metadata": {
        "id": "7cUqukj4_P_A"
      },
      "source": [
        "![img](https://drive.google.com/uc?export=view&id=1kgX98Ziw9LzgBCT2BxChttfrTcBltLej)\n"
      ]
    },
    {
      "cell_type": "markdown",
      "metadata": {
        "id": "mgqhxY2yCx6i"
      },
      "source": [
        "# MÓDULO 0. Unidad 2 - Trabajo Práctico Entregable 2\n",
        "\n",
        "---\n",
        "\n",
        "> Aplicaciones integradoras de los contenidos aprendidos durante las 6 clases.\n",
        "\n",
        "\n"
      ]
    },
    {
      "cell_type": "markdown",
      "metadata": {
        "id": "O63cYKbC1ABf"
      },
      "source": [
        "# Introducción"
      ]
    },
    {
      "cell_type": "markdown",
      "metadata": {
        "id": "9wbTEd7pASze"
      },
      "source": [
        "En la siguiente notebook, se plantean una serie de problemas que deberán resolver con programas, utilizando las herramientas provistas durante el curso.\n",
        "\n",
        "**La fecha de entrega es el 4/06.**"
      ]
    },
    {
      "cell_type": "markdown",
      "metadata": {
        "id": "7q97dOd6BZN1"
      },
      "source": [
        "# 1- La Ruina del Apostador\n",
        "\n",
        "![stop](https://images.theconversation.com/files/189770/original/file-20171011-16678-1usvyrg.jpg?ixlib=rb-1.1.0&q=45&auto=format&w=926&fit=clip)\n",
        "\n",
        "La \"Ruina del Apostador\" (Gambler's Ruin) dice que una persona que juegue algún juego con un valor esperado negativo llegará a perder todo su dinero tarde o temprano, sin importar el sistema que use para apostar.\n",
        "\n",
        "Podemos hacer una simulación de este concepto en Python, usando la librería `random`.\n",
        "\n",
        "- Supongamos que comenzamos con 50 fichas (todas del mismo valor) y apostamos una ficha cada vez que jugamos.\n",
        "\n",
        "- Tenemos una probabilidad de 0.4 de ganar cada vez que jugamos (cómo podemos simular esto?). Si ganamos, tenemos una ficha más. Caso contrario, perdemos la ficha que apostamos.\n",
        "\n",
        "- En una noche se estima que podemos jugar este juego hasta 300 veces, pero si llegamos a tener 0 fichas ya no vamos a poder apostar en toda la noche.\n",
        "\n",
        "Crear un programa que simule nuestra noche de apuestas, que imprima en pantalla cuántas apuestas pudimos hacer antes de perder todo el dinero o si pudimos sobrevivir a las 300 apuestas.\n",
        "\n",
        "Para resolver el problema, crear una función que tenga como entradas la cantidad de fichas inicial, la probabilidad de victoria de cada juego y la cantidad máxima de veces que podemos jugar, que devuelva la cantidad de fichas con la que terminamos al final de la noche y la cantidad de apuestas que pudimos hacer.\n",
        "\n",
        "- Correr esta función 20 veces y obtener el valor medio de la cantidad de apuestas final.\n",
        "\n",
        "- Cuánto tiempo tarda cada simulación en ejecutarse? Imprimir en pantalla este tiempo cada vez que se corre la función."
      ]
    },
    {
      "cell_type": "code",
      "metadata": {
        "id": "lgPPWvo4FFab"
      },
      "source": [
        "def cantidad_final_de_fichas(fichas_inicio, prob_victoria, cant_max_jue):\n",
        "  pass\n",
        "\n",
        "fichas = 50\n",
        "probabilidad_triunfo = 0.4\n",
        "cantidad_maxima_apuestas = 300"
      ],
      "execution_count": null,
      "outputs": []
    },
    {
      "cell_type": "markdown",
      "metadata": {
        "id": "8L6F_M5JtFnN"
      },
      "source": [
        "# 2- Precios de Acciones y Carteras de Inversión\n",
        "\n",
        "![investing](https://dfi.wa.gov/sites/default/files/investing-stocks-16x9.jpg)\n",
        "\n",
        "Parte del Análisis Cuantitativo en Finanzas depende de la creación de Carteras de Inversión mediante la prueba de estrategias con datos del pasado, la mayoría de ellos en forma de precios diarios de los activos en los que se quiere invertir.\n",
        "\n",
        "En este ejercicio vamos a realizar un análisis simple de acciones del mercado de USA y crear carteras de inversión \"aleatorias\" para ver cómo les fue durante el año 2020.\n",
        "\n",
        "Para eso, debemos conseguir un dataset y una manera sencilla de hacerlo es usando [Pandas DataReader](https://pandas-datareader.readthedocs.io/en/latest/index.html).\n",
        "\n",
        "Podemos instalar la librería directamente usando Conda (en nuestros entornos locales) o Pip (en Colab).\n",
        "\n",
        "`conda install -c anaconda pandas-datareader`\n",
        "\n",
        "`!pip install pandas-datareader`"
      ]
    },
    {
      "cell_type": "code",
      "metadata": {
        "id": "D1bMmBsXx9pt"
      },
      "source": [
        "# Instalar la librería\n",
        "# !pip install pandas-datareader\n",
        "# Hacemos import y descargamos precios para Mercado Libre durante todo el 2020.\n",
        "from pandas_datareader import data\n",
        "\n",
        "# Un ticker es la abreviación con la cual se encuentra al activo\n",
        "# cuando se busca su precio o se realiza una orden de mercado.\n",
        "tickers = ['MELI']\n",
        "\n",
        "# Definimos el rango de fechas deseado\n",
        "start_date = '2020-01-01'\n",
        "end_date = '2020-12-31'\n",
        "\n",
        "# Obtenemos un DataFrame con los precios diarios de la acción\n",
        "df = data.DataReader(\n",
        "    tickers,\n",
        "    start=start_date, \n",
        "    end=end_date, \n",
        "    data_source='yahoo', # Yahoo Finance es uno de los recursos más simples de acceder\n",
        ")\n",
        "\n",
        "# Mostremos las primeras columnas de los datos\n",
        "df.head()"
      ],
      "execution_count": null,
      "outputs": []
    },
    {
      "cell_type": "markdown",
      "metadata": {
        "id": "z_syGizQniP8"
      },
      "source": [
        "Desarrollar los siguientes ejercicios:\n",
        "\n",
        "- Utilizaremos sólo la columna Adj. Close para trabajar y nos gustaría tener un gráfico de cómo se movieron los precios de la acción, usando `plot`. Cuál es el precio máximo y mínimo que alcanzó la acción en el año y en qué fechas se alcanzaron?\n",
        "\n",
        "- La variable *tickers* es una lista de acciones que podemos cambiar para conseguir los precios que deseemos. Consigamos los precios de [FAANG](https://blog.selfbank.es/que-es-faang/), buscando sus tickers correspondientes y armemos un dataframe con el Adj. Close de cada una de las acciones durante el 2020.\n",
        "\n",
        "- Cómo podemos calcular el porcentaje de ganancia de estas acciones en el año?\n",
        "\n",
        "- Supongamos que tenemos $10.000 para invertir en estas acciones y armamos una cartera \"aleatoria\" (no es posible invertir una cantidad negativa ni invertir más dinero del que se tiene). Cómo podemos mostrar la evolución de esa cartera en el tiempo? Graficar 5 carteras aleatorias y su evolución en el año. Cómo se comparan con una estrategia que invierte el 20% inicial del capital en cada una de las acciones?"
      ]
    },
    {
      "cell_type": "code",
      "metadata": {
        "id": "QDVCgl2P1dSp"
      },
      "source": [
        ""
      ],
      "execution_count": null,
      "outputs": []
    },
    {
      "cell_type": "markdown",
      "metadata": {
        "id": "kChLq6Ymx9Z1"
      },
      "source": [
        "# 3- Trabajando con la EPH\n",
        "\n",
        "![eph](https://pbs.twimg.com/media/EehLGmHWAAYGkRj?format=jpg&name=medium)\n",
        "\n",
        "La Encuesta Permanente de Hogares (EPH) es un trabajo desarrollado por el INDEC (en convenio con las direcciones provinciales de estadística) y es un repositorio de datos que nos permite conocer las características sociodemográficas y socieconómicas de la población argentina, que es actualizado de manera trimestral.\n",
        "\n",
        "En este caso vamos a trabajar con una muestra de la misma, con aproximadamente 660 hogares, la cual vamos a poder leer directamente desde un link público de Drive.\n",
        "La mayoría de sus columnas tienen nombres en código, por lo que es necesario leer el diccionario de variables disponible en el [siguiente link](https://www.indec.gob.ar/ftp/cuadros/menusuperior/eph/EPH_disenoreg_T3_2013.pdf) antes de comenzar a hacer el análisis de los datos.\n"
      ]
    },
    {
      "cell_type": "code",
      "metadata": {
        "id": "Oske9H1qyAAs"
      },
      "source": [
        "import pandas as pd\n",
        "# URL de la muestra, pueden entrar a ese link y descargar los datos también.\n",
        "path = 'https://drive.google.com/uc?export=download&id=1uU18pevuixKbQ14M5zoCHJqAG_GZdA32'\n",
        "# Leemos el archivo de Excel en la URL desde Pandas.\n",
        "df_hogar = pd.read_excel(path)\n",
        "df_hogar.head()"
      ],
      "execution_count": null,
      "outputs": []
    },
    {
      "cell_type": "markdown",
      "metadata": {
        "id": "y66Igv5jQKs-"
      },
      "source": [
        "Para hacer nuestro análisis de esta muestra, respondamos las siguientes preguntas:\n",
        "\n",
        "- ¿Cuántos hogares por cada región tenemos? Expresarlo gráficamente.\n",
        "\n",
        "- ¿Cómo se distribuye el Ingreso Total Familiar? Y el ingreso per cápita? ¿Cuáles son los valores promedio? ¿Y sus medianas?\n",
        "\n",
        "- ¿Cuántas viviendas tienen acceso al agua por la red pública? Revisar la columna IV7 para responder esta pregunta.\n",
        "\n",
        "- Crear una nueva columna que represente la cantidad de habitaciones por habitante del hogar. ¿Cómo es su distribución?\n",
        "\n",
        "- ¿Existe alguna relación a simple vista entre la cantidad de cuartos que tiene un hogar y el nivel de ingresos del mismo? Realizar un scatter plot para visualizar ambas variables."
      ]
    },
    {
      "cell_type": "code",
      "metadata": {
        "id": "nAMjzmegP2dn"
      },
      "source": [
        ""
      ],
      "execution_count": null,
      "outputs": []
    }
  ]
}
