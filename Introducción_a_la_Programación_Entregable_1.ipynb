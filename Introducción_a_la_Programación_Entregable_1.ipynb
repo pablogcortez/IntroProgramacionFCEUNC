{
  "nbformat": 4,
  "nbformat_minor": 0,
  "metadata": {
    "colab": {
      "name": "Copia de M0.U2 Introducción a la Programación - Entregable 1.ipynb",
      "provenance": [],
      "collapsed_sections": [
        "mgqhxY2yCx6i"
      ],
      "toc_visible": true,
      "include_colab_link": true
    },
    "kernelspec": {
      "name": "python3",
      "display_name": "Python 3"
    }
  },
  "cells": [
    {
      "cell_type": "markdown",
      "metadata": {
        "id": "view-in-github",
        "colab_type": "text"
      },
      "source": [
        "<a href=\"https://colab.research.google.com/github/pablogcortez/IntroProgramacionFCEUNC/blob/main/Introducci%C3%B3n_a_la_Programaci%C3%B3n_Entregable_1.ipynb\" target=\"_parent\"><img src=\"https://colab.research.google.com/assets/colab-badge.svg\" alt=\"Open In Colab\"/></a>"
      ]
    },
    {
      "cell_type": "markdown",
      "metadata": {
        "id": "7cUqukj4_P_A"
      },
      "source": [
        "![img](https://drive.google.com/uc?export=view&id=1kgX98Ziw9LzgBCT2BxChttfrTcBltLej)\n"
      ]
    },
    {
      "cell_type": "markdown",
      "metadata": {
        "id": "mgqhxY2yCx6i"
      },
      "source": [
        "# MÓDULO 0. Unidad 2 - Trabajo Práctico Entregable 1\n",
        "\n",
        "---\n",
        "\n",
        "> Aplicaciones integradoras de los contenidos aprendidos hasta la clase 3.\n",
        "\n",
        "\n"
      ]
    },
    {
      "cell_type": "markdown",
      "metadata": {
        "id": "O63cYKbC1ABf"
      },
      "source": [
        "# Introducción"
      ]
    },
    {
      "cell_type": "markdown",
      "metadata": {
        "id": "9wbTEd7pASze"
      },
      "source": [
        "En la siguiente notebook, se plantean una serie de problemas que deberán resolver con programas, utilizando las herramientas provistas hasta la clase 3.\n",
        "\n",
        "**La fecha de entrega es el 21/05.**\n",
        "\n",
        "*Nota: No es necesaria la importación de librerías aún.*"
      ]
    },
    {
      "cell_type": "markdown",
      "metadata": {
        "id": "8L6F_M5JtFnN"
      },
      "source": [
        "# 1- Transacciones Bancarias\n",
        "\n",
        "Tener una cuenta bancaria es muy común hoy en día. Consideren que se necesita desarrollar una función a la que se le pueda ingresar el saldo inicial, una lista con el tipo de operación y el monto de cada operación realizada en el lapso de un mes, y devuelva el saldo final de ese mes.\n",
        "\n",
        "Además, las posibles operaciones que se pueden realizar son:\n",
        "- Depósito\n",
        "- Transferencia Recibida\n",
        "- Transferencia Realizada\n",
        "- Pago\n",
        "- Extracción\n",
        "\n",
        "Y cada operación tiene una comisión diferente:\n",
        "- Depósito: 0%\n",
        "- Transferencia Recibida: 0.01%\n",
        "- Transferencia Realizada: 0.1%\n",
        "- Pago: 0.5%\n",
        "- Extracción: 1%\n",
        "\n",
        "Finalmente, este tipo de cuenta rinde un interés de 1% mensual, según el saldo al inicio del mes.\n",
        "\n",
        "Desarrollar una función que cumpla con lo especificado."
      ]
    },
    {
      "cell_type": "code",
      "metadata": {
        "id": "lzTGVhL901Yi",
        "colab": {
          "base_uri": "https://localhost:8080/"
        },
        "outputId": "edb35a7e-e59b-4589-a7e1-ffdc4f010ac2"
      },
      "source": [
        "# 1- Transacciones Bancarias\n",
        "\n",
        "def saldo_cuenta(si, sf, lista1, lista2,diccionario):\n",
        "\n",
        "    lista2.append((\"Saldo inicial\", si))\n",
        "\n",
        "    if si > 0:\n",
        "        intereses = si * 0.01\n",
        "        sf = si * 1.01\n",
        "        lista2.append((\"Intereses percibidos\", intereses))\n",
        "    else:\n",
        "        sf = si\n",
        "\n",
        "    rango = 0\n",
        "    rango = len(lista1)\n",
        "\n",
        "    for i in range(rango):\n",
        "        operacion = (lista1[i])[0]\n",
        "        importe_operacion = (lista1[i])[1]\n",
        "        multiplicador = diccionario[operacion][0]\n",
        "        operacion_de_comision = diccionario[operacion][1]\n",
        "        tasa_comision = diccionario[operacion][2]\n",
        "        sf = sf + importe_operacion * multiplicador\n",
        "\n",
        "        lista2.append((operacion, importe_operacion * multiplicador))\n",
        "\n",
        "        if operacion_de_comision != \"\":\n",
        "            importe_comision = tasa_comision * importe_operacion\n",
        "            sf = sf + importe_comision\n",
        "            lista2.append((operacion_de_comision, importe_comision))\n",
        "        else:\n",
        "            pass\n",
        "    return sf\n",
        "\n",
        "# Inputs\n",
        "saldo_inicial = -100\n",
        "lista_operaciones = [('Depósito', 5000), ('Transferencia Realizada', 100),\n",
        "                     ('Transferencia Recibida', 350), ('Depósito', 1750),\n",
        "                     ('Pago', 250), ('Extracción', 625)]\n",
        "\n",
        "# Parametros\n",
        "saldo_final = 0\n",
        "tr_c = \"Comisión p/transferencia recibida\"\n",
        "ta_c = \"Comisión p/transferencia realizada\"\n",
        "pa_c = \"Comisión p/pago\"\n",
        "ex_c = \"Comisión p/extraccion\"\n",
        "\n",
        "diccionario_operaciones = {\n",
        "    \"Saldo inicial\": [1, \"\", 0],\n",
        "    \"Depósito\": [1, \"\", 0],\n",
        "    \"Transferencia Recibida\": [1, tr_c, -0.0001],\n",
        "    \"Transferencia Realizada\": [-1, ta_c, -0.001],\n",
        "    \"Pago\": [-1, pa_c, -0.005],\n",
        "    \"Extracción\": [-1, ex_c, -0.01],\n",
        "}\n",
        "lista_operaciones_actualizada = []\n",
        "\n",
        "# Output\n",
        "\n",
        "saldo_final = saldo_cuenta(saldo_inicial, saldo_final, lista_operaciones,\n",
        "                           lista_operaciones_actualizada, diccionario_operaciones)\n",
        "\n",
        "for i in range(len(lista_operaciones_actualizada)):\n",
        "    print(lista_operaciones_actualizada[i][0] +\": \"+ str(round(lista_operaciones_actualizada[i][1],2)))\n",
        "\n",
        "print (\"El saldo de su cuenta es \"+str(round(saldo_final,2)))"
      ],
      "execution_count": 2,
      "outputs": [
        {
          "output_type": "stream",
          "text": [
            "Saldo inicial: -100\n",
            "Depósito: 5000\n",
            "Transferencia Realizada: -100\n",
            "Comisión p/transferencia realizada: -0.1\n",
            "Transferencia Recibida: 350\n",
            "Comisión p/transferencia recibida: -0.04\n",
            "Depósito: 1750\n",
            "Pago: -250\n",
            "Comisión p/pago: -1.25\n",
            "Extracción: -625\n",
            "Comisión p/extraccion: -6.25\n",
            "El saldo de su cuenta es 6017.36\n"
          ],
          "name": "stdout"
        }
      ]
    },
    {
      "cell_type": "markdown",
      "metadata": {
        "id": "UynyOMH202d9"
      },
      "source": [
        "# 2- Lista del Super\n",
        "\n",
        "El siguiente diccionario, `productos`, contiene cantidades en stock y precios unitarios de los productos disponibles en un supermercado:"
      ]
    },
    {
      "cell_type": "code",
      "metadata": {
        "id": "1Sf52zG8jp9T"
      },
      "source": [
        "productos = {\n",
        "    'milanesas 1kg': {\n",
        "        'stock': 15.2,\n",
        "        'precio': 832,\n",
        "        'fraccionable': True,\n",
        "    },\n",
        "    'aceite de girasol natura 1.5l': {\n",
        "        'stock': 5,\n",
        "        'precio': 259,\n",
        "        'fraccionable': False,\n",
        "    },\n",
        "    'arroz dos hermanos doble carolina 1kg': {\n",
        "        'stock': 1,\n",
        "        'precio': 135,\n",
        "        'fraccionable': False,\n",
        "    },\n",
        "    'papa 1kg': {\n",
        "        'stock': 35.60,\n",
        "        'precio': 84.9,\n",
        "        'fraccionable': True,\n",
        "    },\n",
        "    'calabacín anquito 1kg': {\n",
        "        'stock': 4.25,\n",
        "        'precio': 59.9,\n",
        "        'fraccionable': True,\n",
        "    },\n",
        "    'cebolla 1kg': {\n",
        "        'stock': 1.2,\n",
        "        'precio': 84.90,\n",
        "        'fraccionable': True,\n",
        "    },\n",
        "    'provenzal alicante 25g': {\n",
        "        'stock': 10,\n",
        "        'precio': 45.5,\n",
        "        'fraccionable': False,\n",
        "    },\n",
        "    'agua 2l': {\n",
        "        'stock': 15,\n",
        "        'precio': 62.90,\n",
        "        'fraccionable': False,\n",
        "    },\n",
        "    'cerveza andes rubia 1l': {\n",
        "        'stock': 1,\n",
        "        'precio': 177.90,\n",
        "        'fraccionable': False,\n",
        "    },\n",
        "    'pure de papas knorr con zapallo 125g': {\n",
        "        'stock': 1,\n",
        "        'precio': 117,\n",
        "        'fraccionable': False,\n",
        "    }\n",
        "}"
      ],
      "execution_count": 132,
      "outputs": []
    },
    {
      "cell_type": "markdown",
      "metadata": {
        "id": "qIjNLS0vl8zT"
      },
      "source": [
        "Están planificando una cena en grupo y decidieron que van a comer milanesas con puré mixto y arroz primavera. Tienen que definir la lista de compras para tal fin. Un ejemplo de lista podría ser el siguiente:\n",
        "\n",
        "```\n",
        "mi_lista = [('milanesas', 1.5), ('aceite de girasol', 1),\n",
        "('pure de papas knorr con zapallo', 2), ('arroz', 1),\n",
        "('cerveza andes rubia', 2), ('zanahoria', 0.5)]\n",
        "```\n",
        "\n",
        "1. Elaborar un programa que tenga como input una lista de compras, con las respectivas cantidades para cada producto, y devuelva:\n",
        "\n",
        "- Los productos que no se encuentran disponibles en este supermercado.\n",
        "- Los productos que están en falta.\n",
        "- El monto total del carrito de compras.\n",
        "\n",
        "> Además, considerar que si no hay suficiente stock de un producto, se comprará hasta el máximo posible y que hay productos que se venden por unidad mientras que otros son fraccionables. De los fraccionables, considerar que se puede obtener la cantidad exacta.\n",
        "\n",
        "- Almacenar en un diccionario (`ticket`) el ticket de compra."
      ]
    },
    {
      "cell_type": "code",
      "metadata": {
        "id": "yd_xbjMhpGWn",
        "colab": {
          "base_uri": "https://localhost:8080/"
        },
        "outputId": "492c121b-5390-4d06-ce7f-0af348ba06d0"
      },
      "source": [
        "#PARAMETROS\n",
        "mi_lista = [('milanesas', 1.5), ('aceite de girasol', 1),\n",
        "('pure de papas knorr con zapallo', 2), ('arroz', 1),\n",
        "('cerveza andes rubia', 2), ('zanahoria', 0.5)]\n",
        "#ticket_compra = {}\n",
        "\n",
        "def super(lista_a_comprar):\n",
        "    total = 0 \n",
        "    lista_sin_stock = []\n",
        "    lista_faltante = []\n",
        "    tiket={}\n",
        "    for producto in range(len(lista_a_comprar)):\n",
        "        item = lista_a_comprar[producto][0]\n",
        "        cantidad = lista_a_comprar[producto][1]\n",
        "        i=0\n",
        "        for stock in productos:\n",
        "            i = i + 1\n",
        "            if item in stock:\n",
        "                disponible = productos[stock]['stock']\n",
        "                precio = productos[stock]['precio']\n",
        "                fraccionable = productos[stock]['fraccionable']\n",
        "                if fraccionable == True:\n",
        "                    cantidad = float(cantidad)\n",
        "                else:\n",
        "                    cantidad = int(cantidad)\n",
        "                    \n",
        "                if disponible < cantidad:\n",
        "                    cantidad = disponible\n",
        "                    comprado = cantidad * precio\n",
        "                    lista_faltante.append(item)\n",
        "\n",
        "                else:\n",
        "                    comprado = cantidad * precio\n",
        "\n",
        "                total = round(total + comprado, 2)\n",
        "                #print(item + \" $\" + str(comprado))\n",
        "\n",
        "                ticket[item] = [cantidad, precio, comprado]\n",
        "\n",
        "                break\n",
        "            elif i == len(productos):\n",
        "                lista_sin_stock.append(item)\n",
        "            else:\n",
        "                pass\n",
        "    item = \"TOTAL COMPRA\"\n",
        "    ticket[item] = [total, total, total]\n",
        "    print (\"PRODUCTOS SIN STOCK:\" + str(lista_sin_stock))\n",
        "    print (\"PRODUCTOS CON FALTANTE:\" + str(lista_faltante))\n",
        "    return ticket\n",
        "\n",
        "tiket_compra = super(mi_lista)\n",
        "print(tiket_compra)\n"
      ],
      "execution_count": 138,
      "outputs": [
        {
          "output_type": "stream",
          "text": [
            "PRODUCTOS SIN STOCK:['zanahoria']\n",
            "PRODUCTOS CON FALTANTE:['pure de papas knorr con zapallo', 'cerveza andes rubia']\n",
            "{'milanesas': [1.5, 832, 1248.0], 'aceite de girasol': [1, 259, 259], 'pure de papas knorr con zapallo': [1, 117, 117], 'arroz': [1, 135, 135], 'cerveza andes rubia': [1, 177.9, 177.9], 'TOTAL COMPRA': [1936.9, 1936.9, 1936.9]}\n"
          ],
          "name": "stdout"
        }
      ]
    },
    {
      "cell_type": "markdown",
      "metadata": {
        "id": "l7jifNWaJnDB"
      },
      "source": [
        "2. Solicitar que el usuario ingrese su nombre, apellido y últimos cuatro dígitos de su tarjeta de crédito y, a partir del ticket previamente almacenado, elaborar el cuerpo de un mail automático con los detalles de la compra. Un ejemplo de mail puede ser el siguiente:\n",
        "\n",
        "*Buenos días, Juana López.*\n",
        "\n",
        "*Usted ha realizado una compra por \\$2220,30, con su tarjeta de crédito terminada en 8740. A continuación sigue el detalle de su compra:*\n",
        "\n",
        "*- milanesas x 1.5*\n",
        "  \n",
        "*precio unitario = \\$832.00* || *total = \\$1248.00*\n",
        "\n",
        "*- arroz dos hermanos doble carolina 1kg x 1*\n",
        "  \n",
        "*precio unitario = \\$135.00* || *total = \\$135.00*\n",
        "...\n",
        "\n",
        "*¡Gracias por su compra!*\n",
        "\n",
        "*El Super*"
      ]
    },
    {
      "cell_type": "code",
      "metadata": {
        "id": "1tAES6x2Jm0r",
        "colab": {
          "base_uri": "https://localhost:8080/"
        },
        "outputId": "b938005c-047b-4c7b-a65b-67195d09cf28"
      },
      "source": [
        "nombre = str(input(\"Ingrese su nombre y apellido: \"))\n",
        "tarjeta = str(input(\"Ingrese sus últimos 4 dígitos: \"))\n",
        "while len(tarjeta) != 4:\n",
        "    tarjeta = str(input(\"Ingrese SOLO últimos 4 dígitos: \"))\n",
        "print(\" \")\n",
        "print(\"Buenos días, \" + nombre +\".\")\n",
        "print(\" \")\n",
        "print(\"Usted ha realizado una compra por $\" + str(tiket_compra[\"TOTAL COMPRA\"][0]) + \", con su tarjeta de crédito terminada en \"+ tarjeta+\".\")\n",
        "print(\" \")\n",
        "print(\"A continuación sigue el detalle de su compra:\")\n",
        "i = 1\n",
        "for a in tiket_compra:\n",
        "  if i < len(tiket_compra):\n",
        "    print(\"- \" + a + \" x \" + str(tiket_compra[a][0]))\n",
        "    print(\"precio unitario = $\" + str(tiket_compra[a][1]) + \" || total = $\" + str(tiket_compra[a][2]))\n",
        "    print(\" \")\n",
        "  else:\n",
        "    print(\"TOTAL = $\" + str(tiket_compra[a][2]))\n",
        "  i = i + 1\n",
        "print(\" \")\n",
        "print(\"¡Gracias por su compra!\")\n",
        "print(\" \")\n",
        "print(\"El Super\")"
      ],
      "execution_count": 139,
      "outputs": [
        {
          "output_type": "stream",
          "text": [
            "Ingrese su nombre y apellido: sadasd\n",
            "Ingrese sus últimos 4 dígitos: 4444\n",
            " \n",
            "Buenos días, sadasd.\n",
            " \n",
            "Usted ha realizado una compra por $1936.9, con su tarjeta de crédito terminada en 4444.\n",
            " \n",
            "A continuación sigue el detalle de su compra:\n",
            "- milanesas x 1.5\n",
            "precio unitario = $832 || total = $1248.0\n",
            " \n",
            "- aceite de girasol x 1\n",
            "precio unitario = $259 || total = $259\n",
            " \n",
            "- pure de papas knorr con zapallo x 1\n",
            "precio unitario = $117 || total = $117\n",
            " \n",
            "- arroz x 1\n",
            "precio unitario = $135 || total = $135\n",
            " \n",
            "- cerveza andes rubia x 1\n",
            "precio unitario = $177.9 || total = $177.9\n",
            " \n",
            "TOTAL = $1936.9\n",
            " \n",
            "¡Gracias por su compra!\n",
            " \n",
            "El Super\n"
          ],
          "name": "stdout"
        }
      ]
    },
    {
      "cell_type": "markdown",
      "metadata": {
        "id": "iwis_XylF6oQ"
      },
      "source": [
        "# 3- Ingresos de una Empresa\n",
        "\n",
        "Las ventas del mes de abril de una empresa fueron almacenadas en la siguiente lista, que contiene las cantidades vendidas para 10 productos:"
      ]
    },
    {
      "cell_type": "code",
      "metadata": {
        "id": "rhCXVmdmF57z"
      },
      "source": [
        "ventas_q = [1204, 285, 219, 568, 563, 291, 682, 1295, 340, 452]"
      ],
      "execution_count": 64,
      "outputs": []
    },
    {
      "cell_type": "markdown",
      "metadata": {
        "id": "HBX1Ok4qGQKn"
      },
      "source": [
        "Y los respectivos precios unitarios del mes se encuentran en esta otra:"
      ]
    },
    {
      "cell_type": "code",
      "metadata": {
        "id": "G4p0eewcGzNf"
      },
      "source": [
        "precios = [123.23, 902.12, 107.3, 109.2, 192.56, 209.32, 909.2, 826.3, 683.32, 325.5]"
      ],
      "execution_count": 65,
      "outputs": []
    },
    {
      "cell_type": "markdown",
      "metadata": {
        "id": "KeYmiYfYHOrc"
      },
      "source": [
        "1. A partir de estos datos, calcular e imprimir amigablemente:\n",
        "\n",
        "- Ingreso por producto\n",
        "- Ingreso total\n",
        "- Precio medio\n",
        "- Precio promedio ponderado\n",
        "- Guardar el ingreso calculado por producto en un diccionario, donde la clave sea el producto y el valor, el ingreso.\n",
        "\n",
        "2. El objetivo de ventas para el mes era de 3 millones. Elaborar una función que indique si el objetivo de venta se cumplió o no y qué porcentaje de desvío se produjo. ¿Y si el objetivo de ventas cambiara cada mes, cómo adaptarían la función para poder establecer un objetivo diferente cada vez que se llame la función?"
      ]
    },
    {
      "cell_type": "code",
      "metadata": {
        "colab": {
          "base_uri": "https://localhost:8080/"
        },
        "id": "LPTfhHu86LbN",
        "outputId": "a51ea7df-3327-4fa7-c8fa-dd184ec4c11d"
      },
      "source": [
        "ingreso_x_producto = []\n",
        "diccionario_ingreso = {}\n",
        "for i in range(len(ventas_q)):\n",
        "  ingreso_i = round(ventas_q[i] * precios[i], 2)\n",
        "  ingreso_x_producto.append(ingreso_i)\n",
        "  diccionario_ingreso[i + 1] = ingreso_i \n",
        "  print(\"Ingreso producto \"+ str(i + 1) +\": $\"+str(ingreso_x_producto[i]))\n",
        "print(diccionario_ingreso)\n",
        "\n",
        "ingreso_total = round(sum(ingreso_x_producto), 2)\n",
        "#for i in range(len(ingreso_x_producto)):\n",
        "#  ingreso_total = round(ingreso_total + ingreso_x_producto[i], 2)\n",
        "print(\"Ingreso total:$ \"+str(ingreso_total))\n",
        "\n",
        "precio_promedio = round(sum(precios)/len(precios), 2)\n",
        "#for i in range(len(precios)):\n",
        "#  precio_promedio = precio_promedio + precios[i]\n",
        "#precio_promedio = round(precio_promedio/len(precios),2)\n",
        "print(\"Precio promedio:$ \"+str(precio_promedio))\n",
        "\n",
        "precio_prom_ponde = 0\n",
        "for i in range(len(precios)):\n",
        "  precio_prom_ponde = round(precio_prom_ponde + precios[i]*ventas_q[i]/sum(ventas_q),2)\n",
        "print(\"Precio promedio ponderado:$ \"+str(precio_prom_ponde))\n",
        "\n",
        "\n",
        "def control(ventas_ob, ventas_re):\n",
        "  dif_porcentual = str(round((ventas_re/ventas_ob -1) *100, 2))\n",
        "  if ventas_ob < ventas_re:\n",
        "    print(\"Objetivo de ventas alcanzado. El resultado estuvo \" + dif_porcentual + \"% por encima del objetivo\")\n",
        "  else:\n",
        "    dif_porcentual = str(float(dif_porcentual) * -1)\n",
        "    print(\"Objetivo de ventas NO alcanzado. El resultado estuvo \" + dif_porcentual + \"% por debajo del objetivo\")\n",
        "\n",
        "\n",
        "objetivo = float(input(\"Ingrese importe de ventas objetivo: \"))\n",
        "\n",
        "control(objetivo, ingreso_total)\n",
        "\n",
        "\n"
      ],
      "execution_count": 125,
      "outputs": [
        {
          "output_type": "stream",
          "text": [
            "Ingreso producto 1: $148368.92\n",
            "Ingreso producto 2: $257104.2\n",
            "Ingreso producto 3: $23498.7\n",
            "Ingreso producto 4: $62025.6\n",
            "Ingreso producto 5: $108411.28\n",
            "Ingreso producto 6: $60912.12\n",
            "Ingreso producto 7: $620074.4\n",
            "Ingreso producto 8: $1070058.5\n",
            "Ingreso producto 9: $232328.8\n",
            "Ingreso producto 10: $147126.0\n",
            "{1: 148368.92, 2: 257104.2, 3: 23498.7, 4: 62025.6, 5: 108411.28, 6: 60912.12, 7: 620074.4, 8: 1070058.5, 9: 232328.8, 10: 147126.0}\n",
            "Ingreso total:$ 2729908.52\n",
            "Precio promedio:$ 438.8\n",
            "Precio promedio ponderado:$ 462.77\n",
            "Ingrese importe de ventas objetivo: 65465\n",
            "Objetivo de ventas alcanzado. El resultado estuvo 4070.03% por encima del objetivo\n"
          ],
          "name": "stdout"
        }
      ]
    },
    {
      "cell_type": "markdown",
      "metadata": {
        "id": "IxTNk5c5Clzd"
      },
      "source": [
        "# 4- Análisis del Precio de una Acción\n",
        "\n",
        "Una operacion muy común al manejar datos es la derivada\n",
        "\n",
        "$$ \\frac{d }{dt} (\\mathrm{Datos}) $$\n",
        "\n",
        "Escribir una función que reciba una lista de precios diarios de las acciones de una compañía. Llamemos $n$ a la cantidad de elementos en esta lista. Debe devolver una lista de tamaño $n-1$ con los valores de la *derivada discreta* de la lista recibida.\n",
        "\n",
        "La *derivada discreta* corresponde a la diferencia entre un elemento y su anterior, podemos usar la siguiente definición:\n",
        "* $\\mathrm{derivada}[i]=x[i+1]-x[i]$ \n",
        "\n",
        "Indicar el día en el cual se produjo el mayor salto positivo en el precio de las acciones, y el día en el cual se produjo el mayor salto negativo."
      ]
    },
    {
      "cell_type": "code",
      "metadata": {
        "id": "8cNXMscNC2Hi",
        "colab": {
          "base_uri": "https://localhost:8080/"
        },
        "outputId": "63324c6c-2ea4-44a7-b503-6147f1466112"
      },
      "source": [
        "# Una lista de ejemplo puede ser el precio de Mercado Libre durante el mes de marzo.\n",
        "precio = [1713.28, 1642.41, 1528.0, 1458.64, 1470.24, 1369.54, 1452.01, 1435.57, 1570.78, 1550.15, 1581.32, 1550.49, 1537.62, 1436.17, 1448.89, 1476.11, 1446.65, 1387.85, 1402.5, 1431.97, 1403.42, 1428.03, 1472.14]\n"
      ],
      "execution_count": 119,
      "outputs": [
        {
          "output_type": "stream",
          "text": [
            "[1713.28, 1642.41, 1528.0, 1458.64, 1470.24, 1369.54, 1452.01, 1435.57, 1570.78, 1550.15, 1581.32, 1550.49, 1537.62, 1436.17, 1448.89, 1476.11, 1446.65, 1387.85, 1402.5, 1431.97, 1403.42, 1428.03, 1472.14]\n"
          ],
          "name": "stdout"
        }
      ]
    },
    {
      "cell_type": "code",
      "metadata": {
        "id": "x--JqKqKuLrV",
        "colab": {
          "base_uri": "https://localhost:8080/"
        },
        "outputId": "01230044-f06c-47cb-c49b-0fde82ec8ff5"
      },
      "source": [
        "def derivada(lista):\n",
        "  lista_diferencial = []\n",
        "  for i in range(len(lista)):\n",
        "    if i == len(lista) - 1:\n",
        "      break\n",
        "    else:\n",
        "        diferencial = round(lista[i + 1] - lista[i], 4)\n",
        "        lista_diferencial.append([i + 1, diferencial])\n",
        "  return lista_diferencial\n",
        "\n",
        "def orden(lista):\n",
        "    return lista[1]\n",
        "\n",
        "lista_diferencial = derivada(precio)\n",
        "lista_diferencial.sort(key=orden)\n",
        "print(\"Mayor salto negativo el día: \" + str(lista_diferencial[0][0]))\n",
        "print(\"Mayor salto positivo el día: \" + str(lista_diferencial[len(lista_diferencial) - 1][0]))"
      ],
      "execution_count": 124,
      "outputs": [
        {
          "output_type": "stream",
          "text": [
            "Mayor salto negativo el día: 2\n",
            "Mayor salto positivo el día: 8\n"
          ],
          "name": "stdout"
        }
      ]
    }
  ]
}