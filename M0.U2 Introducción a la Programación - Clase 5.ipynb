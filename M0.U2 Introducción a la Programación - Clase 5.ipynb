{
 "cells": [
  {
   "cell_type": "markdown",
   "metadata": {
    "id": "7cUqukj4_P_A"
   },
   "source": [
    "![img](https://drive.google.com/uc?export=view&id=1kgX98Ziw9LzgBCT2BxChttfrTcBltLej)\n"
   ]
  },
  {
   "cell_type": "markdown",
   "metadata": {
    "id": "mgqhxY2yCx6i"
   },
   "source": [
    "# MÓDULO 0. Unidad 2 - Clase 5\n",
    "\n",
    "---\n",
    "\n",
    "> Repositorios de datos ([GitHub](https://github.com/), [GitLab](https://gitlab.com/), [Bitbucket](https://bitbucket.org/)).\n",
    "\n",
    "> Gestión del entorno de programación. Gestor Conda: Instalación de Anaconda. Cómo crear un entorno. Cómo instalar una nueva librería.\n",
    "\n",
    "> Manejo de la suite Jupyter: Jupyter Notebook y Jupyter Lab.\n",
    "\n",
    "> Errores comunes y cómo solucionarlos.\n",
    "\n",
    "> Foros de consulta ([Stackoverflow](https://stackoverflow.com/))."
   ]
  },
  {
   "cell_type": "markdown",
   "metadata": {
    "id": "dUdoWYX_zANz"
   },
   "source": [
    "# Introducción\n",
    "\n",
    "Hoy vamos a ver cómo abrir esta misma notebook en el entorno local. Pero antes, veamos por dónde arranca un proyecto: el repositorio de datos y código."
   ]
  },
  {
   "cell_type": "markdown",
   "metadata": {
    "id": "HANqDS275Q2W"
   },
   "source": [
    "# Repositorios\n",
    "\n",
    "Cuando se desarrolla software en equipos o se quiere mostrar código con el que se está trabajando a la comunidad, solemos utilizar repositorios.\n",
    "\n",
    "Un repositorio es un almacenamiento central de archivos que posee sistemas de control de versiones, que nos permite revisar la historia de cada uno de los archivos en los cuales se trabajó. Normalmente estos repositorios se encuentran alojados en la nube de alguna página que ofrezca ese servicio, como [GitHub](https://github.com/), [GitLab](https://gitlab.com/) o [Bitbucket](https://bitbucket.org/). Lo bueno es que ofrecen este servicio de forma gratuita, por lo que pueden crear una cuenta y empezar a utilizarlos ya!\n",
    "\n",
    "<img src=\"https://cdn.worldvectorlogo.com/logos/github-icon.svg\" alt=\"GitHub Logo\" width=\"150\"/>\n",
    "<img src=\"https://upload.wikimedia.org/wikipedia/commons/thumb/1/18/GitLab_Logo.svg/831px-GitLab_Logo.svg.png\" alt=\"GitLab Logo\" width=\"150\"/>\n",
    "<img src=\"https://cdn.worldvectorlogo.com/logos/bitbucket-icon.svg\" alt=\"BitBucket Logo\" width=\"150\"/>\n",
    "\n",
    "Todas las librerías que hemos visto poseen su propio repositorio (en el cual podemos colaborar!). Por ejemplo, este es el link al repositorio de Matplotlib: https://github.com/matplotlib/matplotlib\n",
    "\n",
    "\n",
    "Como habrán observado, casi todos estos estos servicios de almacenamientos de proyectos colaborativos llevan en su nombre la palabra **GIT**. Git es lo que permite el control de versiones, fue inventado por Linus Torvalds (el mismo que desarrolló el kernel de Linux). \n",
    "\n",
    "Instalemos GIT. **Manos a la obra!**\n"
   ]
  },
  {
   "cell_type": "markdown",
   "metadata": {
    "id": "oaQQ8MJDVD4r"
   },
   "source": [
    "# Gestión de Entornos\n",
    "\n",
    "![Entornos](https://images.idgesg.net/images/article/2019/10/miniature_shipping_boxes_packages_on_computer_keyboard_sales_shopping_purchases_delivery_supply_chain_by_cybrain_gettyimages-479631134_2400x1600-100815973-large.jpg)\n",
    "\n",
    "Un ***entorno virtual*** es una herramienta que permite mantener separadas las dependencias (librerias) requeridas por los diferentes proyectos mediante la creación de entornos virtuales con Python aislados para ellos. \n",
    "\n",
    "**¿Por qué necesitamos un entorno virtual?**\n",
    "\n",
    "En un escenario en el que estás trabajando en dos proyectos de ciencias de datos en Python, puede que uno de ellos utilice Pandas 1.1.5 y el otro utilice Pandas 1.2.5 y así sucesivamente. Más aún, es probable que la versión 1.2.5 tenga funcionalidades que no están en la versión 1.1.5. En tales situaciones, el entorno virtual resulta realmente útil para mantener instaladas las librerias correctamente.\n",
    "\n",
    "**¿Cuándo y dónde utilizar un entorno virtual?**\n",
    "\n",
    "Por defecto, todos los proyectos de su sistema utilizarán estos mismos directorios para almacenar y recuperar *site packages* (librerías de terceros). En el caso de los proyectos que usan distintas versiones de Pandas,  sólo tenemos que crear dos entornos virtuales separados para ambos proyectos. Lo mejor de todo es que **no hay límites en el número de entornos que se pueden tener**, ya que son sólo directorios que contienen unos pocos scripts.\n",
    "\n",
    "El ***Entorno Virtual** debe ser usado siempre que se trabaje en cualquier proyecto basado en Python. Generalmente, es bueno tener un nuevo entorno virtual para cada proyecto basado en Python en el que se trabaje. Así, las dependencias de cada proyecto estarán aisladas del sistema y entre sí.\n",
    "\n",
    "**¿Cómo funciona un entorno virtual?**\n",
    "\n",
    "Hay muchas herramientas para crear entornos aislados de Python. En general, crean una carpeta que contiene todos los ejecutables necesarios para utilizar los paquetes que un proyecto Python necesitaría. Los más comunes son:\n",
    "\n",
    "\n",
    "*   Conda\n",
    "*   Virtualenv\n",
    "\n"
   ]
  },
  {
   "cell_type": "markdown",
   "metadata": {
    "id": "0VmAJyHSYrFy"
   },
   "source": [
    "## Conda\n",
    "\n",
    "Es una herramienta que permite gestionar paquetes, dependencias y entornos en Python (en otros lenguajes también).\n",
    "\n"
   ]
  },
  {
   "cell_type": "markdown",
   "metadata": {
    "id": "JkJOBQf0ZIkQ"
   },
   "source": [
    "### Instalación\n",
    "\n",
    "Ingresar al [link](https://www.anaconda.com/products/individual#Downloads) y descargar Anaconda de acuerdo al Sistema Operativo que tenga en la computadora.\n",
    "\n",
    "En la notebook de tutoriales se encuentra el paso a paso de cómo instalar Anaconda y verificar si la instalación fue correcta.\n"
   ]
  },
  {
   "cell_type": "markdown",
   "metadata": {
    "id": "1brOFJo7ZPae"
   },
   "source": [
    "### Crear un Entorno\n",
    "\n",
    "Para crear un entorno es necesario abrir una terminal/consola y ejecutar el siguiente comando:\n",
    "\n",
    "\n",
    "\n",
    "```\n",
    "conda create --name mi_entorno\n",
    "```\n",
    "\n",
    "<img src=\"https://drive.google.com/uc?export=view&id=1i2euuPYwZUFY6Dvvl1ODHqDDNm7yKfNH\" alt=\"GitHub Logo\" />\n",
    "\n",
    "\n",
    "### Activar un entorno\n",
    "Una vez creado el entorno es necesario activarlo para ello es necesario correr el siguiente comando:\n",
    "\n",
    "```\n",
    "conda activate mi_entorno\n",
    "```\n",
    "\n",
    "<img src=\"https://drive.google.com/uc?export=view&id=1nZ51CHTwvnmaXv2PGzmDc25TL0B0vWgw\" alt=\"GitHub Logo\" />\n",
    "\n",
    "Observen que antes aparecía **(base)** y ahora aparece el nombre del entorno que acabo de activar **(mi_entorno)**\n",
    "\n",
    "\n"
   ]
  },
  {
   "cell_type": "markdown",
   "metadata": {
    "id": "t6BjRRLC8Yoc"
   },
   "source": [
    "### Desactivar un Entorno\n",
    "Una vez creado el entorno es necesario activarlo para ello es necesario correr el siguiente comando:\n",
    "\n",
    "```\n",
    "conda deactivate\n",
    "```\n",
    "```\n",
    "(mi_entorno) C:\\..\\entornos> conda deactivate\n",
    "(base) C:\\..\\entornos>   \n",
    "```\n",
    "Observen que cambia de  **(mi_entorno)** a **(base)**\n"
   ]
  },
  {
   "cell_type": "markdown",
   "metadata": {
    "id": "cqaB2g6g-tQS"
   },
   "source": [
    "### Listar Todos los Entornos\n",
    "\n",
    "Con el siguiente comando se pueden ver todos los entornos que estan creados. El que tiene el \"*\" es el entorno activado\n",
    "\n",
    "```\n",
    "conda info --envs\n",
    "```\n",
    "\n",
    "<img src=\"https://drive.google.com/uc?export=view&id=1sYVhz6wDjyT5NimWzbN5KCBH5h1F4Dw_\" alt=\"GitHub Logo\" />\n",
    "\n"
   ]
  },
  {
   "cell_type": "markdown",
   "metadata": {
    "id": "vl9U_L0q_2kD"
   },
   "source": [
    "### Ver Librerías Instaladas en un Entorno\n",
    "El siguiente comando nos permite ver las librerías que el entorno tiene instaladas\n",
    "\n",
    "```\n",
    "conda list\n",
    "```\n",
    "\n",
    "<img src=\"https://drive.google.com/uc?export=view&id=1lb8UAY8Shub1BZUX5sy6Qdtw8kHNv_w7\" alt=\"GitHub Logo\" />\n",
    "\n"
   ]
  },
  {
   "cell_type": "markdown",
   "metadata": {
    "id": "RlSyVMfrAsSm"
   },
   "source": [
    "### Instalar Librerías Desde Conda\n",
    "\n",
    "Supongamos que queremos instalar la libreria `numpy` que no esta en la lista, ejecutamos el siguiente comando:\n",
    "\n",
    "\n",
    "\n",
    "```\n",
    "conda install <nombre de la libreria>\n",
    "\n",
    "conda install numpy\n",
    "```\n",
    "\n",
    "<img src=\"https://drive.google.com/uc?export=view&id=178noWX_MvC8W8hANdkXSAq7bFpMo3Jpc\" alt=\"GitHub Logo\" />\n",
    "\n",
    "si listamos todas las librerias vamos a observar que la libreria numpy ya aparece:\n",
    "\n",
    "```\n",
    "conda list\n",
    "\n",
    "numpy                     1.20.1\n",
    "```\n",
    "\n",
    "           \n"
   ]
  },
  {
   "cell_type": "markdown",
   "metadata": {
    "id": "tTfMfOJZErOr"
   },
   "source": [
    "## Jupyter Project\n",
    "\n",
    "<img src=\"https://upload.wikimedia.org/wikipedia/commons/thumb/3/38/Jupyter_logo.svg/490px-Jupyter_logo.svg.png\" alt=\"GitHub Logo\" width=\"200\" align=\"center\"/>"
   ]
  },
  {
   "cell_type": "markdown",
   "metadata": {
    "id": "EIa2xbGW1BwX"
   },
   "source": [
    "### Jupyter Notebook\n",
    "\n",
    "Jupyter Notebook (anteriormente IPython Notebooks) es una aplicación web que permite crear documentos de Jupyter notebook. Un documento de Jupyter Notebook es un documento JSON, que sigue un esquema versionado y que contiene una lista ordenada de celdas que pueden ser de código y texto.\n",
    "\n",
    "<img src=\"https://jupyter.org/assets/jupyterpreview.png\" alt=\"GitHub Logo\" align=\"center\"/>\n"
   ]
  },
  {
   "cell_type": "markdown",
   "metadata": {
    "id": "Dly3gDoPHC-D"
   },
   "source": [
    "#### Ejecutar Jupyter Notebook Localmente\n",
    "\n",
    "En el entorno creado llamado **mi_entorno**  instalamos jupyter. Para ello tenemos que ejecutar el siguiente comando:\n",
    "\n",
    "\n",
    "\n",
    "```\n",
    "conda install jupyter\n",
    "```\n",
    "\n",
    "<img src=\"https://drive.google.com/uc?export=view&id=1EjGkAxt9pgP8rJJ3nsYGBcbVxmm3bUrG\" alt=\"GitHub Logo\" />\n",
    "\n",
    "\n",
    "Una vez instalado jupyter, comenzamos a correr Jupyter notebook:\n",
    "\n",
    "\n",
    "```\n",
    "jupyter notebook\n",
    "```\n",
    "\n",
    "<img src=\"https://drive.google.com/uc?export=view&id=11P4jaC-VOrLgaXS6HCp5Z5x6GSvPESG1\" alt=\"GitHub Logo\" />\n",
    "\n",
    "Automaticamente se va a abrir una pestaña en Chrome (si no lo hace click -> http://localhost:8888/tree):\n",
    "\n",
    "<img src=\"https://drive.google.com/uc?export=view&id=1vqHAF_PvkY0ptSWVsM0Mz08R3IIC_w3B\" alt=\"GitHub Logo\" />\n",
    "\n",
    "\n",
    "Vamos a crear la primera notebook, para ello click en **new** y elegimos **Python 3**\n",
    "\n",
    "\n",
    "<img src=\"https://drive.google.com/uc?export=view&id=1virHz8GlmEa3-bjEAQmOx0I8RcL1UT6R\" alt=\"GitHub Logo\" />\n",
    "\n",
    "\n",
    "Se va a abrir una nueva pestaña en donde ya vemos la notebook como en Colab. Ejecutamos un print para verificar que funciona correctamente:\n",
    "\n",
    "\n",
    "<img src=\"https://drive.google.com/uc?export=view&id=1iXjI_tRUTQSpCZoeRUy184s-AZnxwilK\" alt=\"GitHub Logo\" />"
   ]
  },
  {
   "cell_type": "markdown",
   "metadata": {
    "id": "Ep1Kj2if1BOQ"
   },
   "source": [
    "### Jupyter Lab\n",
    "\n",
    "JupyterLab es un entorno de desarrollo interactivo basado en web para Jupyter notebooks, código y datos. JupyterLab es flexible ya que permite configurar y organizar la interfaz de usuario para admitir amplia gama de flujos de trabajo en ciencia de datos, informática científica y aprendizaje automático. JupyterLab es extensible y modular: escribe complementos que agregan nuevos componentes y se integran con los existentes.\n",
    "\n",
    "<img src=\"https://jupyter.org/assets/labpreview.png\" alt=\"GitHub Logo\" align=\"center\"/>\n"
   ]
  },
  {
   "cell_type": "markdown",
   "metadata": {
    "id": "QwB-94TOWpJ6"
   },
   "source": [
    "#### Ejecutar Jupyter Lab Localmente\n",
    "\n",
    "A esta altura tenemos un entorno creado llamado **mi_entorno**. Si observamos la lista de librerias que tiene ese entorno podemos observar que Jupyter Lab no está instalado. Para instalar Jupyter Lab tenemos que ejecutar el siguiente comando:\n",
    "\n",
    "\n",
    "```\n",
    " conda install -c conda-forge jupyterlab\n",
    "```\n",
    "\n",
    "<img src=\"https://drive.google.com/uc?export=view&id=1S1-yjfmZuPO35w45PW22mLZMFEXJGuCG\" alt=\"GitHub Logo\" />\n",
    "\n"
   ]
  },
  {
   "cell_type": "markdown",
   "metadata": {
    "id": "uWoKYf_xXYOw"
   },
   "source": [
    "Una vez instalamos corremos el siguiente comando para iniciar Jupyter Lab:\n",
    "\n",
    "\n",
    "\n",
    "```\n",
    "jupyter lab\n",
    "```\n",
    "\n",
    "<img src=\"https://drive.google.com/uc?export=view&id=1dHf5wJC1BLx3HLDzPcbovo5svsgJGSHV\" alt=\"GitHub Logo\" />\n",
    "\n",
    "\n",
    "Automaticamente se va a abrir una pestaña en Chrome (si no lo hace click -> http://localhost:8909/lab/):\n",
    "\n",
    "<img src=\"https://drive.google.com/uc?export=view&id=1V4aS99XSgv6kmmKcjJZwcF6rOJGYZe_3\" alt=\"GitHub Logo\" />\n"
   ]
  },
  {
   "cell_type": "markdown",
   "metadata": {
    "id": "D1FptGMjFqtD"
   },
   "source": []
  },
  {
   "cell_type": "markdown",
   "metadata": {
    "id": "d7PsXsYsVGIZ"
   },
   "source": [
    "### Instalar Librerias Desde una Notebook\n",
    "\n",
    "<img src=\"https://drive.google.com/uc?export=view&id=1WIj7NMhqltfLR5n60DEl61sylJaUV-RZ\" alt=\"GitHub Logo\" />\n",
    "\n",
    "Las librerias se pueden instalar desde la notebook a través de **pip**. Pip es un sistema de gestion de paquetes. \n",
    "Con el siguiente comando instalamos un paquete:\n",
    "\n",
    "\n",
    "\n",
    "```\n",
    "!pip install <nombre del paquete>\n",
    "```\n",
    "\n",
    "\n",
    "\n",
    "\n",
    "Si les aparece un error de certificados agreguen \n",
    "\n",
    "```\n",
    " --trusted-host pypi.org --trusted-host files.pythonhosted.org\n",
    "```\n",
    "\n"
   ]
  },
  {
   "cell_type": "markdown",
   "metadata": {
    "id": "5Wt9uxfMLO38"
   },
   "source": [
    "### Jupyter Notebook Extensions\n",
    "Vamos a instalar extensiones que son super útiles a la hora de utilizar las notebook. Para esto es necesario activar las extensiones. Apagamos la notebook si esta corriendo y ejecutamos alguno de los dos comandos (a mi particularmente pip me da error de certificados, asi que use conda)\n",
    "\n",
    "```\n",
    "pip install jupyter_contrib_nbextensions && jupyter contrib nbextension install \n",
    "\n",
    "```\n",
    "\n",
    "o\n",
    "\n",
    "```\n",
    "conda install -c conda-forge jupyter_contrib_nbextensions\n",
    "\n",
    "jupyter contrib nbextension install --sys-prefix\n",
    "\n",
    "```\n",
    "\n",
    "Iniciamos la notebook nuevamente y vamos a observar que una nueva pestaña ha aparecido:\n",
    "\n",
    "<img src=\"https://miro.medium.com/max/3260/1*hRhdOuS-4NxEyd4Yqlzwxg.png\" alt=\"GitHub Logo\"  align=\"center\"/>\n",
    "\n",
    "Extensiones recomendadas:\n",
    "\n",
    "1. Table of Contents (2)\n",
    "2. Collapsible Headings\n",
    "3. Highlight Selected Word"
   ]
  },
  {
   "cell_type": "markdown",
   "metadata": {
    "id": "Z2YLQz7a6YOI"
   },
   "source": [
    "# Errores y Debugging\n",
    "\n",
    "Tan pronto como un programa tiene una linea de código, esa linea puede tener un defecto. Un defecto es cuando nuestro código hace algo que no esperamos que haga. La tarea de ***debugging*** es encontrar esos defectos y arreglarlos.\n",
    "\n",
    "**Pasos a seguir:**\n",
    "\n",
    "\n",
    "*   Saber cuál es el funcionamiento correcto de un programa\n",
    "*   Nos damos con que hay un defecto\n",
    "*   Encontramos donde ocurre el defecto\n",
    "*   Arreglamos el programa\n",
    "\n",
    "\n",
    "\n"
   ]
  },
  {
   "cell_type": "markdown",
   "metadata": {
    "id": "bVFBQz-Rfb9r"
   },
   "source": [
    "## Excepciones\n",
    "\n",
    "Las excepciones son defectos conocidos. \n",
    "\n"
   ]
  },
  {
   "cell_type": "markdown",
   "metadata": {
    "id": "q5PQ1xhpfnEY"
   },
   "source": [
    "### Excepciones Comunes\n",
    "\n",
    "**`SyntaxError`** es el error más común: Python no puede leer la instrucción porque está mal escrita. Suele ocurrir por *typos*, caracteres de más o de menos, caracteres especiales en lugares que no corresponden, entre otras incidencias."
   ]
  },
  {
   "cell_type": "code",
   "execution_count": null,
   "metadata": {
    "colab": {
     "base_uri": "https://localhost:8080/",
     "height": 130
    },
    "executionInfo": {
     "elapsed": 3381,
     "status": "error",
     "timestamp": 1621004983216,
     "user": {
      "displayName": "sofia lujan",
      "photoUrl": "https://lh3.googleusercontent.com/a-/AOh14GhRjGY1pGqEbZ6NzzBty0QMgutVKtWpvUr5f7ch8Q=s64",
      "userId": "04644358706352499859"
     },
     "user_tz": 180
    },
    "id": "DDtna_ecbOZ3",
    "outputId": "d782d872-b0e8-404d-802d-7fa0fb45e1c0"
   },
   "outputs": [
    {
     "ename": "SyntaxError",
     "evalue": "ignored",
     "output_type": "error",
     "traceback": [
      "\u001b[0;36m  File \u001b[0;32m\"<ipython-input-9-b02e85a0c3cf>\"\u001b[0;36m, line \u001b[0;32m1\u001b[0m\n\u001b[0;31m    imprt math\u001b[0m\n\u001b[0m             ^\u001b[0m\n\u001b[0;31mSyntaxError\u001b[0m\u001b[0;31m:\u001b[0m invalid syntax\n"
     ]
    }
   ],
   "source": [
    "imprt math"
   ]
  },
  {
   "cell_type": "markdown",
   "metadata": {
    "id": "Gh0kL7j3cWSg"
   },
   "source": [
    "Un **unexpected EOF while parsing** se produce porque Python llega al final de programa y éste termina sin saber bien qué es lo que tiene que hacer. Por ejemplo:"
   ]
  },
  {
   "cell_type": "code",
   "execution_count": null,
   "metadata": {
    "colab": {
     "base_uri": "https://localhost:8080/",
     "height": 130
    },
    "executionInfo": {
     "elapsed": 1352,
     "status": "error",
     "timestamp": 1621005259743,
     "user": {
      "displayName": "sofia lujan",
      "photoUrl": "https://lh3.googleusercontent.com/a-/AOh14GhRjGY1pGqEbZ6NzzBty0QMgutVKtWpvUr5f7ch8Q=s64",
      "userId": "04644358706352499859"
     },
     "user_tz": 180
    },
    "id": "gbiujIMrb3Wm",
    "outputId": "6fe39cd1-6f5d-4f8f-d4c4-b3f4f38367e3"
   },
   "outputs": [
    {
     "ename": "SyntaxError",
     "evalue": "ignored",
     "output_type": "error",
     "traceback": [
      "\u001b[0;36m  File \u001b[0;32m\"<ipython-input-16-d0edb50a3764>\"\u001b[0;36m, line \u001b[0;32m5\u001b[0m\n\u001b[0;31m    ('*', 3, 0), # player\u001b[0m\n\u001b[0m                           ^\u001b[0m\n\u001b[0;31mSyntaxError\u001b[0m\u001b[0;31m:\u001b[0m unexpected EOF while parsing\n"
     ]
    }
   ],
   "source": [
    "una_lista = [\n",
    "    ('#', 0, 0), # wall\n",
    "    (' ', 0, 1), # floor\n",
    "    ('.', 2, 0), # dot\n",
    "    ('*', 3, 0), # player  "
   ]
  },
  {
   "cell_type": "markdown",
   "metadata": {
    "id": "MIAbejcbc53c"
   },
   "source": [
    "Otro posible error es **`IndentationError`: unexpected indent**. En el siguiente ejemplo, este error surge como consecuencia de que Python no sabe como interpretar lo que está declarado."
   ]
  },
  {
   "cell_type": "code",
   "execution_count": null,
   "metadata": {
    "colab": {
     "base_uri": "https://localhost:8080/",
     "height": 130
    },
    "executionInfo": {
     "elapsed": 4389,
     "status": "error",
     "timestamp": 1621005662814,
     "user": {
      "displayName": "sofia lujan",
      "photoUrl": "https://lh3.googleusercontent.com/a-/AOh14GhRjGY1pGqEbZ6NzzBty0QMgutVKtWpvUr5f7ch8Q=s64",
      "userId": "04644358706352499859"
     },
     "user_tz": 180
    },
    "id": "94CBmS8uc6AK",
    "outputId": "09bc3a02-0be1-41fa-ce02-421805c07ec2"
   },
   "outputs": [
    {
     "ename": "IndentationError",
     "evalue": "ignored",
     "output_type": "error",
     "traceback": [
      "\u001b[0;36m  File \u001b[0;32m\"<ipython-input-22-ade84ac7dfe4>\"\u001b[0;36m, line \u001b[0;32m2\u001b[0m\n\u001b[0;31m    (' ', 0, 1),\u001b[0m\n\u001b[0m    ^\u001b[0m\n\u001b[0;31mIndentationError\u001b[0m\u001b[0;31m:\u001b[0m unexpected indent\n"
     ]
    }
   ],
   "source": [
    "TILE_POSITIONS = ('#', 0, 0),\n",
    "                  (' ', 0, 1),\n",
    "                 ('.', 2, 0),\n",
    "                 ('*', 3, 0),\n",
    "                ]"
   ]
  },
  {
   "cell_type": "markdown",
   "metadata": {
    "id": "QFMlk8RGeZUQ"
   },
   "source": [
    "### El Mensaje de Error\n",
    "\n",
    "Cuando salta una error, podemos observar 3 partes:\n",
    "\n",
    "\n",
    "*   Tipo de error\n",
    "*   Descripción del error: explica cual es el problema\n",
    "*   ***Traceback***: contiene información de dónde ocurrió el error\n",
    "\n",
    "\n",
    "```\n",
    "  File \"<ipython-input-22-ade84ac7dfe4>\", line 2.   <- Traceback\n",
    "    (' ', 0, 1),\n",
    "    ^\n",
    "IndentationError: unexpected indent.               <- Tipo de error y descripción \n",
    "```\n",
    "\n",
    "\n"
   ]
  },
  {
   "cell_type": "markdown",
   "metadata": {
    "id": "sFDSa7nR7kNe"
   },
   "source": [
    "## Controlando excepciones: %xmode\n",
    "\n",
    "La mayoría de las veces el código falla, y en esos casos sale una excepción. Cuando esto sucede, información sobre la causa del error es desplegada. La funcionalidad **%xmode** nos permite controlar la cantidad de información sobre el error. **%xmode** tiene 3 posibilidades: Plain, Context y Verbose. Por default está Context. Veamos las diferencias:\n",
    "\n",
    "La ejecución de la siguiente función se ve interrumpida a causa de que no se puede dividir por cero:\n",
    "\n"
   ]
  },
  {
   "cell_type": "markdown",
   "metadata": {
    "id": "u85GEScG99Nn"
   },
   "source": [
    "### %xmode Context"
   ]
  },
  {
   "cell_type": "code",
   "execution_count": null,
   "metadata": {
    "colab": {
     "base_uri": "https://localhost:8080/"
    },
    "executionInfo": {
     "elapsed": 2841,
     "status": "ok",
     "timestamp": 1620997312612,
     "user": {
      "displayName": "sofia lujan",
      "photoUrl": "https://lh3.googleusercontent.com/a-/AOh14GhRjGY1pGqEbZ6NzzBty0QMgutVKtWpvUr5f7ch8Q=s64",
      "userId": "04644358706352499859"
     },
     "user_tz": 180
    },
    "id": "6IxKR9ey9-nZ",
    "outputId": "f67a12dd-ade2-481d-88b8-d77baf44dbdc"
   },
   "outputs": [
    {
     "name": "stdout",
     "output_type": "stream",
     "text": [
      "Exception reporting mode: Context\n"
     ]
    }
   ],
   "source": [
    "%xmode Context"
   ]
  },
  {
   "cell_type": "code",
   "execution_count": null,
   "metadata": {
    "colab": {
     "base_uri": "https://localhost:8080/",
     "height": 300
    },
    "executionInfo": {
     "elapsed": 3720,
     "status": "error",
     "timestamp": 1620997317159,
     "user": {
      "displayName": "sofia lujan",
      "photoUrl": "https://lh3.googleusercontent.com/a-/AOh14GhRjGY1pGqEbZ6NzzBty0QMgutVKtWpvUr5f7ch8Q=s64",
      "userId": "04644358706352499859"
     },
     "user_tz": 180
    },
    "id": "dmxDGJWiJq-f",
    "outputId": "4f0282b6-d7ec-451c-a840-c53214918724"
   },
   "outputs": [
    {
     "ename": "ZeroDivisionError",
     "evalue": "ignored",
     "output_type": "error",
     "traceback": [
      "\u001b[0;31m---------------------------------------------------------------------------\u001b[0m",
      "\u001b[0;31mZeroDivisionError\u001b[0m                         Traceback (most recent call last)",
      "\u001b[0;32m<ipython-input-7-44f78d308f5b>\u001b[0m in \u001b[0;36m<module>\u001b[0;34m()\u001b[0m\n\u001b[1;32m      2\u001b[0m     \u001b[0;32mreturn\u001b[0m \u001b[0ma\u001b[0m \u001b[0;34m/\u001b[0m \u001b[0mb\u001b[0m\u001b[0;34m\u001b[0m\u001b[0;34m\u001b[0m\u001b[0m\n\u001b[1;32m      3\u001b[0m \u001b[0;34m\u001b[0m\u001b[0m\n\u001b[0;32m----> 4\u001b[0;31m \u001b[0mdivision\u001b[0m\u001b[0;34m(\u001b[0m\u001b[0;36m1\u001b[0m\u001b[0;34m,\u001b[0m\u001b[0;36m0\u001b[0m\u001b[0;34m)\u001b[0m\u001b[0;34m\u001b[0m\u001b[0;34m\u001b[0m\u001b[0m\n\u001b[0m",
      "\u001b[0;32m<ipython-input-7-44f78d308f5b>\u001b[0m in \u001b[0;36mdivision\u001b[0;34m(a, b)\u001b[0m\n\u001b[1;32m      1\u001b[0m \u001b[0;32mdef\u001b[0m \u001b[0mdivision\u001b[0m\u001b[0;34m(\u001b[0m\u001b[0ma\u001b[0m\u001b[0;34m,\u001b[0m \u001b[0mb\u001b[0m\u001b[0;34m)\u001b[0m\u001b[0;34m:\u001b[0m\u001b[0;34m\u001b[0m\u001b[0;34m\u001b[0m\u001b[0m\n\u001b[0;32m----> 2\u001b[0;31m     \u001b[0;32mreturn\u001b[0m \u001b[0ma\u001b[0m \u001b[0;34m/\u001b[0m \u001b[0mb\u001b[0m\u001b[0;34m\u001b[0m\u001b[0;34m\u001b[0m\u001b[0m\n\u001b[0m\u001b[1;32m      3\u001b[0m \u001b[0;34m\u001b[0m\u001b[0m\n\u001b[1;32m      4\u001b[0m \u001b[0mdivision\u001b[0m\u001b[0;34m(\u001b[0m\u001b[0;36m1\u001b[0m\u001b[0;34m,\u001b[0m\u001b[0;36m0\u001b[0m\u001b[0;34m)\u001b[0m\u001b[0;34m\u001b[0m\u001b[0;34m\u001b[0m\u001b[0m\n",
      "\u001b[0;31mZeroDivisionError\u001b[0m: division by zero"
     ]
    }
   ],
   "source": [
    "def division(a, b):\n",
    "    return a / b\n",
    "\n",
    "division(1,0)"
   ]
  },
  {
   "cell_type": "markdown",
   "metadata": {
    "id": "CpJyNacf9tRX"
   },
   "source": [
    "### %xmode Plain"
   ]
  },
  {
   "cell_type": "code",
   "execution_count": null,
   "metadata": {
    "colab": {
     "base_uri": "https://localhost:8080/"
    },
    "executionInfo": {
     "elapsed": 4981,
     "status": "ok",
     "timestamp": 1620997162160,
     "user": {
      "displayName": "sofia lujan",
      "photoUrl": "https://lh3.googleusercontent.com/a-/AOh14GhRjGY1pGqEbZ6NzzBty0QMgutVKtWpvUr5f7ch8Q=s64",
      "userId": "04644358706352499859"
     },
     "user_tz": 180
    },
    "id": "WuuhAt4k8462",
    "outputId": "918de774-3cf4-46eb-fba3-aec75ca09e25"
   },
   "outputs": [
    {
     "name": "stdout",
     "output_type": "stream",
     "text": [
      "Exception reporting mode: Plain\n"
     ]
    }
   ],
   "source": [
    "%xmode Plain"
   ]
  },
  {
   "cell_type": "code",
   "execution_count": null,
   "metadata": {
    "colab": {
     "base_uri": "https://localhost:8080/",
     "height": 215
    },
    "executionInfo": {
     "elapsed": 4986,
     "status": "error",
     "timestamp": 1620997164387,
     "user": {
      "displayName": "sofia lujan",
      "photoUrl": "https://lh3.googleusercontent.com/a-/AOh14GhRjGY1pGqEbZ6NzzBty0QMgutVKtWpvUr5f7ch8Q=s64",
      "userId": "04644358706352499859"
     },
     "user_tz": 180
    },
    "id": "7JmR9Mub9bEJ",
    "outputId": "eac61b32-f425-4657-ff74-2bef3fe77318"
   },
   "outputs": [
    {
     "ename": "ZeroDivisionError",
     "evalue": "ignored",
     "output_type": "error",
     "traceback": [
      "Traceback \u001b[0;36m(most recent call last)\u001b[0m:\n",
      "  File \u001b[1;32m\"<ipython-input-3-b1a4f064b07e>\"\u001b[0m, line \u001b[1;32m1\u001b[0m, in \u001b[1;35m<module>\u001b[0m\n    division(1,0)\n",
      "\u001b[0;36m  File \u001b[0;32m\"<ipython-input-1-44f78d308f5b>\"\u001b[0;36m, line \u001b[0;32m2\u001b[0;36m, in \u001b[0;35mdivision\u001b[0;36m\u001b[0m\n\u001b[0;31m    return a / b\u001b[0m\n",
      "\u001b[0;31mZeroDivisionError\u001b[0m\u001b[0;31m:\u001b[0m division by zero\n"
     ]
    }
   ],
   "source": [
    "division(1,0)"
   ]
  },
  {
   "cell_type": "markdown",
   "metadata": {
    "id": "tRpO8alx9v0d"
   },
   "source": [
    "### %xmode Verbose"
   ]
  },
  {
   "cell_type": "code",
   "execution_count": null,
   "metadata": {
    "colab": {
     "base_uri": "https://localhost:8080/"
    },
    "executionInfo": {
     "elapsed": 4053,
     "status": "ok",
     "timestamp": 1620997273016,
     "user": {
      "displayName": "sofia lujan",
      "photoUrl": "https://lh3.googleusercontent.com/a-/AOh14GhRjGY1pGqEbZ6NzzBty0QMgutVKtWpvUr5f7ch8Q=s64",
      "userId": "04644358706352499859"
     },
     "user_tz": 180
    },
    "id": "CZnzvMXS9bm8",
    "outputId": "0b4f68d5-e313-4c60-88c8-1c88ce1fadcf"
   },
   "outputs": [
    {
     "name": "stdout",
     "output_type": "stream",
     "text": [
      "Exception reporting mode: Verbose\n"
     ]
    }
   ],
   "source": [
    "%xmode Verbose"
   ]
  },
  {
   "cell_type": "code",
   "execution_count": null,
   "metadata": {
    "colab": {
     "base_uri": "https://localhost:8080/",
     "height": 317
    },
    "executionInfo": {
     "elapsed": 4428,
     "status": "error",
     "timestamp": 1620997278094,
     "user": {
      "displayName": "sofia lujan",
      "photoUrl": "https://lh3.googleusercontent.com/a-/AOh14GhRjGY1pGqEbZ6NzzBty0QMgutVKtWpvUr5f7ch8Q=s64",
      "userId": "04644358706352499859"
     },
     "user_tz": 180
    },
    "id": "Ssndw-rV919q",
    "outputId": "50dafa5f-d37e-498f-8d1b-a291041d6096"
   },
   "outputs": [
    {
     "ename": "ZeroDivisionError",
     "evalue": "ignored",
     "output_type": "error",
     "traceback": [
      "\u001b[0;31m---------------------------------------------------------------------------\u001b[0m",
      "\u001b[0;31mZeroDivisionError\u001b[0m                         Traceback (most recent call last)",
      "\u001b[0;32m<ipython-input-5-b1a4f064b07e>\u001b[0m in \u001b[0;36m<module>\u001b[0;34m()\u001b[0m\n\u001b[0;32m----> 1\u001b[0;31m \u001b[0mdivision\u001b[0m\u001b[0;34m(\u001b[0m\u001b[0;36m1\u001b[0m\u001b[0;34m,\u001b[0m\u001b[0;36m0\u001b[0m\u001b[0;34m)\u001b[0m\u001b[0;34m\u001b[0m\u001b[0;34m\u001b[0m\u001b[0m\n\u001b[0m        \u001b[0;36mglobal\u001b[0m \u001b[0;36mdivision\u001b[0m \u001b[0;34m= <function division at 0x7f4cd57540e0>\u001b[0m\n",
      "\u001b[0;32m<ipython-input-1-44f78d308f5b>\u001b[0m in \u001b[0;36mdivision\u001b[0;34m(a=1, b=0)\u001b[0m\n\u001b[1;32m      1\u001b[0m \u001b[0;32mdef\u001b[0m \u001b[0mdivision\u001b[0m\u001b[0;34m(\u001b[0m\u001b[0ma\u001b[0m\u001b[0;34m,\u001b[0m \u001b[0mb\u001b[0m\u001b[0;34m)\u001b[0m\u001b[0;34m:\u001b[0m\u001b[0;34m\u001b[0m\u001b[0;34m\u001b[0m\u001b[0m\n\u001b[0;32m----> 2\u001b[0;31m     \u001b[0;32mreturn\u001b[0m \u001b[0ma\u001b[0m \u001b[0;34m/\u001b[0m \u001b[0mb\u001b[0m\u001b[0;34m\u001b[0m\u001b[0;34m\u001b[0m\u001b[0m\n\u001b[0m        \u001b[0;36ma\u001b[0m \u001b[0;34m= 1\u001b[0m\u001b[0;34m\n        \u001b[0m\u001b[0;36mb\u001b[0m \u001b[0;34m= 0\u001b[0m\n\u001b[1;32m      3\u001b[0m \u001b[0;34m\u001b[0m\u001b[0m\n\u001b[1;32m      4\u001b[0m \u001b[0mdivision\u001b[0m\u001b[0;34m(\u001b[0m\u001b[0;36m1\u001b[0m\u001b[0;34m,\u001b[0m\u001b[0;36m0\u001b[0m\u001b[0;34m)\u001b[0m\u001b[0;34m\u001b[0m\u001b[0;34m\u001b[0m\u001b[0m\n",
      "\u001b[0;31mZeroDivisionError\u001b[0m: division by zero"
     ]
    }
   ],
   "source": [
    "division(1,0)"
   ]
  },
  {
   "cell_type": "markdown",
   "metadata": {
    "id": "kR84kjrhBAdV"
   },
   "source": [
    "## Debug"
   ]
  },
  {
   "cell_type": "code",
   "execution_count": null,
   "metadata": {
    "colab": {
     "base_uri": "https://localhost:8080/",
     "height": 657
    },
    "executionInfo": {
     "elapsed": 690286,
     "status": "error",
     "timestamp": 1620998079040,
     "user": {
      "displayName": "sofia lujan",
      "photoUrl": "https://lh3.googleusercontent.com/a-/AOh14GhRjGY1pGqEbZ6NzzBty0QMgutVKtWpvUr5f7ch8Q=s64",
      "userId": "04644358706352499859"
     },
     "user_tz": 180
    },
    "id": "qX477ctw93ge",
    "outputId": "4f6573d2-6720-4f44-de41-e34e99c9babb"
   },
   "outputs": [
    {
     "name": "stdout",
     "output_type": "stream",
     "text": [
      "> \u001b[0;32m<ipython-input-7-44f78d308f5b>\u001b[0m(2)\u001b[0;36mdivision\u001b[0;34m()\u001b[0m\n",
      "\u001b[0;32m      1 \u001b[0;31m\u001b[0;32mdef\u001b[0m \u001b[0mdivision\u001b[0m\u001b[0;34m(\u001b[0m\u001b[0ma\u001b[0m\u001b[0;34m,\u001b[0m \u001b[0mb\u001b[0m\u001b[0;34m)\u001b[0m\u001b[0;34m:\u001b[0m\u001b[0;34m\u001b[0m\u001b[0;34m\u001b[0m\u001b[0m\n",
      "\u001b[0m\u001b[0;32m----> 2 \u001b[0;31m    \u001b[0;32mreturn\u001b[0m \u001b[0ma\u001b[0m \u001b[0;34m/\u001b[0m \u001b[0mb\u001b[0m\u001b[0;34m\u001b[0m\u001b[0;34m\u001b[0m\u001b[0m\n",
      "\u001b[0m\u001b[0;32m      3 \u001b[0;31m\u001b[0;34m\u001b[0m\u001b[0m\n",
      "\u001b[0m\u001b[0;32m      4 \u001b[0;31m\u001b[0mdivision\u001b[0m\u001b[0;34m(\u001b[0m\u001b[0;36m1\u001b[0m\u001b[0;34m,\u001b[0m\u001b[0;36m0\u001b[0m\u001b[0;34m)\u001b[0m\u001b[0;34m\u001b[0m\u001b[0;34m\u001b[0m\u001b[0m\n",
      "\u001b[0m\n",
      "ipdb> a\n",
      "a = 1\n",
      "b = 0\n",
      "--KeyboardInterrupt--\n",
      "ipdb> exit\n"
     ]
    },
    {
     "name": "stderr",
     "output_type": "stream",
     "text": [
      "\n",
      "PYDEV DEBUGGER WARNING:\n",
      "sys.settrace() should not be used when the debugger is being used.\n",
      "This may cause the debugger to stop working correctly.\n",
      "If this is needed, please check: \n",
      "http://pydev.blogspot.com/2007/06/why-cant-pydev-debugger-work-with.html\n",
      "to see how to restore the debug tracing back correctly.\n",
      "Call Location:\n",
      "  File \"/usr/lib/python3.7/bdb.py\", line 357, in set_quit\n",
      "    sys.settrace(None)\n",
      "\n"
     ]
    },
    {
     "ename": "ZeroDivisionError",
     "evalue": "ignored",
     "output_type": "error",
     "traceback": [
      "\u001b[0;31m---------------------------------------------------------------------------\u001b[0m",
      "\u001b[0;31mZeroDivisionError\u001b[0m                         Traceback (most recent call last)",
      "\u001b[0;32m<ipython-input-8-f0135c0359b5>\u001b[0m in \u001b[0;36m<module>\u001b[0;34m()\u001b[0m\n\u001b[1;32m      1\u001b[0m \u001b[0mget_ipython\u001b[0m\u001b[0;34m(\u001b[0m\u001b[0;34m)\u001b[0m\u001b[0;34m.\u001b[0m\u001b[0mmagic\u001b[0m\u001b[0;34m(\u001b[0m\u001b[0;34m'debug'\u001b[0m\u001b[0;34m)\u001b[0m\u001b[0;34m\u001b[0m\u001b[0;34m\u001b[0m\u001b[0m\n\u001b[0;32m----> 2\u001b[0;31m \u001b[0mdivision\u001b[0m\u001b[0;34m(\u001b[0m\u001b[0;36m1\u001b[0m\u001b[0;34m,\u001b[0m\u001b[0;36m0\u001b[0m\u001b[0;34m)\u001b[0m\u001b[0;34m\u001b[0m\u001b[0;34m\u001b[0m\u001b[0m\n\u001b[0m",
      "\u001b[0;32m<ipython-input-7-44f78d308f5b>\u001b[0m in \u001b[0;36mdivision\u001b[0;34m(a, b)\u001b[0m\n\u001b[1;32m      1\u001b[0m \u001b[0;32mdef\u001b[0m \u001b[0mdivision\u001b[0m\u001b[0;34m(\u001b[0m\u001b[0ma\u001b[0m\u001b[0;34m,\u001b[0m \u001b[0mb\u001b[0m\u001b[0;34m)\u001b[0m\u001b[0;34m:\u001b[0m\u001b[0;34m\u001b[0m\u001b[0;34m\u001b[0m\u001b[0m\n\u001b[0;32m----> 2\u001b[0;31m     \u001b[0;32mreturn\u001b[0m \u001b[0ma\u001b[0m \u001b[0;34m/\u001b[0m \u001b[0mb\u001b[0m\u001b[0;34m\u001b[0m\u001b[0;34m\u001b[0m\u001b[0m\n\u001b[0m\u001b[1;32m      3\u001b[0m \u001b[0;34m\u001b[0m\u001b[0m\n\u001b[1;32m      4\u001b[0m \u001b[0mdivision\u001b[0m\u001b[0;34m(\u001b[0m\u001b[0;36m1\u001b[0m\u001b[0;34m,\u001b[0m\u001b[0;36m0\u001b[0m\u001b[0;34m)\u001b[0m\u001b[0;34m\u001b[0m\u001b[0;34m\u001b[0m\u001b[0m\n",
      "\u001b[0;31mZeroDivisionError\u001b[0m: division by zero"
     ]
    }
   ],
   "source": [
    "%debug\n",
    "division(1,0)"
   ]
  },
  {
   "cell_type": "markdown",
   "metadata": {
    "id": "V8OmD9NoAD4T"
   },
   "source": [
    "# Foros de Comunidad\n",
    "\n",
    "Probablemente notaron que, cada vez que tenían un error en las notebooks de Colab, además de su descripción les aparecía un botón que decía `SEARCH STACKOVERFLOW`. Ese botón copia y pega su error en la casilla de búsqueda de [Stack Overflow](https://stackoverflow.com/), el sitio de preguntas y respuestas de programación más grande del mundo.\n",
    "\n",
    "![Stack Overflow Logo](https://upload.wikimedia.org/wikipedia/commons/thumb/0/02/Stack_Overflow_logo.svg/1920px-Stack_Overflow_logo.svg.png)"
   ]
  }
 ],
 "metadata": {
  "colab": {
   "collapsed_sections": [],
   "name": "M0.U2 Introducción a la Programación - Clase 5.ipynb",
   "provenance": [],
   "toc_visible": true
  },
  "kernelspec": {
   "display_name": "Python 3",
   "language": "python",
   "name": "python3"
  },
  "language_info": {
   "codemirror_mode": {
    "name": "ipython",
    "version": 3
   },
   "file_extension": ".py",
   "mimetype": "text/x-python",
   "name": "python",
   "nbconvert_exporter": "python",
   "pygments_lexer": "ipython3",
   "version": "3.9.4"
  }
 },
 "nbformat": 4,
 "nbformat_minor": 4
}
