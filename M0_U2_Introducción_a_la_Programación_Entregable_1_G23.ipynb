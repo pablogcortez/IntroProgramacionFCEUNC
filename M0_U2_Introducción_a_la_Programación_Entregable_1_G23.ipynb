{
  "nbformat": 4,
  "nbformat_minor": 0,
  "metadata": {
    "colab": {
      "name": "Copia de M0.U2 Introducción a la Programación - Entregable 1.ipynb",
      "provenance": [],
      "collapsed_sections": [
        "mgqhxY2yCx6i"
      ]
    },
    "kernelspec": {
      "name": "python3",
      "display_name": "Python 3"
    }
  },
  "cells": [
    {
      "cell_type": "markdown",
      "metadata": {
        "id": "7cUqukj4_P_A"
      },
      "source": [
        "![img](https://drive.google.com/uc?export=view&id=1kgX98Ziw9LzgBCT2BxChttfrTcBltLej)\n"
      ]
    },
    {
      "cell_type": "markdown",
      "metadata": {
        "id": "mgqhxY2yCx6i"
      },
      "source": [
        "# MÓDULO 0. Unidad 2 - Trabajo Práctico Entregable 1\n",
        "\n",
        "---\n",
        "\n",
        "> Aplicaciones integradoras de los contenidos aprendidos hasta la clase 3.\n",
        "\n",
        "\n"
      ]
    },
    {
      "cell_type": "markdown",
      "metadata": {
        "id": "O63cYKbC1ABf"
      },
      "source": [
        "# Introducción"
      ]
    },
    {
      "cell_type": "markdown",
      "metadata": {
        "id": "9wbTEd7pASze"
      },
      "source": [
        "En la siguiente notebook, se plantean una serie de problemas que deberán resolver con programas, utilizando las herramientas provistas hasta la clase 3.\n",
        "\n",
        "**La fecha de entrega es el 21/05.**\n",
        "\n",
        "*Nota: No es necesaria la importación de librerías aún.*"
      ]
    },
    {
      "cell_type": "markdown",
      "metadata": {
        "id": "8L6F_M5JtFnN"
      },
      "source": [
        "# 1- Transacciones Bancarias\n",
        "\n",
        "Tener una cuenta bancaria es muy común hoy en día. Consideren que se necesita desarrollar una función a la que se le pueda ingresar el saldo inicial, una lista con el tipo de operación y el monto de cada operación realizada en el lapso de un mes, y devuelva el saldo final de ese mes.\n",
        "\n",
        "Además, las posibles operaciones que se pueden realizar son:\n",
        "- Depósito\n",
        "- Transferencia Recibida\n",
        "- Transferencia Realizada\n",
        "- Pago\n",
        "- Extracción\n",
        "\n",
        "Y cada operación tiene una comisión diferente:\n",
        "- Depósito: 0%\n",
        "- Transferencia Recibida: 0.01%\n",
        "- Transferencia Realizada: 0.1%\n",
        "- Pago: 0.5%\n",
        "- Extracción: 1%\n",
        "\n",
        "Finalmente, este tipo de cuenta rinde un interés de 1% mensual, según el saldo al inicio del mes.\n",
        "\n",
        "Desarrollar una función que cumpla con lo especificado."
      ]
    },
    {
      "cell_type": "code",
      "metadata": {
        "colab": {
          "base_uri": "https://localhost:8080/"
        },
        "id": "y7unsHXHwAFw",
        "outputId": "12615e70-2d14-4464-ad25-99a4816eeb4d"
      },
      "source": [
        "# 1- Transacciones Bancarias\n",
        "\n",
        "def saldo_cuenta(si, lista1):\n",
        "  saldo = 0\n",
        "  tr_c = \"Comisión p/transferencia recibida\"\n",
        "  ta_c = \"Comisión p/transferencia realizada\"\n",
        "  pa_c = \"Comisión p/pago\"\n",
        "  ex_c = \"Comisión p/extraccion\"\n",
        "\n",
        "  diccionario_operaciones = {\n",
        "    \"Saldo inicial\": [1, \"\", 0],\n",
        "    \"Depósito\": [1, \"\", 0],\n",
        "    \"Transferencia Recibida\": [1, tr_c, -0.0001],\n",
        "    \"Transferencia Realizada\": [-1, ta_c, -0.001],\n",
        "    \"Pago\": [-1, pa_c, -0.005],\n",
        "    \"Extracción\": [-1, ex_c, -0.01]}\n",
        "\n",
        "  lista_operaciones_actualizada = []\n",
        "\n",
        "  lista_operaciones_actualizada.append((\"Saldo inicial\", si))\n",
        "  if si > 0:\n",
        "      intereses = si * 0.01\n",
        "      saldo = si * 1.01\n",
        "      lista_operaciones_actualizada.append((\"Intereses percibidos\", intereses))\n",
        "  else:\n",
        "      sf = si\n",
        "\n",
        "  rango = 0\n",
        "  rango = len(lista1)\n",
        "\n",
        "  for i in range(rango):\n",
        "      operacion = (lista1[i])[0]\n",
        "      importe_operacion = (lista1[i])[1]\n",
        "      multiplicador = diccionario_operaciones[operacion][0]\n",
        "      operacion_de_comision = diccionario_operaciones[operacion][1]\n",
        "      tasa_comision = diccionario_operaciones[operacion][2]\n",
        "      saldo = saldo + importe_operacion * multiplicador\n",
        "\n",
        "      lista_operaciones_actualizada.append((operacion, importe_operacion * multiplicador))\n",
        "\n",
        "      if operacion_de_comision != \"\":\n",
        "          importe_comision = tasa_comision * importe_operacion\n",
        "          saldo = saldo + importe_comision\n",
        "          lista_operaciones_actualizada.append((operacion_de_comision, importe_comision))\n",
        "      else:\n",
        "          pass\n",
        "  return saldo, lista_operaciones_actualizada, rango\n",
        "\n",
        "\n",
        "# Inputs\n",
        "saldo_inicial = 1650\n",
        "lista_operaciones = [('Depósito', 5000), ('Transferencia Realizada', 100),\n",
        "                     ('Transferencia Recibida', 350), ('Depósito', 1750),\n",
        "                     ('Pago', 250), ('Extracción', 625),('Transferencia Recibida', 533.66)]\n",
        "\n",
        "# Output\n",
        "\n",
        "saldo_final = saldo_cuenta(saldo_inicial, lista_operaciones)[0]\n",
        "lista_operaciones = saldo_cuenta(saldo_inicial, lista_operaciones)[1]\n",
        "\n",
        "for i in range(len(lista_operaciones)):\n",
        "    print(lista_operaciones[i][0] +\": \"+ str(round(lista_operaciones[i][1],2)))\n",
        "\n",
        "print (\"El saldo de su cuenta es \"+str(round(saldo_final,2)))"
      ],
      "execution_count": null,
      "outputs": [
        {
          "output_type": "stream",
          "text": [
            "Saldo inicial: 1650\n",
            "Intereses percibidos: 16.5\n",
            "Depósito: 5000\n",
            "Transferencia Realizada: -100\n",
            "Comisión p/transferencia realizada: -0.1\n",
            "Transferencia Recibida: 350\n",
            "Comisión p/transferencia recibida: -0.04\n",
            "Depósito: 1750\n",
            "Pago: -250\n",
            "Comisión p/pago: -1.25\n",
            "Extracción: -625\n",
            "Comisión p/extraccion: -6.25\n",
            "Transferencia Recibida: 533.66\n",
            "Comisión p/transferencia recibida: -0.05\n",
            "El saldo de su cuenta es 8317.47\n"
          ],
          "name": "stdout"
        }
      ]
    },
    {
      "cell_type": "markdown",
      "metadata": {
        "id": "UynyOMH202d9"
      },
      "source": [
        "# 2- Lista del Super\n",
        "\n",
        "El siguiente diccionario, `productos`, contiene cantidades en stock y precios unitarios de los productos disponibles en un supermercado:"
      ]
    },
    {
      "cell_type": "code",
      "metadata": {
        "id": "1Sf52zG8jp9T"
      },
      "source": [
        "productos = {\n",
        "    'milanesas 1kg': {\n",
        "        'stock': 15.2,\n",
        "        'precio': 832,\n",
        "        'fraccionable': True,\n",
        "    },\n",
        "    'aceite de girasol natura 1.5l': {\n",
        "        'stock': 5,\n",
        "        'precio': 259,\n",
        "        'fraccionable': False,\n",
        "    },\n",
        "    'arroz dos hermanos doble carolina 1kg': {\n",
        "        'stock': 1,\n",
        "        'precio': 135,\n",
        "        'fraccionable': False,\n",
        "    },\n",
        "    'papa 1kg': {\n",
        "        'stock': 35.60,\n",
        "        'precio': 84.9,\n",
        "        'fraccionable': True,\n",
        "    },\n",
        "    'calabacín anquito 1kg': {\n",
        "        'stock': 4.25,\n",
        "        'precio': 59.9,\n",
        "        'fraccionable': True,\n",
        "    },\n",
        "    'cebolla 1kg': {\n",
        "        'stock': 1.2,\n",
        "        'precio': 84.90,\n",
        "        'fraccionable': True,\n",
        "    },\n",
        "    'provenzal alicante 25g': {\n",
        "        'stock': 10,\n",
        "        'precio': 45.5,\n",
        "        'fraccionable': False,\n",
        "    },\n",
        "    'agua 2l': {\n",
        "        'stock': 15,\n",
        "        'precio': 62.90,\n",
        "        'fraccionable': False,\n",
        "    },\n",
        "    'cerveza andes rubia 1l': {\n",
        "        'stock': 1,\n",
        "        'precio': 177.90,\n",
        "        'fraccionable': False,\n",
        "    },\n",
        "    'pure de papas knorr con zapallo 125g': {\n",
        "        'stock': 1,\n",
        "        'precio': 117,\n",
        "        'fraccionable': False,\n",
        "    }\n",
        "}"
      ],
      "execution_count": null,
      "outputs": []
    },
    {
      "cell_type": "markdown",
      "metadata": {
        "id": "qIjNLS0vl8zT"
      },
      "source": [
        "Están planificando una cena en grupo y decidieron que van a comer milanesas con puré mixto y arroz primavera. Tienen que definir la lista de compras para tal fin. Un ejemplo de lista podría ser el siguiente:\n",
        "\n",
        "```\n",
        "mi_lista = [('milanesas', 1.5), ('aceite de girasol', 1),\n",
        "('pure de papas knorr con zapallo', 2), ('arroz', 1),\n",
        "('cerveza andes rubia', 2), ('zanahoria', 0.5)]\n",
        "```\n",
        "\n",
        "1. Elaborar un programa que tenga como input una lista de compras, con las respectivas cantidades para cada producto, y devuelva:\n",
        "\n",
        "- Los productos que no se encuentran disponibles en este supermercado.\n",
        "- Los productos que están en falta.\n",
        "- El monto total del carrito de compras.\n",
        "\n",
        "> Además, considerar que si no hay suficiente stock de un producto, se comprará hasta el máximo posible y que hay productos que se venden por unidad mientras que otros son fraccionables. De los fraccionables, considerar que se puede obtener la cantidad exacta.\n",
        "\n",
        "- Almacenar en un diccionario (`ticket`) el ticket de compra."
      ]
    },
    {
      "cell_type": "code",
      "metadata": {
        "colab": {
          "base_uri": "https://localhost:8080/"
        },
        "id": "OnN5sX9OwCSV",
        "outputId": "0d3bf9ba-a551-482f-8952-a14136f1c823"
      },
      "source": [
        "#PARAMETROS\n",
        "mi_lista = [('milanesas', 1.5), ('aceite de girasol', 1),\n",
        "('pure de papas knorr con zapallo', 2), ('arroz', 1),\n",
        "('cerveza andes rubia', 2), ('zanahoria', 0.5)]\n",
        "#ticket_compra = {}\n",
        "\n",
        "def super(lista_a_comprar):\n",
        "    total = 0 \n",
        "    lista_sin_stock = []\n",
        "    lista_faltante = []\n",
        "    ticket={}\n",
        "    for producto in range(len(lista_a_comprar)):\n",
        "        item = lista_a_comprar[producto][0]\n",
        "        cantidad = lista_a_comprar[producto][1]\n",
        "        i=0\n",
        "        for stock in productos:\n",
        "            i = i + 1\n",
        "            if item in stock:\n",
        "                disponible = productos[stock]['stock']\n",
        "                precio = productos[stock]['precio']\n",
        "                fraccionable = productos[stock]['fraccionable']\n",
        "                if fraccionable == True:\n",
        "                    cantidad = float(cantidad)\n",
        "                else:\n",
        "                    cantidad = int(cantidad)\n",
        "                    \n",
        "                if disponible < cantidad:\n",
        "                    cantidad = disponible\n",
        "                    comprado = cantidad * precio\n",
        "                    lista_faltante.append(item)\n",
        "\n",
        "                else:\n",
        "                    comprado = cantidad * precio\n",
        "\n",
        "                total = round(total + comprado, 2)\n",
        "                #print(item + \" $\" + str(comprado))\n",
        "\n",
        "                ticket[item] = [cantidad, precio, comprado]\n",
        "\n",
        "                break\n",
        "            elif i == len(productos):\n",
        "                lista_sin_stock.append(item)\n",
        "            else:\n",
        "                pass\n",
        "    item = \"TOTAL COMPRA\"\n",
        "    ticket[item] = [total, total, total]\n",
        "    print (\"PRODUCTOS SIN STOCK:\" + str(lista_sin_stock))\n",
        "    print (\"PRODUCTOS CON FALTANTE:\" + str(lista_faltante))\n",
        "    return ticket\n",
        "\n",
        "ticket_compra = super(mi_lista)\n"
      ],
      "execution_count": null,
      "outputs": [
        {
          "output_type": "stream",
          "text": [
            "PRODUCTOS SIN STOCK:['zanahoria']\n",
            "PRODUCTOS CON FALTANTE:['pure de papas knorr con zapallo', 'cerveza andes rubia']\n"
          ],
          "name": "stdout"
        }
      ]
    },
    {
      "cell_type": "markdown",
      "metadata": {
        "id": "l7jifNWaJnDB"
      },
      "source": [
        "2. Solicitar que el usuario ingrese su nombre, apellido y últimos cuatro dígitos de su tarjeta de crédito y, a partir del ticket previamente almacenado, elaborar el cuerpo de un mail automático con los detalles de la compra. Un ejemplo de mail puede ser el siguiente:\n",
        "\n",
        "*Buenos días, Juana López.*\n",
        "\n",
        "*Usted ha realizado una compra por \\$2220,30, con su tarjeta de crédito terminada en 8740. A continuación sigue el detalle de su compra:*\n",
        "\n",
        "*- milanesas x 1.5*\n",
        "  \n",
        "*precio unitario = \\$832.00* || *total = \\$1248.00*\n",
        "\n",
        "*- arroz dos hermanos doble carolina 1kg x 1*\n",
        "  \n",
        "*precio unitario = \\$135.00* || *total = \\$135.00*\n",
        "...\n",
        "\n",
        "*¡Gracias por su compra!*\n",
        "\n",
        "*El Super*"
      ]
    },
    {
      "cell_type": "code",
      "metadata": {
        "colab": {
          "base_uri": "https://localhost:8080/"
        },
        "id": "gFc7eF9BwEpV",
        "outputId": "544c97c0-dfb4-4596-c20d-47c241f016b3"
      },
      "source": [
        "nombre = str(input(\"Ingrese su nombre y apellido: \"))\n",
        "tarjeta = str(input(\"Ingrese sus últimos 4 dígitos: \"))\n",
        "while len(tarjeta) != 4:\n",
        "    tarjeta = str(input(\"Ingrese SOLO últimos 4 dígitos: \"))\n",
        "print(\" \")\n",
        "print(\"Buenos días, \" + nombre +\".\")\n",
        "print(\" \")\n",
        "print(\"Usted ha realizado una compra por $\" + str(ticket_compra[\"TOTAL COMPRA\"][0]) + \", con su tarjeta de crédito terminada en \"+ tarjeta+\".\")\n",
        "print(\" \")\n",
        "print(\"A continuación sigue el detalle de su compra:\")\n",
        "i = 1\n",
        "for a in ticket_compra:\n",
        "  if i < len(ticket_compra):\n",
        "    print(\"- \" + a + \" x \" + str(ticket_compra[a][0]))\n",
        "    print(\"precio unitario = $\" + str(ticket_compra[a][1]) + \" || total = $\" + str(ticket_compra[a][2]))\n",
        "    print(\" \")\n",
        "  else:\n",
        "    print(\"TOTAL = $\" + str(ticket_compra[a][2]))\n",
        "  i = i + 1\n",
        "print(\" \")\n",
        "print(\"¡Gracias por su compra!\")\n",
        "print(\" \")\n",
        "print(\"El Super\")"
      ],
      "execution_count": null,
      "outputs": [
        {
          "output_type": "stream",
          "text": [
            "Ingrese su nombre y apellido: mmm\n",
            "Ingrese sus últimos 4 dígitos: 4444\n",
            " \n",
            "Buenos días, mmm.\n",
            " \n",
            "Usted ha realizado una compra por $1936.9, con su tarjeta de crédito terminada en 4444.\n",
            " \n",
            "A continuación sigue el detalle de su compra:\n",
            "- milanesas x 1.5\n",
            "precio unitario = $832 || total = $1248.0\n",
            " \n",
            "- aceite de girasol x 1\n",
            "precio unitario = $259 || total = $259\n",
            " \n",
            "- pure de papas knorr con zapallo x 1\n",
            "precio unitario = $117 || total = $117\n",
            " \n",
            "- arroz x 1\n",
            "precio unitario = $135 || total = $135\n",
            " \n",
            "- cerveza andes rubia x 1\n",
            "precio unitario = $177.9 || total = $177.9\n",
            " \n",
            "TOTAL = $1936.9\n",
            " \n",
            "¡Gracias por su compra!\n",
            " \n",
            "El Super\n"
          ],
          "name": "stdout"
        }
      ]
    },
    {
      "cell_type": "code",
      "metadata": {
        "id": "1tAES6x2Jm0r"
      },
      "source": [
        ""
      ],
      "execution_count": null,
      "outputs": []
    },
    {
      "cell_type": "markdown",
      "metadata": {
        "id": "iwis_XylF6oQ"
      },
      "source": [
        "# 3- Ingresos de una Empresa\n",
        "\n",
        "Las ventas del mes de abril de una empresa fueron almacenadas en la siguiente lista, que contiene las cantidades vendidas para 10 productos:"
      ]
    },
    {
      "cell_type": "code",
      "metadata": {
        "id": "rhCXVmdmF57z"
      },
      "source": [
        "ventas_q = [1204, 285, 219, 568, 563, 291, 682, 1295, 340, 452]"
      ],
      "execution_count": null,
      "outputs": []
    },
    {
      "cell_type": "markdown",
      "metadata": {
        "id": "HBX1Ok4qGQKn"
      },
      "source": [
        "Y los respectivos precios unitarios del mes se encuentran en esta otra:"
      ]
    },
    {
      "cell_type": "code",
      "metadata": {
        "id": "G4p0eewcGzNf"
      },
      "source": [
        "precios = [123.23, 902.12, 107.3, 109.2, 192.56, 209.32, 909.2, 826.3, 683.32, 325.5]"
      ],
      "execution_count": null,
      "outputs": []
    },
    {
      "cell_type": "markdown",
      "metadata": {
        "id": "KeYmiYfYHOrc"
      },
      "source": [
        "1. A partir de estos datos, calcular e imprimir amigablemente:\n",
        "\n",
        "- Ingreso por producto\n",
        "- Ingreso total\n",
        "- Precio medio\n",
        "- Precio promedio ponderado\n",
        "- Guardar el ingreso calculado por producto en un diccionario, donde la clave sea el producto y el valor, el ingreso.\n",
        "\n",
        "2. El objetivo de ventas para el mes era de 3 millones. Elaborar una función que indique si el objetivo de venta se cumplió o no y qué porcentaje de desvío se produjo. ¿Y si el objetivo de ventas cambiara cada mes, cómo adaptarían la función para poder establecer un objetivo diferente cada vez que se llame la función?"
      ]
    },
    {
      "cell_type": "code",
      "metadata": {
        "colab": {
          "base_uri": "https://localhost:8080/"
        },
        "id": "5kRFw-dimTJ6",
        "outputId": "df569e73-f487-49ba-bfcf-a119e38b365c"
      },
      "source": [
        "ventas_q = [1204, 285, 219, 568, 563, 291, 682, 1295, 340, 452]\n",
        "precios = [123.23, 902.12, 107.3, 109.2, 192.56, 209.32, 909.2, 826.3, 683.32, 325.5]\n",
        "\n",
        "#ALMACENAR LOS DATOS EN UN DICCIONARIO\n",
        "\n",
        "prec_q = {}\n",
        "s = 0\n",
        "for x, y in zip(ventas_q, precios):\n",
        "    s = s +1\n",
        "    l = round(x*y,2)\n",
        "    prec_q [s] = l\n",
        "\n",
        "for clave in prec_q:\n",
        "    print(\"El producto \", clave, \" genera un ingreso de $\", prec_q[clave])\n",
        "\n",
        "#INGRESO TOTAL\n",
        "\n",
        "total1 = 0\n",
        "for claves, valor in prec_q.items():\n",
        "    total1 += valor\n",
        "\n",
        "print(\"El ingreso total es $\", round(total1, 2))\n",
        "\n",
        "#INGRESO PROMEDIO\n",
        "total_p = 0\n",
        "for p in precios:\n",
        "    total_p += p\n",
        "    q_p = len(precios) \n",
        "    prom_p = (total_p/q_p)\n",
        "\n",
        "print(\"El promedio de los precios: $\", round(prom_p, 2))\n",
        "\n",
        "#PRECIO PROMEDIO PONDERADO\n",
        "\n",
        "total_q = 0\n",
        "for b in ventas_q:\n",
        "    total_q += b  \n",
        "\n",
        "prec_p_pond = (total1 / total_q)\n",
        "\n",
        "print(\"El precio promedio ponderado es: $\", round(prec_p_pond, 2))\n",
        "\n",
        "#PUNTO 2 DEL EJERCICIO 3\n",
        "\n",
        "obj_mes = int(input(\"Ingrese el objetivo del mes: \"))\n",
        "\n",
        "def obj_ventas(total_vta_mes, obj_mes):  \n",
        "    desvio = (total_vta_mes-obj_mes)\n",
        "    porc_desv = ((total_vta_mes/obj_mes)-1)*100\n",
        "    if total_vta_mes >= obj_mes:\n",
        "        print(\"El resultado estuvo\", round(porc_desv,2), \"% por encima del objetivo\")\n",
        "    else:\n",
        "        print(\"El resultado estuvo\", round((porc_desv*-1),2),\"% por debajo del objetivo\")\n",
        "        \n",
        "obj_ventas(total1, obj_mes)"
      ],
      "execution_count": null,
      "outputs": [
        {
          "output_type": "stream",
          "text": [
            "El producto  1  genera un ingreso de $ 148368.92\n",
            "El producto  2  genera un ingreso de $ 257104.2\n",
            "El producto  3  genera un ingreso de $ 23498.7\n",
            "El producto  4  genera un ingreso de $ 62025.6\n",
            "El producto  5  genera un ingreso de $ 108411.28\n",
            "El producto  6  genera un ingreso de $ 60912.12\n",
            "El producto  7  genera un ingreso de $ 620074.4\n",
            "El producto  8  genera un ingreso de $ 1070058.5\n",
            "El producto  9  genera un ingreso de $ 232328.8\n",
            "El producto  10  genera un ingreso de $ 147126.0\n",
            "El ingreso total es $ 2729908.52\n",
            "El promedio de los precios: $ 438.8\n",
            "El precio promedio ponderado es: $ 462.77\n",
            "Ingrese el objetivo del mes: 3000000\n",
            "El resultado estuvo 9.0 % por debajo del objetivo\n"
          ],
          "name": "stdout"
        }
      ]
    },
    {
      "cell_type": "markdown",
      "metadata": {
        "id": "IxTNk5c5Clzd"
      },
      "source": [
        "# 4- Análisis del Precio de una Acción\n",
        "\n",
        "Una operacion muy común al manejar datos es la derivada\n",
        "\n",
        "$$ \\frac{d }{dt} (\\mathrm{Datos}) $$\n",
        "\n",
        "Escribir una función que reciba una lista de precios diarios de las acciones de una compañía. Llamemos $n$ a la cantidad de elementos en esta lista. Debe devolver una lista de tamaño $n-1$ con los valores de la *derivada discreta* de la lista recibida.\n",
        "\n",
        "La *derivada discreta* corresponde a la diferencia entre un elemento y su anterior, podemos usar la siguiente definición:\n",
        "* $\\mathrm{derivada}[i]=x[i+1]-x[i]$ \n",
        "\n",
        "Indicar el día en el cual se produjo el mayor salto positivo en el precio de las acciones, y el día en el cual se produjo el mayor salto negativo."
      ]
    },
    {
      "cell_type": "code",
      "metadata": {
        "id": "8cNXMscNC2Hi"
      },
      "source": [
        "# Una lista de ejemplo puede ser el precio de Mercado Libre durante el mes de marzo.\n",
        "# [1713.28, 1642.41, 1528.0, 1458.64, 1470.24, 1369.54, 1452.01, 1435.57, 1570.78, 1550.15, 1581.32, 1550.49,\n",
        "#  1537.62, 1436.17, 1448.89, 1476.11, 1446.65, 1387.85, 1402.5, 1431.97, 1403.42, 1428.03, 1472.14]"
      ],
      "execution_count": null,
      "outputs": []
    },
    {
      "cell_type": "code",
      "metadata": {
        "id": "x--JqKqKuLrV",
        "colab": {
          "base_uri": "https://localhost:8080/"
        },
        "outputId": "fabaf453-5507-4c5f-96c2-d1b2c873dff0"
      },
      "source": [
        "precio = [1713.28, 1642.41, 1528.0, 1458.64, 1470.24, 1369.54, 1452.01, 1435.57, 1570.78, 1550.15, 1581.32, 1550.49, 1537.62, 1436.17, 1448.89, 1476.11, 1446.65, 1387.85, 1402.5, 1431.97, 1403.42, 1428.03, 1472.14]\n",
        "\n",
        "def derivada(lista):\n",
        "  lista_diferencial = []\n",
        "  for i in range(len(lista)):\n",
        "    if i == len(lista) - 1:\n",
        "      break\n",
        "    else:\n",
        "        diferencial = round(lista[i + 1] - lista[i], 4)\n",
        "        lista_diferencial.append([i + 1, diferencial])\n",
        "  return lista_diferencial\n",
        "\n",
        "def orden(lista):\n",
        "    return lista[1]\n",
        "\n",
        "lista_diferencial = derivada(precio)\n",
        "lista_diferencial.sort(key=orden)\n",
        "print(\"Mayor salto negativo el día: \" + str(lista_diferencial[0][0]))\n",
        "print(\"Mayor salto positivo el día: \" + str(lista_diferencial[len(lista_diferencial) - 1][0]))\n",
        "\n"
      ],
      "execution_count": null,
      "outputs": [
        {
          "output_type": "stream",
          "text": [
            "Mayor salto negativo el día: 2\n",
            "Mayor salto positivo el día: 8\n"
          ],
          "name": "stdout"
        }
      ]
    }
  ]
}